{
 "cells": [
  {
   "cell_type": "code",
   "execution_count": 31,
   "id": "60331d05",
   "metadata": {},
   "outputs": [],
   "source": [
    "import pandas as pd\n",
    "import nltk\n",
    "import numpy as np\n",
    "import seaborn as sns \n",
    "import matplotlib.pyplot as plt\n",
    "import os\n",
    "from scipy.stats import randint\n",
    "from io import StringIO\n",
    "from sklearn.feature_extraction.text import TfidfVectorizer\n",
    "from sklearn.feature_selection import chi2\n",
    "from IPython.display import display\n",
    "from sklearn.model_selection import train_test_split\n",
    "from sklearn.feature_extraction.text import TfidfTransformer\n",
    "from sklearn.naive_bayes import MultinomialNB\n",
    "from sklearn.linear_model import LogisticRegression\n",
    "from sklearn.ensemble import RandomForestClassifier\n",
    "from sklearn.svm import LinearSVC\n",
    "from sklearn.model_selection import cross_val_score\n",
    "from sklearn.metrics import confusion_matrix\n",
    "from sklearn import metrics"
   ]
  },
  {
   "cell_type": "code",
   "execution_count": 32,
   "id": "dabbc14b",
   "metadata": {},
   "outputs": [],
   "source": [
    "data = pd.read_csv('Downloads/Reddit-ADPS-Data_2.csv', encoding= 'unicode_escape')"
   ]
  },
  {
   "cell_type": "code",
   "execution_count": 33,
   "id": "d59c1434",
   "metadata": {},
   "outputs": [
    {
     "name": "stdout",
     "output_type": "stream",
     "text": [
      "<class 'pandas.core.frame.DataFrame'>\n",
      "RangeIndex: 8330 entries, 0 to 8329\n",
      "Data columns (total 4 columns):\n",
      " #   Column      Non-Null Count  Dtype  \n",
      "---  ------      --------------  -----  \n",
      " 0   post        8315 non-null   object \n",
      " 1   topics      8330 non-null   object \n",
      " 2   Unnamed: 2  0 non-null      float64\n",
      " 3   Unnamed: 3  4 non-null      object \n",
      "dtypes: float64(1), object(3)\n",
      "memory usage: 260.4+ KB\n"
     ]
    }
   ],
   "source": [
    "data.info()\n"
   ]
  },
  {
   "cell_type": "code",
   "execution_count": 34,
   "id": "c136459c",
   "metadata": {},
   "outputs": [
    {
     "data": {
      "text/plain": [
       "(8330, 4)"
      ]
     },
     "execution_count": 34,
     "metadata": {},
     "output_type": "execute_result"
    }
   ],
   "source": [
    "data.shape\n"
   ]
  },
  {
   "cell_type": "code",
   "execution_count": 35,
   "id": "42dfd04f",
   "metadata": {},
   "outputs": [
    {
     "data": {
      "text/html": [
       "<div>\n",
       "<style scoped>\n",
       "    .dataframe tbody tr th:only-of-type {\n",
       "        vertical-align: middle;\n",
       "    }\n",
       "\n",
       "    .dataframe tbody tr th {\n",
       "        vertical-align: top;\n",
       "    }\n",
       "\n",
       "    .dataframe thead th {\n",
       "        text-align: right;\n",
       "    }\n",
       "</style>\n",
       "<table border=\"1\" class=\"dataframe\">\n",
       "  <thead>\n",
       "    <tr style=\"text-align: right;\">\n",
       "      <th></th>\n",
       "      <th>post</th>\n",
       "      <th>topics</th>\n",
       "      <th>Unnamed: 2</th>\n",
       "      <th>Unnamed: 3</th>\n",
       "    </tr>\n",
       "  </thead>\n",
       "  <tbody>\n",
       "    <tr>\n",
       "      <th>0</th>\n",
       "      <td>Does anyone else get anxious with working? im scared that im going to have to do repairs that cost of money.</td>\n",
       "      <td>anxiety</td>\n",
       "      <td>NaN</td>\n",
       "      <td>NaN</td>\n",
       "    </tr>\n",
       "    <tr>\n",
       "      <th>1</th>\n",
       "      <td>Help with anxiety-inducing fears about school caused by a health issue I'm 35 and planning to go back to grad school, but over the years I developed some eye floaters that I can mostly ignore. They are just out of my visible sight range when reading small books like novels, but I started studying for the GRE with a big textbook and realized how obvious these floaters were now, and they've left me with anxiety about how I'm going to cope with school if, on top of everything else like how I'm no longer used to student life, how grad school is likely the hardest form of school I've ever done etc, add to that this problem with distracting floaters in my eyes that distract and annoy me.\\n\\nI really don't know how to deal here. I am not confident in exposure therapy as I have had these floaters for a few years and really only learned to deal with them by changing my lifestyle such that I don't have to deal with them. It's not a big issue, and some junk in my eyes shouldn't be THAT much of a problem. But just now I just glanced at my book for a few minutes and now I'm dizzy with worry about it.\\n\\nWhat to do?</td>\n",
       "      <td>anxiety</td>\n",
       "      <td>NaN</td>\n",
       "      <td>NaN</td>\n",
       "    </tr>\n",
       "    <tr>\n",
       "      <th>2</th>\n",
       "      <td>Use up what's left and throw the rest away I recently returned from 6 years working overseas.\\n\\nUnfortunately in the last few years my drinking and stimulant became worse and was detrimental to my mental and physical health.\\n\\nI'm doing fine now as far as that is concerned. Attended therapy, clean and sober since November last year.\\n\\nWhen I came back I heard a few of my \"friends\" use the following phrase,\\n\\n\"we'll just use up what's left of him and then throw the rest away\"\\n\\nI've never heard this before. I've always been a people pleasing personality type and I'm struggling hard to determine how to interpret it.\\n\\nMaybe I just don't want to face facts that it means exactly what it says... That by hanging around with these people I put myself in a weak position and they aren't real friends at all.\\n\\nAny thoughts?</td>\n",
       "      <td>anxiety</td>\n",
       "      <td>NaN</td>\n",
       "      <td>NaN</td>\n",
       "    </tr>\n",
       "    <tr>\n",
       "      <th>3</th>\n",
       "      <td>My brain is driving me crazy! Im a perfectionist and think everyone hates me all the time. I literally always worried Ive done something wrong. \\n\\nIm at my first big professional conference in a major us city. I barely slept last night because of a backache and nerves. That and the jet lag is impairing  my functioning and I have blotchy skin and my dress is riding up on my legs and Ive had to pull it down. All I had to do today was register for the conference, but I was confused at every step and feel that everyone thinks Im stupid or hungover or unprofessional or something. Im walking around this city I do not know oblivious and feel embarrassed and stupid. My anxiety is killing me and men keep hitting on me. I havent been away from my husband since we moved in together and I feel so dumb and small. \\n\\nIm so scared for my presentation tomorrow. Can someone either console me or kindly put me out of my misery?</td>\n",
       "      <td>anxiety</td>\n",
       "      <td>NaN</td>\n",
       "      <td>NaN</td>\n",
       "    </tr>\n",
       "    <tr>\n",
       "      <th>4</th>\n",
       "      <td>Does anyone else feel like the worst person ever if they annoy a friend? Hey Reddit. Basically, I have mild anxiety. But something that really messes with my head is when I have a fall out or get a blunt text from a friend to say I annoyed them when I did something. My first response is always I'm sorry (and trying not to say it a million times over) but my mind then goes through this turmoil where I have all these esteem lowering thoughts along the lines of, they'll hate me forever now, or I'm such a horrible person, as well as being filled with guilt for upsetting the person.\\nIt always turns out that whatever I did wrong only annoyed them for a short period of time and before I knew it life is back to normal, I just wish I could control the horrible negative wave that comes over me</td>\n",
       "      <td>anxiety</td>\n",
       "      <td>NaN</td>\n",
       "      <td>NaN</td>\n",
       "    </tr>\n",
       "  </tbody>\n",
       "</table>\n",
       "</div>"
      ],
      "text/plain": [
       "                                                                                                                                                                                                                                                                                                                                                                                                                                                                                                                                                                                                                                                                                                                                                                                                                                                                                                                                                                                                                                                                                                                                                              post  \\\n",
       "0  Does anyone else get anxious with working? im scared that im going to have to do repairs that cost of money.                                                                                                                                                                                                                                                                                                                                                                                                                                                                                                                                                                                                                                                                                                                                                                                                                                                                                                                                                                                                                                                      \n",
       "1  Help with anxiety-inducing fears about school caused by a health issue I'm 35 and planning to go back to grad school, but over the years I developed some eye floaters that I can mostly ignore. They are just out of my visible sight range when reading small books like novels, but I started studying for the GRE with a big textbook and realized how obvious these floaters were now, and they've left me with anxiety about how I'm going to cope with school if, on top of everything else like how I'm no longer used to student life, how grad school is likely the hardest form of school I've ever done etc, add to that this problem with distracting floaters in my eyes that distract and annoy me.\\n\\nI really don't know how to deal here. I am not confident in exposure therapy as I have had these floaters for a few years and really only learned to deal with them by changing my lifestyle such that I don't have to deal with them. It's not a big issue, and some junk in my eyes shouldn't be THAT much of a problem. But just now I just glanced at my book for a few minutes and now I'm dizzy with worry about it.\\n\\nWhat to do?   \n",
       "2  Use up what's left and throw the rest away I recently returned from 6 years working overseas.\\n\\nUnfortunately in the last few years my drinking and stimulant became worse and was detrimental to my mental and physical health.\\n\\nI'm doing fine now as far as that is concerned. Attended therapy, clean and sober since November last year.\\n\\nWhen I came back I heard a few of my \"friends\" use the following phrase,\\n\\n\"we'll just use up what's left of him and then throw the rest away\"\\n\\nI've never heard this before. I've always been a people pleasing personality type and I'm struggling hard to determine how to interpret it.\\n\\nMaybe I just don't want to face facts that it means exactly what it says... That by hanging around with these people I put myself in a weak position and they aren't real friends at all.\\n\\nAny thoughts?                                                                                                                                                                                                                                                                                                  \n",
       "3  My brain is driving me crazy! Im a perfectionist and think everyone hates me all the time. I literally always worried Ive done something wrong. \\n\\nIm at my first big professional conference in a major us city. I barely slept last night because of a backache and nerves. That and the jet lag is impairing  my functioning and I have blotchy skin and my dress is riding up on my legs and Ive had to pull it down. All I had to do today was register for the conference, but I was confused at every step and feel that everyone thinks Im stupid or hungover or unprofessional or something. Im walking around this city I do not know oblivious and feel embarrassed and stupid. My anxiety is killing me and men keep hitting on me. I havent been away from my husband since we moved in together and I feel so dumb and small. \\n\\nIm so scared for my presentation tomorrow. Can someone either console me or kindly put me out of my misery?                                                                                                                                                                                                      \n",
       "4  Does anyone else feel like the worst person ever if they annoy a friend? Hey Reddit. Basically, I have mild anxiety. But something that really messes with my head is when I have a fall out or get a blunt text from a friend to say I annoyed them when I did something. My first response is always I'm sorry (and trying not to say it a million times over) but my mind then goes through this turmoil where I have all these esteem lowering thoughts along the lines of, they'll hate me forever now, or I'm such a horrible person, as well as being filled with guilt for upsetting the person.\\nIt always turns out that whatever I did wrong only annoyed them for a short period of time and before I knew it life is back to normal, I just wish I could control the horrible negative wave that comes over me                                                                                                                                                                                                                                                                                                                                       \n",
       "\n",
       "    topics  Unnamed: 2 Unnamed: 3  \n",
       "0  anxiety NaN          NaN        \n",
       "1  anxiety NaN          NaN        \n",
       "2  anxiety NaN          NaN        \n",
       "3  anxiety NaN          NaN        \n",
       "4  anxiety NaN          NaN        "
      ]
     },
     "execution_count": 35,
     "metadata": {},
     "output_type": "execute_result"
    }
   ],
   "source": [
    "data.head()"
   ]
  },
  {
   "cell_type": "code",
   "execution_count": 36,
   "id": "db71a71b",
   "metadata": {},
   "outputs": [
    {
     "data": {
      "text/plain": [
       "<bound method NDFrame._add_numeric_operations.<locals>.sum of        post  topics  Unnamed: 2  Unnamed: 3\n",
       "0     False  False   True        True      \n",
       "1     False  False   True        True      \n",
       "2     False  False   True        True      \n",
       "3     False  False   True        True      \n",
       "4     False  False   True        True      \n",
       "...     ...    ...    ...         ...      \n",
       "8325  False  False   True        True      \n",
       "8326  False  False   True        True      \n",
       "8327  False  False   True        True      \n",
       "8328  False  False   True        True      \n",
       "8329  False  False   True        True      \n",
       "\n",
       "[8330 rows x 4 columns]>"
      ]
     },
     "execution_count": 36,
     "metadata": {},
     "output_type": "execute_result"
    }
   ],
   "source": [
    "data.isnull().sum"
   ]
  },
  {
   "cell_type": "code",
   "execution_count": 37,
   "id": "c3444d9e",
   "metadata": {},
   "outputs": [],
   "source": [
    "#REMOVING COLUMNS\n",
    "#data.drop(columns=['postId','date','Postno','subtopics','platform'],inplace=True)\n",
    "#REMOVING COLUMNS\n",
    "data.drop(columns=['Unnamed: 2','Unnamed: 3'],inplace=True)"
   ]
  },
  {
   "cell_type": "code",
   "execution_count": 38,
   "id": "ea5f1a53",
   "metadata": {},
   "outputs": [],
   "source": [
    "data.head()\n",
    "data=data.dropna()"
   ]
  },
  {
   "cell_type": "code",
   "execution_count": 39,
   "id": "b9c4f8c3",
   "metadata": {},
   "outputs": [
    {
     "data": {
      "text/plain": [
       "array([['anxiety'],\n",
       "       ['depression'],\n",
       "       ['ptsd'],\n",
       "       ['socialanxiety'],\n",
       "       ['suicidewatch']], dtype=object)"
      ]
     },
     "execution_count": 39,
     "metadata": {},
     "output_type": "execute_result"
    }
   ],
   "source": [
    "#how many unique catagories are there.\n",
    "data.isnull().sum()\n",
    "pd.DataFrame(data.topics.unique()).values"
   ]
  },
  {
   "cell_type": "code",
   "execution_count": 40,
   "id": "315b7325",
   "metadata": {},
   "outputs": [
    {
     "data": {
      "text/plain": [
       "array([['Anxiety'],\n",
       "       ['Depression'],\n",
       "       ['PTSD'],\n",
       "       ['Social Anxiety'],\n",
       "       ['Suicidal thoughts']], dtype=object)"
      ]
     },
     "execution_count": 40,
     "metadata": {},
     "output_type": "execute_result"
    }
   ],
   "source": [
    "# Renaming categories\n",
    "data.replace({'topics':\n",
    "    {'anxiety':'Anxiety',\n",
    "    'depression':'Depression',\n",
    "    'ptsd':'PTSD',\n",
    "    'socialanxiety':'Social Anxiety',\n",
    "    'suicidewatch':'Suicidal thoughts',\n",
    "    }},\n",
    "             inplace=True)\n",
    "    \n",
    "pd.DataFrame(data.topics.unique()).values\n",
    "    \n"
   ]
  },
  {
   "cell_type": "code",
   "execution_count": 41,
   "id": "ce6e121f",
   "metadata": {},
   "outputs": [
    {
     "name": "stderr",
     "output_type": "stream",
     "text": [
      "C:\\Users\\Dell\\AppData\\Local\\Temp\\ipykernel_11332\\504301372.py:2: FutureWarning: The default value of regex will change from True to False in a future version.\n",
      "  data['post']=data['post'].str.replace(r\"http\\S+\",\" \")\n"
     ]
    }
   ],
   "source": [
    "import re\n",
    "data['post']=data['post'].str.replace(r\"http\\S+\",\" \")\n",
    "data['post']= data['post'].str.replace(\"\\n\\n\",\"  \")\n",
    "data['post']= data['post'].apply(lambda x: x.lower())\n",
    "data['post']= data['post'].str.encode('ascii', 'ignore').str.decode('ascii')"
   ]
  },
  {
   "cell_type": "code",
   "execution_count": 42,
   "id": "03d4020d",
   "metadata": {},
   "outputs": [
    {
     "data": {
      "text/html": [
       "<div>\n",
       "<style scoped>\n",
       "    .dataframe tbody tr th:only-of-type {\n",
       "        vertical-align: middle;\n",
       "    }\n",
       "\n",
       "    .dataframe tbody tr th {\n",
       "        vertical-align: top;\n",
       "    }\n",
       "\n",
       "    .dataframe thead th {\n",
       "        text-align: right;\n",
       "    }\n",
       "</style>\n",
       "<table border=\"1\" class=\"dataframe\">\n",
       "  <thead>\n",
       "    <tr style=\"text-align: right;\">\n",
       "      <th></th>\n",
       "      <th>post</th>\n",
       "      <th>topics</th>\n",
       "    </tr>\n",
       "  </thead>\n",
       "  <tbody>\n",
       "    <tr>\n",
       "      <th>0</th>\n",
       "      <td>does anyone else get anxious with working? im scared that im going to have to do repairs that cost of money.</td>\n",
       "      <td>Anxiety</td>\n",
       "    </tr>\n",
       "    <tr>\n",
       "      <th>1</th>\n",
       "      <td>help with anxiety-inducing fears about school caused by a health issue i'm 35 and planning to go back to grad school, but over the years i developed some eye floaters that i can mostly ignore. they are just out of my visible sight range when reading small books like novels, but i started studying for the gre with a big textbook and realized how obvious these floaters were now, and they've left me with anxiety about how i'm going to cope with school if, on top of everything else like how i'm no longer used to student life, how grad school is likely the hardest form of school i've ever done etc, add to that this problem with distracting floaters in my eyes that distract and annoy me.  i really don't know how to deal here. i am not confident in exposure therapy as i have had these floaters for a few years and really only learned to deal with them by changing my lifestyle such that i don't have to deal with them. it's not a big issue, and some junk in my eyes shouldn't be that much of a problem. but just now i just glanced at my book for a few minutes and now i'm dizzy with worry about it.  what to do?</td>\n",
       "      <td>Anxiety</td>\n",
       "    </tr>\n",
       "    <tr>\n",
       "      <th>2</th>\n",
       "      <td>use up what's left and throw the rest away i recently returned from 6 years working overseas.  unfortunately in the last few years my drinking and stimulant became worse and was detrimental to my mental and physical health.  i'm doing fine now as far as that is concerned. attended therapy, clean and sober since november last year.  when i came back i heard a few of my \"friends\" use the following phrase,  \"we'll just use up what's left of him and then throw the rest away\"  i've never heard this before. i've always been a people pleasing personality type and i'm struggling hard to determine how to interpret it.  maybe i just don't want to face facts that it means exactly what it says... that by hanging around with these people i put myself in a weak position and they aren't real friends at all.  any thoughts?</td>\n",
       "      <td>Anxiety</td>\n",
       "    </tr>\n",
       "    <tr>\n",
       "      <th>3</th>\n",
       "      <td>my brain is driving me crazy! im a perfectionist and think everyone hates me all the time. i literally always worried ive done something wrong.   im at my first big professional conference in a major us city. i barely slept last night because of a backache and nerves. that and the jet lag is impairing  my functioning and i have blotchy skin and my dress is riding up on my legs and ive had to pull it down. all i had to do today was register for the conference, but i was confused at every step and feel that everyone thinks im stupid or hungover or unprofessional or something. im walking around this city i do not know oblivious and feel embarrassed and stupid. my anxiety is killing me and men keep hitting on me. i havent been away from my husband since we moved in together and i feel so dumb and small.   im so scared for my presentation tomorrow. can someone either console me or kindly put me out of my misery?</td>\n",
       "      <td>Anxiety</td>\n",
       "    </tr>\n",
       "    <tr>\n",
       "      <th>4</th>\n",
       "      <td>does anyone else feel like the worst person ever if they annoy a friend? hey reddit. basically, i have mild anxiety. but something that really messes with my head is when i have a fall out or get a blunt text from a friend to say i annoyed them when i did something. my first response is always i'm sorry (and trying not to say it a million times over) but my mind then goes through this turmoil where i have all these esteem lowering thoughts along the lines of, they'll hate me forever now, or i'm such a horrible person, as well as being filled with guilt for upsetting the person.\\nit always turns out that whatever i did wrong only annoyed them for a short period of time and before i knew it life is back to normal, i just wish i could control the horrible negative wave that comes over me</td>\n",
       "      <td>Anxiety</td>\n",
       "    </tr>\n",
       "    <tr>\n",
       "      <th>...</th>\n",
       "      <td>...</td>\n",
       "      <td>...</td>\n",
       "    </tr>\n",
       "    <tr>\n",
       "      <th>8325</th>\n",
       "      <td>alone, useless and horribly guilty reaching out here because i have nothing else. no friends or family or anything. no money or hobbies or interests or a career or a future. not healthy in body or in the mind. i've been trying harder than i have ever tried and can't do it.</td>\n",
       "      <td>Suicidal thoughts</td>\n",
       "    </tr>\n",
       "    <tr>\n",
       "      <th>8326</th>\n",
       "      <td>am i not understanding/seeing something? this is not a cry for help, this is not me asking for prayers and sympathy, id like this to be more of an intellectual discussion.  what im about to say is coming from a point of view that im aware may be negative and skewed due to events/observations that conditioned my subconscious to think this way.   anyway, i genuinely just dont see the point of this life. to me, it seems very high pain-low/mediocre reward.   in just about every situation, there are 4 things that usually happen with experiences you have, goals you have and just life in general that i have a problem with. that being:  1) the necessary hard-ships/lessons you endure in life.  2) the reward you get out of it.  3) was the reward even worth it?  4) why any of it at all?  number 4 falls into more if a philosophical discussion, but still contributes to why i have suicidal thoughts. i think the 4 above points apply to literally everything, but ill throw out a couple of examples in the format of those points to help illustrate my issue.  1) a young kid gets his/her heart crushed in high school by a girl/boy. (maybe more than once)  2) kid gains a new understanding of what love really is, or at least what it isnt and maybe gains a better idea of what they want in a partner.  3) this may happen a few more times into adulthood, but theyre finally at a point where they may have found someone they choose to settle with. cool, but of course no matter what, issues still occur, and recurr with any relationship.  4) why any of this at all?  a different example:  1) guy grows up in poverty  2) all of those years in poverty gave him this crazy drive to make tons of money and live a life he never had.  3) he finally has a big house, nice car, and things hes always wanted. and in my mind, im like ok.. i just went through absolute hell to have these things.. what now?. which leads me to number 4..  4) why any if that at all?  \\nthe way i break down these experiences in my little 1-4 format may be flawed, 3 and 4 to me are related and can overlap, but anyway..  4 is the main one for me, its just kind of the classic why are we even here? question. ok so you learn these lessons in life and eventually find happiness. ok, for what? like ultimately what are we even doing here? are we here just to experience things in these little fleshy suits we have on? why? how does what we experience in our lives here tie into any signifigance into anything at all?  so the combination of the sometimes unbearable pain it takes to finally experience happiness, and not seeing the point of any of it in the first place, makes me not want to live anymore.  im not the best at writing/typing, im also not the best at explaining things, but i tried my best to get this off my chest. thanks to any that took the time to read.</td>\n",
       "      <td>Suicidal thoughts</td>\n",
       "    </tr>\n",
       "    <tr>\n",
       "      <th>8327</th>\n",
       "      <td>just a bad day so today has been a stressful day, almost couldn't pay rent, found out my mother has tumors in her lungs and they might be cancerous, my significant other got extremely pissed off at me because i forgot today was our anniversary because of the other stuff that piled on, ended up breaking my phone and now being constantly told by my other half that life would be better without me in it since all i do is make them miserable. i just want to end it all but because i have kids i don't want them to live with it. i am just at a loss.  edit: forgot to add my spouse thinks i am cheating on them while i am just crying.</td>\n",
       "      <td>Suicidal thoughts</td>\n",
       "    </tr>\n",
       "    <tr>\n",
       "      <th>8328</th>\n",
       "      <td>when im dead maybe the suffering will all come to an end. sorry for poor grammar. i have a plan this plan is to hang myself in my wooded area of my property. i dont feel safe not even at my school, my parents locked all of the knives away and that doesnt matter. i found a new way glass. it cuts much deeper and i bleed more. \\n      \\n        for more background information i live with my parents and two other siblings im the youngest and am a freshmen in school. i have been sad since 6th grade and suicidal since 7th grade. ive tried taking my life once by suffocation with an extension cord and i lived. ever since my depression and suicidal thoughts have gotten worse. i now know how to kill myself and will do before christmas. i havent set a date but the next day when i get too low my parents and siblings wont see me. when they go searching in the woods all theyll see is my body hanging from a tree. im sorry im too late to fix and im sorry.</td>\n",
       "      <td>Suicidal thoughts</td>\n",
       "    </tr>\n",
       "    <tr>\n",
       "      <th>8329</th>\n",
       "      <td>fuck i've been wanting to kill myself for about 20 years now.  everything i do just makes me think about it more no matter how much i might be lying to myself about enjoying \"the moment\".  i trust no one when it comes to this as basically everyone i've ever opened up to about this has just called the police and the night ends w me naked in solitary confinement.  my plan has been for the last couple years to wait for my parents to die so they don't have to deal with it but i'm leaning closer and closer to saying fuck it to that.  i have a sister but she has a family and they would be essentially unaffected by my absence. i'm willing to hire someone to kill me at this point because i'm pretty sure i'm just too cowardly a piece of shit to do it myself.</td>\n",
       "      <td>Suicidal thoughts</td>\n",
       "    </tr>\n",
       "  </tbody>\n",
       "</table>\n",
       "<p>8315 rows × 2 columns</p>\n",
       "</div>"
      ],
      "text/plain": [
       "                                                                                                                                                                                                                                                                                                                                                                                                                                                                                                                                                                                                                                                                                                                                                                                                                                                                                                                                                                                                                                                                                                                                                                                                                                                                                                                                                                                                                                                                                                                                                                                                                                                                                                                                                                                                                                                                                                                                                                                                                                                                                                                                                                                                                                                                                                                                                                                                                                                                                                                                                                                                                                                                                                                                                                                                                                                                                                                                                  post  \\\n",
       "0     does anyone else get anxious with working? im scared that im going to have to do repairs that cost of money.                                                                                                                                                                                                                                                                                                                                                                                                                                                                                                                                                                                                                                                                                                                                                                                                                                                                                                                                                                                                                                                                                                                                                                                                                                                                                                                                                                                                                                                                                                                                                                                                                                                                                                                                                                                                                                                                                                                                                                                                                                                                                                                                                                                                                                                                                                                                                                                                                                                                                                                                                                                                                                                                                                                                                                                                                                       \n",
       "1     help with anxiety-inducing fears about school caused by a health issue i'm 35 and planning to go back to grad school, but over the years i developed some eye floaters that i can mostly ignore. they are just out of my visible sight range when reading small books like novels, but i started studying for the gre with a big textbook and realized how obvious these floaters were now, and they've left me with anxiety about how i'm going to cope with school if, on top of everything else like how i'm no longer used to student life, how grad school is likely the hardest form of school i've ever done etc, add to that this problem with distracting floaters in my eyes that distract and annoy me.  i really don't know how to deal here. i am not confident in exposure therapy as i have had these floaters for a few years and really only learned to deal with them by changing my lifestyle such that i don't have to deal with them. it's not a big issue, and some junk in my eyes shouldn't be that much of a problem. but just now i just glanced at my book for a few minutes and now i'm dizzy with worry about it.  what to do?                                                                                                                                                                                                                                                                                                                                                                                                                                                                                                                                                                                                                                                                                                                                                                                                                                                                                                                                                                                                                                                                                                                                                                                                                                                                                                                                                                                                                                                                                                                                                                                                                                                                                                                                                                                        \n",
       "2     use up what's left and throw the rest away i recently returned from 6 years working overseas.  unfortunately in the last few years my drinking and stimulant became worse and was detrimental to my mental and physical health.  i'm doing fine now as far as that is concerned. attended therapy, clean and sober since november last year.  when i came back i heard a few of my \"friends\" use the following phrase,  \"we'll just use up what's left of him and then throw the rest away\"  i've never heard this before. i've always been a people pleasing personality type and i'm struggling hard to determine how to interpret it.  maybe i just don't want to face facts that it means exactly what it says... that by hanging around with these people i put myself in a weak position and they aren't real friends at all.  any thoughts?                                                                                                                                                                                                                                                                                                                                                                                                                                                                                                                                                                                                                                                                                                                                                                                                                                                                                                                                                                                                                                                                                                                                                                                                                                                                                                                                                                                                                                                                                                                                                                                                                                                                                                                                                                                                                                                                                                                                                                                                                                                                                                 \n",
       "3     my brain is driving me crazy! im a perfectionist and think everyone hates me all the time. i literally always worried ive done something wrong.   im at my first big professional conference in a major us city. i barely slept last night because of a backache and nerves. that and the jet lag is impairing  my functioning and i have blotchy skin and my dress is riding up on my legs and ive had to pull it down. all i had to do today was register for the conference, but i was confused at every step and feel that everyone thinks im stupid or hungover or unprofessional or something. im walking around this city i do not know oblivious and feel embarrassed and stupid. my anxiety is killing me and men keep hitting on me. i havent been away from my husband since we moved in together and i feel so dumb and small.   im so scared for my presentation tomorrow. can someone either console me or kindly put me out of my misery?                                                                                                                                                                                                                                                                                                                                                                                                                                                                                                                                                                                                                                                                                                                                                                                                                                                                                                                                                                                                                                                                                                                                                                                                                                                                                                                                                                                                                                                                                                                                                                                                                                                                                                                                                                                                                                                                                                                                                                                           \n",
       "4     does anyone else feel like the worst person ever if they annoy a friend? hey reddit. basically, i have mild anxiety. but something that really messes with my head is when i have a fall out or get a blunt text from a friend to say i annoyed them when i did something. my first response is always i'm sorry (and trying not to say it a million times over) but my mind then goes through this turmoil where i have all these esteem lowering thoughts along the lines of, they'll hate me forever now, or i'm such a horrible person, as well as being filled with guilt for upsetting the person.\\nit always turns out that whatever i did wrong only annoyed them for a short period of time and before i knew it life is back to normal, i just wish i could control the horrible negative wave that comes over me                                                                                                                                                                                                                                                                                                                                                                                                                                                                                                                                                                                                                                                                                                                                                                                                                                                                                                                                                                                                                                                                                                                                                                                                                                                                                                                                                                                                                                                                                                                                                                                                                                                                                                                                                                                                                                                                                                                                                                                                                                                                                                                        \n",
       "...                                                                                                                                                                                                                                                                                                                                                                                                                                                                                                                                                                                                                                                                                                                                                                                                                           ...                                                                                                                                                                                                                                                                                                                                                                                                                                                                                                                                                                                                                                                                                                                                                                                                                                                                                                                                                                                                                                                                                                                                                                                                                                                                                                                                                                                                                                                                                                                                                                                                                                                                                                                                                                                                                                                                                                                                                                                                                                                                                                                        \n",
       "8325  alone, useless and horribly guilty reaching out here because i have nothing else. no friends or family or anything. no money or hobbies or interests or a career or a future. not healthy in body or in the mind. i've been trying harder than i have ever tried and can't do it.                                                                                                                                                                                                                                                                                                                                                                                                                                                                                                                                                                                                                                                                                                                                                                                                                                                                                                                                                                                                                                                                                                                                                                                                                                                                                                                                                                                                                                                                                                                                                                                                                                                                                                                                                                                                                                                                                                                                                                                                                                                                                                                                                                                                                                                                                                                                                                                                                                                                                                                                                                                                                                                                  \n",
       "8326  am i not understanding/seeing something? this is not a cry for help, this is not me asking for prayers and sympathy, id like this to be more of an intellectual discussion.  what im about to say is coming from a point of view that im aware may be negative and skewed due to events/observations that conditioned my subconscious to think this way.   anyway, i genuinely just dont see the point of this life. to me, it seems very high pain-low/mediocre reward.   in just about every situation, there are 4 things that usually happen with experiences you have, goals you have and just life in general that i have a problem with. that being:  1) the necessary hard-ships/lessons you endure in life.  2) the reward you get out of it.  3) was the reward even worth it?  4) why any of it at all?  number 4 falls into more if a philosophical discussion, but still contributes to why i have suicidal thoughts. i think the 4 above points apply to literally everything, but ill throw out a couple of examples in the format of those points to help illustrate my issue.  1) a young kid gets his/her heart crushed in high school by a girl/boy. (maybe more than once)  2) kid gains a new understanding of what love really is, or at least what it isnt and maybe gains a better idea of what they want in a partner.  3) this may happen a few more times into adulthood, but theyre finally at a point where they may have found someone they choose to settle with. cool, but of course no matter what, issues still occur, and recurr with any relationship.  4) why any of this at all?  a different example:  1) guy grows up in poverty  2) all of those years in poverty gave him this crazy drive to make tons of money and live a life he never had.  3) he finally has a big house, nice car, and things hes always wanted. and in my mind, im like ok.. i just went through absolute hell to have these things.. what now?. which leads me to number 4..  4) why any if that at all?  \\nthe way i break down these experiences in my little 1-4 format may be flawed, 3 and 4 to me are related and can overlap, but anyway..  4 is the main one for me, its just kind of the classic why are we even here? question. ok so you learn these lessons in life and eventually find happiness. ok, for what? like ultimately what are we even doing here? are we here just to experience things in these little fleshy suits we have on? why? how does what we experience in our lives here tie into any signifigance into anything at all?  so the combination of the sometimes unbearable pain it takes to finally experience happiness, and not seeing the point of any of it in the first place, makes me not want to live anymore.  im not the best at writing/typing, im also not the best at explaining things, but i tried my best to get this off my chest. thanks to any that took the time to read.   \n",
       "8327  just a bad day so today has been a stressful day, almost couldn't pay rent, found out my mother has tumors in her lungs and they might be cancerous, my significant other got extremely pissed off at me because i forgot today was our anniversary because of the other stuff that piled on, ended up breaking my phone and now being constantly told by my other half that life would be better without me in it since all i do is make them miserable. i just want to end it all but because i have kids i don't want them to live with it. i am just at a loss.  edit: forgot to add my spouse thinks i am cheating on them while i am just crying.                                                                                                                                                                                                                                                                                                                                                                                                                                                                                                                                                                                                                                                                                                                                                                                                                                                                                                                                                                                                                                                                                                                                                                                                                                                                                                                                                                                                                                                                                                                                                                                                                                                                                                                                                                                                                                                                                                                                                                                                                                                                                                                                                                                                                                                                                            \n",
       "8328  when im dead maybe the suffering will all come to an end. sorry for poor grammar. i have a plan this plan is to hang myself in my wooded area of my property. i dont feel safe not even at my school, my parents locked all of the knives away and that doesnt matter. i found a new way glass. it cuts much deeper and i bleed more. \\n      \\n        for more background information i live with my parents and two other siblings im the youngest and am a freshmen in school. i have been sad since 6th grade and suicidal since 7th grade. ive tried taking my life once by suffocation with an extension cord and i lived. ever since my depression and suicidal thoughts have gotten worse. i now know how to kill myself and will do before christmas. i havent set a date but the next day when i get too low my parents and siblings wont see me. when they go searching in the woods all theyll see is my body hanging from a tree. im sorry im too late to fix and im sorry.                                                                                                                                                                                                                                                                                                                                                                                                                                                                                                                                                                                                                                                                                                                                                                                                                                                                                                                                                                                                                                                                                                                                                                                                                                                                                                                                                                                                                                                                                                                                                                                                                                                                                                                                                                                                                                                                                                                                                          \n",
       "8329  fuck i've been wanting to kill myself for about 20 years now.  everything i do just makes me think about it more no matter how much i might be lying to myself about enjoying \"the moment\".  i trust no one when it comes to this as basically everyone i've ever opened up to about this has just called the police and the night ends w me naked in solitary confinement.  my plan has been for the last couple years to wait for my parents to die so they don't have to deal with it but i'm leaning closer and closer to saying fuck it to that.  i have a sister but she has a family and they would be essentially unaffected by my absence. i'm willing to hire someone to kill me at this point because i'm pretty sure i'm just too cowardly a piece of shit to do it myself.                                                                                                                                                                                                                                                                                                                                                                                                                                                                                                                                                                                                                                                                                                                                                                                                                                                                                                                                                                                                                                                                                                                                                                                                                                                                                                                                                                                                                                                                                                                                                                                                                                                                                                                                                                                                                                                                                                                                                                                                                                                                                                                                                            \n",
       "\n",
       "                 topics  \n",
       "0     Anxiety            \n",
       "1     Anxiety            \n",
       "2     Anxiety            \n",
       "3     Anxiety            \n",
       "4     Anxiety            \n",
       "...       ...            \n",
       "8325  Suicidal thoughts  \n",
       "8326  Suicidal thoughts  \n",
       "8327  Suicidal thoughts  \n",
       "8328  Suicidal thoughts  \n",
       "8329  Suicidal thoughts  \n",
       "\n",
       "[8315 rows x 2 columns]"
      ]
     },
     "metadata": {},
     "output_type": "display_data"
    }
   ],
   "source": [
    "display(data)"
   ]
  },
  {
   "cell_type": "code",
   "execution_count": 43,
   "id": "5f936a65",
   "metadata": {},
   "outputs": [],
   "source": [
    "#Now, we will map each of these categories to a number, so that our model can understand it in a better way and we will save this in a new column named ‘category_id’. Where each of the 12 categories is represented in numerical.\n",
    "# Create a new column 'category_id' with encoded categories \n",
    "data['category_id'] = data['topics'].factorize()[0]\n",
    "category_id_df = data[['topics', 'category_id']].drop_duplicates()\n"
   ]
  },
  {
   "cell_type": "code",
   "execution_count": 44,
   "id": "7498dff8",
   "metadata": {},
   "outputs": [
    {
     "data": {
      "text/html": [
       "<div>\n",
       "<style scoped>\n",
       "    .dataframe tbody tr th:only-of-type {\n",
       "        vertical-align: middle;\n",
       "    }\n",
       "\n",
       "    .dataframe tbody tr th {\n",
       "        vertical-align: top;\n",
       "    }\n",
       "\n",
       "    .dataframe thead th {\n",
       "        text-align: right;\n",
       "    }\n",
       "</style>\n",
       "<table border=\"1\" class=\"dataframe\">\n",
       "  <thead>\n",
       "    <tr style=\"text-align: right;\">\n",
       "      <th></th>\n",
       "      <th>post</th>\n",
       "      <th>topics</th>\n",
       "      <th>category_id</th>\n",
       "    </tr>\n",
       "  </thead>\n",
       "  <tbody>\n",
       "    <tr>\n",
       "      <th>0</th>\n",
       "      <td>does anyone else get anxious with working? im scared that im going to have to do repairs that cost of money.</td>\n",
       "      <td>Anxiety</td>\n",
       "      <td>0</td>\n",
       "    </tr>\n",
       "    <tr>\n",
       "      <th>1</th>\n",
       "      <td>help with anxiety-inducing fears about school caused by a health issue i'm 35 and planning to go back to grad school, but over the years i developed some eye floaters that i can mostly ignore. they are just out of my visible sight range when reading small books like novels, but i started studying for the gre with a big textbook and realized how obvious these floaters were now, and they've left me with anxiety about how i'm going to cope with school if, on top of everything else like how i'm no longer used to student life, how grad school is likely the hardest form of school i've ever done etc, add to that this problem with distracting floaters in my eyes that distract and annoy me.  i really don't know how to deal here. i am not confident in exposure therapy as i have had these floaters for a few years and really only learned to deal with them by changing my lifestyle such that i don't have to deal with them. it's not a big issue, and some junk in my eyes shouldn't be that much of a problem. but just now i just glanced at my book for a few minutes and now i'm dizzy with worry about it.  what to do?</td>\n",
       "      <td>Anxiety</td>\n",
       "      <td>0</td>\n",
       "    </tr>\n",
       "    <tr>\n",
       "      <th>2</th>\n",
       "      <td>use up what's left and throw the rest away i recently returned from 6 years working overseas.  unfortunately in the last few years my drinking and stimulant became worse and was detrimental to my mental and physical health.  i'm doing fine now as far as that is concerned. attended therapy, clean and sober since november last year.  when i came back i heard a few of my \"friends\" use the following phrase,  \"we'll just use up what's left of him and then throw the rest away\"  i've never heard this before. i've always been a people pleasing personality type and i'm struggling hard to determine how to interpret it.  maybe i just don't want to face facts that it means exactly what it says... that by hanging around with these people i put myself in a weak position and they aren't real friends at all.  any thoughts?</td>\n",
       "      <td>Anxiety</td>\n",
       "      <td>0</td>\n",
       "    </tr>\n",
       "    <tr>\n",
       "      <th>3</th>\n",
       "      <td>my brain is driving me crazy! im a perfectionist and think everyone hates me all the time. i literally always worried ive done something wrong.   im at my first big professional conference in a major us city. i barely slept last night because of a backache and nerves. that and the jet lag is impairing  my functioning and i have blotchy skin and my dress is riding up on my legs and ive had to pull it down. all i had to do today was register for the conference, but i was confused at every step and feel that everyone thinks im stupid or hungover or unprofessional or something. im walking around this city i do not know oblivious and feel embarrassed and stupid. my anxiety is killing me and men keep hitting on me. i havent been away from my husband since we moved in together and i feel so dumb and small.   im so scared for my presentation tomorrow. can someone either console me or kindly put me out of my misery?</td>\n",
       "      <td>Anxiety</td>\n",
       "      <td>0</td>\n",
       "    </tr>\n",
       "    <tr>\n",
       "      <th>4</th>\n",
       "      <td>does anyone else feel like the worst person ever if they annoy a friend? hey reddit. basically, i have mild anxiety. but something that really messes with my head is when i have a fall out or get a blunt text from a friend to say i annoyed them when i did something. my first response is always i'm sorry (and trying not to say it a million times over) but my mind then goes through this turmoil where i have all these esteem lowering thoughts along the lines of, they'll hate me forever now, or i'm such a horrible person, as well as being filled with guilt for upsetting the person.\\nit always turns out that whatever i did wrong only annoyed them for a short period of time and before i knew it life is back to normal, i just wish i could control the horrible negative wave that comes over me</td>\n",
       "      <td>Anxiety</td>\n",
       "      <td>0</td>\n",
       "    </tr>\n",
       "  </tbody>\n",
       "</table>\n",
       "</div>"
      ],
      "text/plain": [
       "                                                                                                                                                                                                                                                                                                                                                                                                                                                                                                                                                                                                                                                                                                                                                                                                                                                                                                                                                                                                                                                                                                                                                          post  \\\n",
       "0  does anyone else get anxious with working? im scared that im going to have to do repairs that cost of money.                                                                                                                                                                                                                                                                                                                                                                                                                                                                                                                                                                                                                                                                                                                                                                                                                                                                                                                                                                                                                                                  \n",
       "1  help with anxiety-inducing fears about school caused by a health issue i'm 35 and planning to go back to grad school, but over the years i developed some eye floaters that i can mostly ignore. they are just out of my visible sight range when reading small books like novels, but i started studying for the gre with a big textbook and realized how obvious these floaters were now, and they've left me with anxiety about how i'm going to cope with school if, on top of everything else like how i'm no longer used to student life, how grad school is likely the hardest form of school i've ever done etc, add to that this problem with distracting floaters in my eyes that distract and annoy me.  i really don't know how to deal here. i am not confident in exposure therapy as i have had these floaters for a few years and really only learned to deal with them by changing my lifestyle such that i don't have to deal with them. it's not a big issue, and some junk in my eyes shouldn't be that much of a problem. but just now i just glanced at my book for a few minutes and now i'm dizzy with worry about it.  what to do?   \n",
       "2  use up what's left and throw the rest away i recently returned from 6 years working overseas.  unfortunately in the last few years my drinking and stimulant became worse and was detrimental to my mental and physical health.  i'm doing fine now as far as that is concerned. attended therapy, clean and sober since november last year.  when i came back i heard a few of my \"friends\" use the following phrase,  \"we'll just use up what's left of him and then throw the rest away\"  i've never heard this before. i've always been a people pleasing personality type and i'm struggling hard to determine how to interpret it.  maybe i just don't want to face facts that it means exactly what it says... that by hanging around with these people i put myself in a weak position and they aren't real friends at all.  any thoughts?                                                                                                                                                                                                                                                                                                            \n",
       "3  my brain is driving me crazy! im a perfectionist and think everyone hates me all the time. i literally always worried ive done something wrong.   im at my first big professional conference in a major us city. i barely slept last night because of a backache and nerves. that and the jet lag is impairing  my functioning and i have blotchy skin and my dress is riding up on my legs and ive had to pull it down. all i had to do today was register for the conference, but i was confused at every step and feel that everyone thinks im stupid or hungover or unprofessional or something. im walking around this city i do not know oblivious and feel embarrassed and stupid. my anxiety is killing me and men keep hitting on me. i havent been away from my husband since we moved in together and i feel so dumb and small.   im so scared for my presentation tomorrow. can someone either console me or kindly put me out of my misery?                                                                                                                                                                                                      \n",
       "4  does anyone else feel like the worst person ever if they annoy a friend? hey reddit. basically, i have mild anxiety. but something that really messes with my head is when i have a fall out or get a blunt text from a friend to say i annoyed them when i did something. my first response is always i'm sorry (and trying not to say it a million times over) but my mind then goes through this turmoil where i have all these esteem lowering thoughts along the lines of, they'll hate me forever now, or i'm such a horrible person, as well as being filled with guilt for upsetting the person.\\nit always turns out that whatever i did wrong only annoyed them for a short period of time and before i knew it life is back to normal, i just wish i could control the horrible negative wave that comes over me                                                                                                                                                                                                                                                                                                                                   \n",
       "\n",
       "    topics  category_id  \n",
       "0  Anxiety  0            \n",
       "1  Anxiety  0            \n",
       "2  Anxiety  0            \n",
       "3  Anxiety  0            \n",
       "4  Anxiety  0            "
      ]
     },
     "execution_count": 44,
     "metadata": {},
     "output_type": "execute_result"
    }
   ],
   "source": [
    "# Dictionaries for future use\n",
    "category_to_id = dict(category_id_df.values)\n",
    "id_to_category = dict(category_id_df[['category_id', 'topics']].values)\n",
    "# New dataframe\n",
    "data.head()"
   ]
  },
  {
   "cell_type": "code",
   "execution_count": 45,
   "id": "b59ab472",
   "metadata": {},
   "outputs": [
    {
     "data": {
      "text/plain": [
       "{'Anxiety': 0,\n",
       " 'Depression': 1,\n",
       " 'PTSD': 2,\n",
       " 'Social Anxiety': 3,\n",
       " 'Suicidal thoughts': 4}"
      ]
     },
     "execution_count": 45,
     "metadata": {},
     "output_type": "execute_result"
    }
   ],
   "source": [
    "category_to_id"
   ]
  },
  {
   "cell_type": "code",
   "execution_count": 46,
   "id": "06630590",
   "metadata": {},
   "outputs": [
    {
     "data": {
      "image/png": "[encoded data removed]",
      "text/plain": [
       "<Figure size 576x432 with 1 Axes>"
      ]
     },
     "metadata": {
      "needs_background": "light"
     },
     "output_type": "display_data"
    }
   ],
   "source": [
    "fig = plt.figure(figsize=(8,6))\n",
    "colors = ['green','darkblue','yellow',\n",
    "    'black','blue','orange']\n",
    "data.groupby('topics').post.count().sort_values().plot.barh(\n",
    "    ylim=0, color=colors, title= 'NUMBER OF POSTS IN EACH CATEGORY')\n",
    "plt.xlabel('Number of ocurrences', fontsize = 10);"
   ]
  },
  {
   "cell_type": "code",
   "execution_count": 47,
   "id": "03bc39bc",
   "metadata": {},
   "outputs": [
    {
     "name": "stderr",
     "output_type": "stream",
     "text": [
      "C:\\Users\\Dell\\AppData\\Local\\Temp\\ipykernel_11332\\4119234637.py:2: FutureWarning: Passing a negative integer is deprecated in version 1.0 and will not be supported in future version. Instead, use None to not limit the column width.\n",
      "  pd.set_option('display.max_colwidth', -1)\n"
     ]
    },
    {
     "data": {
      "text/plain": [
       "\"no regrets or grudges/angry at things that have passed, and not worrying too much about the future, that's true serenity.\"                                                                                                                                                                                                                                                                                                                                                                                                                                                                                                                                                                                                                                                                5\n",
       "restless and agitated                                                                                                                                                                                                                                                                                                                                                                                                                                                                                                                                                                                                                                                                                                                                                                      4\n",
       "but my heart is still restless even though my mouth is talking                                                                                                                                                                                                                                                                                                                                                                                                                                                                                                                                                                                                                                                                                                                             4\n",
       "restless, upset if there is no news all day..                                                                                                                                                                                                                                                                                                                                                                                                                                                                                                                                                                                                                                                                                                                                              3\n",
       "i want to exhale the restlessness in my chest with my breath                                                                                                                                                                                                                                                                                                                                                                                                                                                                                                                                                                                                                                                                                                                               3\n",
       "                                                                                                                                                                                                                                                                                                                                                                                                                                                                                                                                                                                                                                                                                                                                                                                          ..\n",
       "tired of overtingking, tired of worrying too much, tired of being tired                                                                                                                                                                                                                                                                                                                                                                                                                                                                                                                                                                                                                                                                                                                    1\n",
       "it's been a few days when i sleep by default i'm afraid, restless, nervous, feel alone, sometimes my breath is really heavy.....why is that... like i'm afraid of being restless, oh my god                                                                                                                                                                                                                                                                                                                                                                                                                                                                                                                                                                                                1\n",
       "some days, i don't think i'm doing well, so i feel like i'm really crying, scared, anxious, just sad. until i think of this when i cry, does my fast break or not?                                                                                                                                                                                                                                                                                                                                                                                                                                                                                                                                                                                                                         1\n",
       "in the evening, towards the morning. a little worried, a lot of longing                                                                                                                                                                                                                                                                                                                                                                                                                                                                                                                                                                                                                                                                                                                    1\n",
       "fuck i've been wanting to kill myself for about 20 years now.  everything i do just makes me think about it more no matter how much i might be lying to myself about enjoying \"the moment\".  i trust no one when it comes to this as basically everyone i've ever opened up to about this has just called the police and the night ends w me naked in solitary confinement.  my plan has been for the last couple years to wait for my parents to die so they don't have to deal with it but i'm leaning closer and closer to saying fuck it to that.  i have a sister but she has a family and they would be essentially unaffected by my absence. i'm willing to hire someone to kill me at this point because i'm pretty sure i'm just too cowardly a piece of shit to do it myself.    1\n",
       "Name: post, Length: 8224, dtype: int64"
      ]
     },
     "execution_count": 47,
     "metadata": {},
     "output_type": "execute_result"
    }
   ],
   "source": [
    "#expanding the dispay of text sms column\n",
    "pd.set_option('display.max_colwidth', -1)\n",
    "#using only v1 and v2 column\n",
    "#data= data [['post','topics']]\n",
    "#data.head()\n",
    "#checking the count of the dependent variable\n",
    "data['post'].value_counts()"
   ]
  },
  {
   "cell_type": "code",
   "execution_count": 48,
   "id": "011a2f2c",
   "metadata": {},
   "outputs": [
    {
     "name": "stdout",
     "output_type": "stream",
     "text": [
      "Each of the 8315 posts is represented by 19196 features (TF-IDF score of unigrams and bigrams)\n"
     ]
    }
   ],
   "source": [
    "tfidf = TfidfVectorizer(sublinear_tf=True, min_df=5,\n",
    "                        ngram_range=(1, 2), \n",
    "                        stop_words='english')\n",
    "# We transform each complaint into a vector\n",
    "features = tfidf.fit_transform(data.post).toarray()\n",
    "labels = data.category_id\n",
    "print(\"Each of the %d posts is represented by %d features (TF-IDF score of unigrams and bigrams)\" %(features.shape))"
   ]
  },
  {
   "cell_type": "code",
   "execution_count": 49,
   "id": "ea09fbc2",
   "metadata": {},
   "outputs": [
    {
     "data": {
      "text/html": [
       "<div>\n",
       "<style scoped>\n",
       "    .dataframe tbody tr th:only-of-type {\n",
       "        vertical-align: middle;\n",
       "    }\n",
       "\n",
       "    .dataframe tbody tr th {\n",
       "        vertical-align: top;\n",
       "    }\n",
       "\n",
       "    .dataframe thead th {\n",
       "        text-align: right;\n",
       "    }\n",
       "</style>\n",
       "<table border=\"1\" class=\"dataframe\">\n",
       "  <thead>\n",
       "    <tr style=\"text-align: right;\">\n",
       "      <th></th>\n",
       "      <th>post</th>\n",
       "      <th>topics</th>\n",
       "      <th>category_id</th>\n",
       "    </tr>\n",
       "  </thead>\n",
       "  <tbody>\n",
       "    <tr>\n",
       "      <th>0</th>\n",
       "      <td>does anyone else get anxious with working? im scared that im going to have to do repairs that cost of money.</td>\n",
       "      <td>Anxiety</td>\n",
       "      <td>0</td>\n",
       "    </tr>\n",
       "    <tr>\n",
       "      <th>1</th>\n",
       "      <td>help with anxiety-inducing fears about school caused by a health issue i'm 35 and planning to go back to grad school, but over the years i developed some eye floaters that i can mostly ignore. they are just out of my visible sight range when reading small books like novels, but i started studying for the gre with a big textbook and realized how obvious these floaters were now, and they've left me with anxiety about how i'm going to cope with school if, on top of everything else like how i'm no longer used to student life, how grad school is likely the hardest form of school i've ever done etc, add to that this problem with distracting floaters in my eyes that distract and annoy me.  i really don't know how to deal here. i am not confident in exposure therapy as i have had these floaters for a few years and really only learned to deal with them by changing my lifestyle such that i don't have to deal with them. it's not a big issue, and some junk in my eyes shouldn't be that much of a problem. but just now i just glanced at my book for a few minutes and now i'm dizzy with worry about it.  what to do?</td>\n",
       "      <td>Anxiety</td>\n",
       "      <td>0</td>\n",
       "    </tr>\n",
       "    <tr>\n",
       "      <th>2</th>\n",
       "      <td>use up what's left and throw the rest away i recently returned from 6 years working overseas.  unfortunately in the last few years my drinking and stimulant became worse and was detrimental to my mental and physical health.  i'm doing fine now as far as that is concerned. attended therapy, clean and sober since november last year.  when i came back i heard a few of my \"friends\" use the following phrase,  \"we'll just use up what's left of him and then throw the rest away\"  i've never heard this before. i've always been a people pleasing personality type and i'm struggling hard to determine how to interpret it.  maybe i just don't want to face facts that it means exactly what it says... that by hanging around with these people i put myself in a weak position and they aren't real friends at all.  any thoughts?</td>\n",
       "      <td>Anxiety</td>\n",
       "      <td>0</td>\n",
       "    </tr>\n",
       "    <tr>\n",
       "      <th>3</th>\n",
       "      <td>my brain is driving me crazy! im a perfectionist and think everyone hates me all the time. i literally always worried ive done something wrong.   im at my first big professional conference in a major us city. i barely slept last night because of a backache and nerves. that and the jet lag is impairing  my functioning and i have blotchy skin and my dress is riding up on my legs and ive had to pull it down. all i had to do today was register for the conference, but i was confused at every step and feel that everyone thinks im stupid or hungover or unprofessional or something. im walking around this city i do not know oblivious and feel embarrassed and stupid. my anxiety is killing me and men keep hitting on me. i havent been away from my husband since we moved in together and i feel so dumb and small.   im so scared for my presentation tomorrow. can someone either console me or kindly put me out of my misery?</td>\n",
       "      <td>Anxiety</td>\n",
       "      <td>0</td>\n",
       "    </tr>\n",
       "    <tr>\n",
       "      <th>4</th>\n",
       "      <td>does anyone else feel like the worst person ever if they annoy a friend? hey reddit. basically, i have mild anxiety. but something that really messes with my head is when i have a fall out or get a blunt text from a friend to say i annoyed them when i did something. my first response is always i'm sorry (and trying not to say it a million times over) but my mind then goes through this turmoil where i have all these esteem lowering thoughts along the lines of, they'll hate me forever now, or i'm such a horrible person, as well as being filled with guilt for upsetting the person.\\nit always turns out that whatever i did wrong only annoyed them for a short period of time and before i knew it life is back to normal, i just wish i could control the horrible negative wave that comes over me</td>\n",
       "      <td>Anxiety</td>\n",
       "      <td>0</td>\n",
       "    </tr>\n",
       "    <tr>\n",
       "      <th>...</th>\n",
       "      <td>...</td>\n",
       "      <td>...</td>\n",
       "      <td>...</td>\n",
       "    </tr>\n",
       "    <tr>\n",
       "      <th>8325</th>\n",
       "      <td>alone, useless and horribly guilty reaching out here because i have nothing else. no friends or family or anything. no money or hobbies or interests or a career or a future. not healthy in body or in the mind. i've been trying harder than i have ever tried and can't do it.</td>\n",
       "      <td>Suicidal thoughts</td>\n",
       "      <td>4</td>\n",
       "    </tr>\n",
       "    <tr>\n",
       "      <th>8326</th>\n",
       "      <td>am i not understanding/seeing something? this is not a cry for help, this is not me asking for prayers and sympathy, id like this to be more of an intellectual discussion.  what im about to say is coming from a point of view that im aware may be negative and skewed due to events/observations that conditioned my subconscious to think this way.   anyway, i genuinely just dont see the point of this life. to me, it seems very high pain-low/mediocre reward.   in just about every situation, there are 4 things that usually happen with experiences you have, goals you have and just life in general that i have a problem with. that being:  1) the necessary hard-ships/lessons you endure in life.  2) the reward you get out of it.  3) was the reward even worth it?  4) why any of it at all?  number 4 falls into more if a philosophical discussion, but still contributes to why i have suicidal thoughts. i think the 4 above points apply to literally everything, but ill throw out a couple of examples in the format of those points to help illustrate my issue.  1) a young kid gets his/her heart crushed in high school by a girl/boy. (maybe more than once)  2) kid gains a new understanding of what love really is, or at least what it isnt and maybe gains a better idea of what they want in a partner.  3) this may happen a few more times into adulthood, but theyre finally at a point where they may have found someone they choose to settle with. cool, but of course no matter what, issues still occur, and recurr with any relationship.  4) why any of this at all?  a different example:  1) guy grows up in poverty  2) all of those years in poverty gave him this crazy drive to make tons of money and live a life he never had.  3) he finally has a big house, nice car, and things hes always wanted. and in my mind, im like ok.. i just went through absolute hell to have these things.. what now?. which leads me to number 4..  4) why any if that at all?  \\nthe way i break down these experiences in my little 1-4 format may be flawed, 3 and 4 to me are related and can overlap, but anyway..  4 is the main one for me, its just kind of the classic why are we even here? question. ok so you learn these lessons in life and eventually find happiness. ok, for what? like ultimately what are we even doing here? are we here just to experience things in these little fleshy suits we have on? why? how does what we experience in our lives here tie into any signifigance into anything at all?  so the combination of the sometimes unbearable pain it takes to finally experience happiness, and not seeing the point of any of it in the first place, makes me not want to live anymore.  im not the best at writing/typing, im also not the best at explaining things, but i tried my best to get this off my chest. thanks to any that took the time to read.</td>\n",
       "      <td>Suicidal thoughts</td>\n",
       "      <td>4</td>\n",
       "    </tr>\n",
       "    <tr>\n",
       "      <th>8327</th>\n",
       "      <td>just a bad day so today has been a stressful day, almost couldn't pay rent, found out my mother has tumors in her lungs and they might be cancerous, my significant other got extremely pissed off at me because i forgot today was our anniversary because of the other stuff that piled on, ended up breaking my phone and now being constantly told by my other half that life would be better without me in it since all i do is make them miserable. i just want to end it all but because i have kids i don't want them to live with it. i am just at a loss.  edit: forgot to add my spouse thinks i am cheating on them while i am just crying.</td>\n",
       "      <td>Suicidal thoughts</td>\n",
       "      <td>4</td>\n",
       "    </tr>\n",
       "    <tr>\n",
       "      <th>8328</th>\n",
       "      <td>when im dead maybe the suffering will all come to an end. sorry for poor grammar. i have a plan this plan is to hang myself in my wooded area of my property. i dont feel safe not even at my school, my parents locked all of the knives away and that doesnt matter. i found a new way glass. it cuts much deeper and i bleed more. \\n      \\n        for more background information i live with my parents and two other siblings im the youngest and am a freshmen in school. i have been sad since 6th grade and suicidal since 7th grade. ive tried taking my life once by suffocation with an extension cord and i lived. ever since my depression and suicidal thoughts have gotten worse. i now know how to kill myself and will do before christmas. i havent set a date but the next day when i get too low my parents and siblings wont see me. when they go searching in the woods all theyll see is my body hanging from a tree. im sorry im too late to fix and im sorry.</td>\n",
       "      <td>Suicidal thoughts</td>\n",
       "      <td>4</td>\n",
       "    </tr>\n",
       "    <tr>\n",
       "      <th>8329</th>\n",
       "      <td>fuck i've been wanting to kill myself for about 20 years now.  everything i do just makes me think about it more no matter how much i might be lying to myself about enjoying \"the moment\".  i trust no one when it comes to this as basically everyone i've ever opened up to about this has just called the police and the night ends w me naked in solitary confinement.  my plan has been for the last couple years to wait for my parents to die so they don't have to deal with it but i'm leaning closer and closer to saying fuck it to that.  i have a sister but she has a family and they would be essentially unaffected by my absence. i'm willing to hire someone to kill me at this point because i'm pretty sure i'm just too cowardly a piece of shit to do it myself.</td>\n",
       "      <td>Suicidal thoughts</td>\n",
       "      <td>4</td>\n",
       "    </tr>\n",
       "  </tbody>\n",
       "</table>\n",
       "<p>8315 rows × 3 columns</p>\n",
       "</div>"
      ],
      "text/plain": [
       "                                                                                                                                                                                                                                                                                                                                                                                                                                                                                                                                                                                                                                                                                                                                                                                                                                                                                                                                                                                                                                                                                                                                                                                                                                                                                                                                                                                                                                                                                                                                                                                                                                                                                                                                                                                                                                                                                                                                                                                                                                                                                                                                                                                                                                                                                                                                                                                                                                                                                                                                                                                                                                                                                                                                                                                                                                                                                                                                                  post  \\\n",
       "0     does anyone else get anxious with working? im scared that im going to have to do repairs that cost of money.                                                                                                                                                                                                                                                                                                                                                                                                                                                                                                                                                                                                                                                                                                                                                                                                                                                                                                                                                                                                                                                                                                                                                                                                                                                                                                                                                                                                                                                                                                                                                                                                                                                                                                                                                                                                                                                                                                                                                                                                                                                                                                                                                                                                                                                                                                                                                                                                                                                                                                                                                                                                                                                                                                                                                                                                                                       \n",
       "1     help with anxiety-inducing fears about school caused by a health issue i'm 35 and planning to go back to grad school, but over the years i developed some eye floaters that i can mostly ignore. they are just out of my visible sight range when reading small books like novels, but i started studying for the gre with a big textbook and realized how obvious these floaters were now, and they've left me with anxiety about how i'm going to cope with school if, on top of everything else like how i'm no longer used to student life, how grad school is likely the hardest form of school i've ever done etc, add to that this problem with distracting floaters in my eyes that distract and annoy me.  i really don't know how to deal here. i am not confident in exposure therapy as i have had these floaters for a few years and really only learned to deal with them by changing my lifestyle such that i don't have to deal with them. it's not a big issue, and some junk in my eyes shouldn't be that much of a problem. but just now i just glanced at my book for a few minutes and now i'm dizzy with worry about it.  what to do?                                                                                                                                                                                                                                                                                                                                                                                                                                                                                                                                                                                                                                                                                                                                                                                                                                                                                                                                                                                                                                                                                                                                                                                                                                                                                                                                                                                                                                                                                                                                                                                                                                                                                                                                                                                        \n",
       "2     use up what's left and throw the rest away i recently returned from 6 years working overseas.  unfortunately in the last few years my drinking and stimulant became worse and was detrimental to my mental and physical health.  i'm doing fine now as far as that is concerned. attended therapy, clean and sober since november last year.  when i came back i heard a few of my \"friends\" use the following phrase,  \"we'll just use up what's left of him and then throw the rest away\"  i've never heard this before. i've always been a people pleasing personality type and i'm struggling hard to determine how to interpret it.  maybe i just don't want to face facts that it means exactly what it says... that by hanging around with these people i put myself in a weak position and they aren't real friends at all.  any thoughts?                                                                                                                                                                                                                                                                                                                                                                                                                                                                                                                                                                                                                                                                                                                                                                                                                                                                                                                                                                                                                                                                                                                                                                                                                                                                                                                                                                                                                                                                                                                                                                                                                                                                                                                                                                                                                                                                                                                                                                                                                                                                                                 \n",
       "3     my brain is driving me crazy! im a perfectionist and think everyone hates me all the time. i literally always worried ive done something wrong.   im at my first big professional conference in a major us city. i barely slept last night because of a backache and nerves. that and the jet lag is impairing  my functioning and i have blotchy skin and my dress is riding up on my legs and ive had to pull it down. all i had to do today was register for the conference, but i was confused at every step and feel that everyone thinks im stupid or hungover or unprofessional or something. im walking around this city i do not know oblivious and feel embarrassed and stupid. my anxiety is killing me and men keep hitting on me. i havent been away from my husband since we moved in together and i feel so dumb and small.   im so scared for my presentation tomorrow. can someone either console me or kindly put me out of my misery?                                                                                                                                                                                                                                                                                                                                                                                                                                                                                                                                                                                                                                                                                                                                                                                                                                                                                                                                                                                                                                                                                                                                                                                                                                                                                                                                                                                                                                                                                                                                                                                                                                                                                                                                                                                                                                                                                                                                                                                           \n",
       "4     does anyone else feel like the worst person ever if they annoy a friend? hey reddit. basically, i have mild anxiety. but something that really messes with my head is when i have a fall out or get a blunt text from a friend to say i annoyed them when i did something. my first response is always i'm sorry (and trying not to say it a million times over) but my mind then goes through this turmoil where i have all these esteem lowering thoughts along the lines of, they'll hate me forever now, or i'm such a horrible person, as well as being filled with guilt for upsetting the person.\\nit always turns out that whatever i did wrong only annoyed them for a short period of time and before i knew it life is back to normal, i just wish i could control the horrible negative wave that comes over me                                                                                                                                                                                                                                                                                                                                                                                                                                                                                                                                                                                                                                                                                                                                                                                                                                                                                                                                                                                                                                                                                                                                                                                                                                                                                                                                                                                                                                                                                                                                                                                                                                                                                                                                                                                                                                                                                                                                                                                                                                                                                                                        \n",
       "...                                                                                                                                                                                                                                                                                                                                                                                                                                                                                                                                                                                                                                                                                                                                                                                                                           ...                                                                                                                                                                                                                                                                                                                                                                                                                                                                                                                                                                                                                                                                                                                                                                                                                                                                                                                                                                                                                                                                                                                                                                                                                                                                                                                                                                                                                                                                                                                                                                                                                                                                                                                                                                                                                                                                                                                                                                                                                                                                                                                        \n",
       "8325  alone, useless and horribly guilty reaching out here because i have nothing else. no friends or family or anything. no money or hobbies or interests or a career or a future. not healthy in body or in the mind. i've been trying harder than i have ever tried and can't do it.                                                                                                                                                                                                                                                                                                                                                                                                                                                                                                                                                                                                                                                                                                                                                                                                                                                                                                                                                                                                                                                                                                                                                                                                                                                                                                                                                                                                                                                                                                                                                                                                                                                                                                                                                                                                                                                                                                                                                                                                                                                                                                                                                                                                                                                                                                                                                                                                                                                                                                                                                                                                                                                                  \n",
       "8326  am i not understanding/seeing something? this is not a cry for help, this is not me asking for prayers and sympathy, id like this to be more of an intellectual discussion.  what im about to say is coming from a point of view that im aware may be negative and skewed due to events/observations that conditioned my subconscious to think this way.   anyway, i genuinely just dont see the point of this life. to me, it seems very high pain-low/mediocre reward.   in just about every situation, there are 4 things that usually happen with experiences you have, goals you have and just life in general that i have a problem with. that being:  1) the necessary hard-ships/lessons you endure in life.  2) the reward you get out of it.  3) was the reward even worth it?  4) why any of it at all?  number 4 falls into more if a philosophical discussion, but still contributes to why i have suicidal thoughts. i think the 4 above points apply to literally everything, but ill throw out a couple of examples in the format of those points to help illustrate my issue.  1) a young kid gets his/her heart crushed in high school by a girl/boy. (maybe more than once)  2) kid gains a new understanding of what love really is, or at least what it isnt and maybe gains a better idea of what they want in a partner.  3) this may happen a few more times into adulthood, but theyre finally at a point where they may have found someone they choose to settle with. cool, but of course no matter what, issues still occur, and recurr with any relationship.  4) why any of this at all?  a different example:  1) guy grows up in poverty  2) all of those years in poverty gave him this crazy drive to make tons of money and live a life he never had.  3) he finally has a big house, nice car, and things hes always wanted. and in my mind, im like ok.. i just went through absolute hell to have these things.. what now?. which leads me to number 4..  4) why any if that at all?  \\nthe way i break down these experiences in my little 1-4 format may be flawed, 3 and 4 to me are related and can overlap, but anyway..  4 is the main one for me, its just kind of the classic why are we even here? question. ok so you learn these lessons in life and eventually find happiness. ok, for what? like ultimately what are we even doing here? are we here just to experience things in these little fleshy suits we have on? why? how does what we experience in our lives here tie into any signifigance into anything at all?  so the combination of the sometimes unbearable pain it takes to finally experience happiness, and not seeing the point of any of it in the first place, makes me not want to live anymore.  im not the best at writing/typing, im also not the best at explaining things, but i tried my best to get this off my chest. thanks to any that took the time to read.   \n",
       "8327  just a bad day so today has been a stressful day, almost couldn't pay rent, found out my mother has tumors in her lungs and they might be cancerous, my significant other got extremely pissed off at me because i forgot today was our anniversary because of the other stuff that piled on, ended up breaking my phone and now being constantly told by my other half that life would be better without me in it since all i do is make them miserable. i just want to end it all but because i have kids i don't want them to live with it. i am just at a loss.  edit: forgot to add my spouse thinks i am cheating on them while i am just crying.                                                                                                                                                                                                                                                                                                                                                                                                                                                                                                                                                                                                                                                                                                                                                                                                                                                                                                                                                                                                                                                                                                                                                                                                                                                                                                                                                                                                                                                                                                                                                                                                                                                                                                                                                                                                                                                                                                                                                                                                                                                                                                                                                                                                                                                                                            \n",
       "8328  when im dead maybe the suffering will all come to an end. sorry for poor grammar. i have a plan this plan is to hang myself in my wooded area of my property. i dont feel safe not even at my school, my parents locked all of the knives away and that doesnt matter. i found a new way glass. it cuts much deeper and i bleed more. \\n      \\n        for more background information i live with my parents and two other siblings im the youngest and am a freshmen in school. i have been sad since 6th grade and suicidal since 7th grade. ive tried taking my life once by suffocation with an extension cord and i lived. ever since my depression and suicidal thoughts have gotten worse. i now know how to kill myself and will do before christmas. i havent set a date but the next day when i get too low my parents and siblings wont see me. when they go searching in the woods all theyll see is my body hanging from a tree. im sorry im too late to fix and im sorry.                                                                                                                                                                                                                                                                                                                                                                                                                                                                                                                                                                                                                                                                                                                                                                                                                                                                                                                                                                                                                                                                                                                                                                                                                                                                                                                                                                                                                                                                                                                                                                                                                                                                                                                                                                                                                                                                                                                                                          \n",
       "8329  fuck i've been wanting to kill myself for about 20 years now.  everything i do just makes me think about it more no matter how much i might be lying to myself about enjoying \"the moment\".  i trust no one when it comes to this as basically everyone i've ever opened up to about this has just called the police and the night ends w me naked in solitary confinement.  my plan has been for the last couple years to wait for my parents to die so they don't have to deal with it but i'm leaning closer and closer to saying fuck it to that.  i have a sister but she has a family and they would be essentially unaffected by my absence. i'm willing to hire someone to kill me at this point because i'm pretty sure i'm just too cowardly a piece of shit to do it myself.                                                                                                                                                                                                                                                                                                                                                                                                                                                                                                                                                                                                                                                                                                                                                                                                                                                                                                                                                                                                                                                                                                                                                                                                                                                                                                                                                                                                                                                                                                                                                                                                                                                                                                                                                                                                                                                                                                                                                                                                                                                                                                                                                            \n",
       "\n",
       "                 topics  category_id  \n",
       "0     Anxiety            0            \n",
       "1     Anxiety            0            \n",
       "2     Anxiety            0            \n",
       "3     Anxiety            0            \n",
       "4     Anxiety            0            \n",
       "...       ...           ..            \n",
       "8325  Suicidal thoughts  4            \n",
       "8326  Suicidal thoughts  4            \n",
       "8327  Suicidal thoughts  4            \n",
       "8328  Suicidal thoughts  4            \n",
       "8329  Suicidal thoughts  4            \n",
       "\n",
       "[8315 rows x 3 columns]"
      ]
     },
     "metadata": {},
     "output_type": "display_data"
    }
   ],
   "source": [
    "display(data)"
   ]
  },
  {
   "cell_type": "code",
   "execution_count": 50,
   "id": "01ddfac5",
   "metadata": {},
   "outputs": [
    {
     "name": "stderr",
     "output_type": "stream",
     "text": [
      "C:\\Users\\Dell\\anaconda3\\lib\\site-packages\\sklearn\\utils\\deprecation.py:87: FutureWarning: Function get_feature_names is deprecated; get_feature_names is deprecated in 1.0 and will be removed in 1.2. Please use get_feature_names_out instead.\n",
      "  warnings.warn(msg, category=FutureWarning)\n"
     ]
    },
    {
     "name": "stdout",
     "output_type": "stream",
     "text": [
      "n==> Anxiety:\n",
      "  * Most Correlated Unigrams are: attack, panic, anxiety\n",
      "  * Most Correlated Bigrams are: anxiety attack, panic attack, panic attacks\n"
     ]
    },
    {
     "name": "stderr",
     "output_type": "stream",
     "text": [
      "C:\\Users\\Dell\\anaconda3\\lib\\site-packages\\sklearn\\utils\\deprecation.py:87: FutureWarning: Function get_feature_names is deprecated; get_feature_names is deprecated in 1.0 and will be removed in 1.2. Please use get_feature_names_out instead.\n",
      "  warnings.warn(msg, category=FutureWarning)\n"
     ]
    },
    {
     "name": "stdout",
     "output_type": "stream",
     "text": [
      "n==> Depression:\n",
      "  * Most Correlated Unigrams are: worried, nervous, restless\n",
      "  * Most Correlated Bigrams are: heart restless, feeling restless, restless restless\n"
     ]
    },
    {
     "name": "stderr",
     "output_type": "stream",
     "text": [
      "C:\\Users\\Dell\\anaconda3\\lib\\site-packages\\sklearn\\utils\\deprecation.py:87: FutureWarning: Function get_feature_names is deprecated; get_feature_names is deprecated in 1.0 and will be removed in 1.2. Please use get_feature_names_out instead.\n",
      "  warnings.warn(msg, category=FutureWarning)\n"
     ]
    },
    {
     "name": "stdout",
     "output_type": "stream",
     "text": [
      "n==> PTSD:\n",
      "  * Most Correlated Unigrams are: flashbacks, trauma, ptsd\n",
      "  * Most Correlated Bigrams are: sexual assault, sexual abuse, diagnosed ptsd\n"
     ]
    },
    {
     "name": "stderr",
     "output_type": "stream",
     "text": [
      "C:\\Users\\Dell\\anaconda3\\lib\\site-packages\\sklearn\\utils\\deprecation.py:87: FutureWarning: Function get_feature_names is deprecated; get_feature_names is deprecated in 1.0 and will be removed in 1.2. Please use get_feature_names_out instead.\n",
      "  warnings.warn(msg, category=FutureWarning)\n"
     ]
    },
    {
     "name": "stdout",
     "output_type": "stream",
     "text": [
      "n==> Social Anxiety:\n",
      "  * Most Correlated Unigrams are: awkward, sa, social\n",
      "  * Most Correlated Bigrams are: social skills, socially anxious, social anxiety\n",
      "n==> Suicidal thoughts:\n",
      "  * Most Correlated Unigrams are: die, kill, suicide\n",
      "  * Most Correlated Bigrams are: want end, end life, want die\n"
     ]
    },
    {
     "name": "stderr",
     "output_type": "stream",
     "text": [
      "C:\\Users\\Dell\\anaconda3\\lib\\site-packages\\sklearn\\utils\\deprecation.py:87: FutureWarning: Function get_feature_names is deprecated; get_feature_names is deprecated in 1.0 and will be removed in 1.2. Please use get_feature_names_out instead.\n",
      "  warnings.warn(msg, category=FutureWarning)\n"
     ]
    }
   ],
   "source": [
    "# Finding the three most correlated terms with each of the product categories\n",
    "N = 3\n",
    "for topics, category_id in sorted(category_to_id.items()):\n",
    "  features_chi2 = chi2(features, labels == category_id)\n",
    "  indices = np.argsort(features_chi2[0])\n",
    "  feature_names = np.array(tfidf.get_feature_names())[indices]\n",
    "  unigrams = [v for v in feature_names if len(v.split(' ')) == 1]\n",
    "  bigrams = [v for v in feature_names if len(v.split(' ')) == 2]\n",
    "  print(\"n==> %s:\" %(topics))\n",
    "  print(\"  * Most Correlated Unigrams are: %s\" %(', '.join(unigrams[-N:])))\n",
    "  print(\"  * Most Correlated Bigrams are: %s\" %(', '.join(bigrams[-N:])))"
   ]
  },
  {
   "cell_type": "code",
   "execution_count": 54,
   "id": "c0c9c30e",
   "metadata": {},
   "outputs": [],
   "source": [
    "X = data['post'] # Collection of documents\n",
    "y = data['topics'] # Target or the labels we want to predict (i.e., the 13 different complaints of products)\n",
    "X_train, X_test, y_train, y_test = train_test_split(X, y, \n",
    "                                                  #  test_size=0.20,\n",
    "                                                  #  random_state = 0)"
   ]
  },
  {
   "cell_type": "code",
   "execution_count": 25,
   "id": "ce3d1e16",
   "metadata": {},
   "outputs": [],
   "source": [
    "models = [\n",
    "    RandomForestClassifier(n_estimators=100, max_depth=5, random_state=0),\n",
    "    LinearSVC(),\n",
    "    MultinomialNB(),\n",
    "    LogisticRegression(random_state=0,solver='lbfgs', max_iter=1000 ),\n",
    "]"
   ]
  },
  {
   "cell_type": "code",
   "execution_count": 26,
   "id": "97dff45e",
   "metadata": {},
   "outputs": [],
   "source": [
    "# 5 Cross-validation\n",
    "CV = 5\n",
    "cv_df = pd.DataFrame(index=range(CV * len(models)))"
   ]
  },
  {
   "cell_type": "code",
   "execution_count": 27,
   "id": "65cd0d0a",
   "metadata": {},
   "outputs": [],
   "source": [
    "entries = []\n",
    "for model in models:\n",
    "  model_name = model.__class__.__name__\n",
    "  accuracies = cross_val_score(model, features, labels, scoring='accuracy', cv=CV)\n",
    "  for fold_idx, accuracy in enumerate(accuracies):\n",
    "    entries.append((model_name, fold_idx, accuracy))\n",
    "cv_df = pd.DataFrame(entries, columns=['model_name', 'fold_idx', 'accuracy'])"
   ]
  },
  {
   "cell_type": "code",
   "execution_count": 28,
   "id": "172b1095",
   "metadata": {},
   "outputs": [
    {
     "data": {
      "text/html": [
       "<div>\n",
       "<style scoped>\n",
       "    .dataframe tbody tr th:only-of-type {\n",
       "        vertical-align: middle;\n",
       "    }\n",
       "\n",
       "    .dataframe tbody tr th {\n",
       "        vertical-align: top;\n",
       "    }\n",
       "\n",
       "    .dataframe thead th {\n",
       "        text-align: right;\n",
       "    }\n",
       "</style>\n",
       "<table border=\"1\" class=\"dataframe\">\n",
       "  <thead>\n",
       "    <tr style=\"text-align: right;\">\n",
       "      <th></th>\n",
       "      <th>Mean Accuracy</th>\n",
       "      <th>Standard deviation</th>\n",
       "    </tr>\n",
       "    <tr>\n",
       "      <th>model_name</th>\n",
       "      <th></th>\n",
       "      <th></th>\n",
       "    </tr>\n",
       "  </thead>\n",
       "  <tbody>\n",
       "    <tr>\n",
       "      <th>LinearSVC</th>\n",
       "      <td>0.727721</td>\n",
       "      <td>0.057012</td>\n",
       "    </tr>\n",
       "    <tr>\n",
       "      <th>LogisticRegression</th>\n",
       "      <td>0.739387</td>\n",
       "      <td>0.054264</td>\n",
       "    </tr>\n",
       "    <tr>\n",
       "      <th>MultinomialNB</th>\n",
       "      <td>0.706915</td>\n",
       "      <td>0.078521</td>\n",
       "    </tr>\n",
       "    <tr>\n",
       "      <th>RandomForestClassifier</th>\n",
       "      <td>0.659050</td>\n",
       "      <td>0.082899</td>\n",
       "    </tr>\n",
       "  </tbody>\n",
       "</table>\n",
       "</div>"
      ],
      "text/plain": [
       "                        Mean Accuracy  Standard deviation\n",
       "model_name                                               \n",
       "LinearSVC               0.727721       0.057012          \n",
       "LogisticRegression      0.739387       0.054264          \n",
       "MultinomialNB           0.706915       0.078521          \n",
       "RandomForestClassifier  0.659050       0.082899          "
      ]
     },
     "execution_count": 28,
     "metadata": {},
     "output_type": "execute_result"
    }
   ],
   "source": [
    "mean_accuracy = cv_df.groupby('model_name').accuracy.mean()\n",
    "std_accuracy = cv_df.groupby('model_name').accuracy.std()\n",
    "\n",
    "acc = pd.concat([mean_accuracy, std_accuracy], axis= 1, \n",
    "          ignore_index=True)\n",
    "acc.columns = ['Mean Accuracy', 'Standard deviation']\n",
    "acc"
   ]
  },
  {
   "cell_type": "code",
   "execution_count": 344,
   "id": "2c2373f8",
   "metadata": {},
   "outputs": [],
   "source": [
    "#print(data)"
   ]
  },
  {
   "cell_type": "code",
   "execution_count": 29,
   "id": "9ce2e959",
   "metadata": {},
   "outputs": [
    {
     "data": {
      "image/png": "[encoded data removed]",
      "text/plain": [
       "<Figure size 576x360 with 1 Axes>"
      ]
     },
     "metadata": {
      "needs_background": "light"
     },
     "output_type": "display_data"
    }
   ],
   "source": [
    "plt.figure(figsize=(8,5))\n",
    "sns.boxplot(x='model_name', y='accuracy', \n",
    "            data=cv_df, \n",
    "            color='lightblue', \n",
    "            showmeans=True)\n",
    "plt.title(\"MEAN ACCURACY (cv = 5)n\", size=14);"
   ]
  },
  {
   "cell_type": "code",
   "execution_count": 30,
   "id": "8f6939bc",
   "metadata": {},
   "outputs": [],
   "source": [
    "X_train, X_test, y_train, y_test,indices_train,indices_test = train_test_split(features, \n",
    "                                                               labels, \n",
    "                                                               data.index, test_size=0.20, \n",
    "                                                               random_state=1)\n",
    "model = LogisticRegression(max_iter=1000)\n",
    "model.fit(X_train, y_train)\n",
    "y_pred = model.predict(X_test)"
   ]
  },
  {
   "cell_type": "code",
   "execution_count": null,
   "id": "ebc6ca6a",
   "metadata": {},
   "outputs": [],
   "source": [
    "from sklearn.tree import DecisionTreeClassifier\n",
    "from sklearn.metrics import accuracy_score\n"
   ]
  },
  {
   "cell_type": "code",
   "execution_count": null,
   "id": "e988ca6a",
   "metadata": {},
   "outputs": [],
   "source": [
    " \n",
    "\n",
    "dt_clf_gini = DecisionTreeClassifier(criterion = \"gini\",\n",
    "                                     random_state = 100,\n",
    "                                     max_depth = 5,\n",
    "                                     min_samples_leaf = 5)\n",
    " \n",
    "dt_clf_gini.fit(X_train, y_train)\n",
    "y_pred_gini = dt_clf_gini.predict(X_test)\n",
    " \n",
    "print (\"Decision Tree using Gini Index\\nAccuracy is \",\n",
    "             accuracy_score(y_test, y_pred_gini)*100 )"
   ]
  },
  {
   "cell_type": "code",
   "execution_count": 347,
   "id": "ffef9eb4",
   "metadata": {},
   "outputs": [
    {
     "name": "stdout",
     "output_type": "stream",
     "text": [
      "ttttCLASSIFICATIION METRICSn\n",
      "                   precision    recall  f1-score   support\n",
      "\n",
      "          Anxiety       0.69      0.69      0.69       358\n",
      "       Depression       0.61      0.56      0.59       317\n",
      "             PTSD       0.92      0.86      0.89       360\n",
      "   Social Anxiety       0.82      0.78      0.80       332\n",
      "Suicidal thoughts       0.67      0.79      0.73       336\n",
      "\n",
      "         accuracy                           0.74      1703\n",
      "        macro avg       0.74      0.74      0.74      1703\n",
      "     weighted avg       0.74      0.74      0.74      1703\n",
      "\n"
     ]
    }
   ],
   "source": [
    "# Classification report\n",
    "print('ttttCLASSIFICATIION METRICSn')\n",
    "print(metrics.classification_report(y_test, y_pred, \n",
    "                                    target_names= data['topics'].unique()))"
   ]
  },
  {
   "cell_type": "code",
   "execution_count": 348,
   "id": "ad162fea",
   "metadata": {},
   "outputs": [
    {
     "data": {
      "image/png": "[encoded data removed]",
      "text/plain": [
       "<Figure size 576x576 with 2 Axes>"
      ]
     },
     "metadata": {
      "needs_background": "light"
     },
     "output_type": "display_data"
    }
   ],
   "source": [
    "conf_mat = confusion_matrix(y_test, y_pred)\n",
    "fig, ax = plt.subplots(figsize=(8,8))\n",
    "sns.heatmap(conf_mat, annot=True, cmap=\"Blues\", fmt='d',\n",
    "            xticklabels=category_id_df.topics.values, \n",
    "            yticklabels=category_id_df.topics.values)\n",
    "plt.ylabel('Actual')\n",
    "plt.xlabel('Predicted')\n",
    "plt.title(\"CONFUSION MATRIX - LinearSVCn\", size=16);"
   ]
  },
  {
   "cell_type": "code",
   "execution_count": 349,
   "id": "86ddf1dd",
   "metadata": {},
   "outputs": [],
   "source": [
    "X_train, X_test, y_train, y_test = train_test_split(X, y, test_size=0.20,  random_state = 0)\n",
    "                                                  \n",
    "                                                    \n"
   ]
  },
  {
   "cell_type": "code",
   "execution_count": 350,
   "id": "eb32e659",
   "metadata": {},
   "outputs": [],
   "source": [
    "fitted_vectorizer = tfidf.fit(X_train)\n",
    "tfidf_vectorizer_vectors = fitted_vectorizer.transform(X_train)\n",
    "model = LinearSVC().fit(tfidf_vectorizer_vectors, y_train)"
   ]
  },
  {
   "cell_type": "code",
   "execution_count": 351,
   "id": "5313c990",
   "metadata": {},
   "outputs": [
    {
     "name": "stdout",
     "output_type": "stream",
     "text": [
      "['Depression']\n"
     ]
    }
   ],
   "source": [
    "result = \"\"\"Does anyone else get depressive thoughts and immediately hate yourself for them after? Whenever I think depressive thoughts like \"your friends are all pulling away from you because they don't need you\" or \"Everyone is better off without you because you're such a burden\" or whatever else, those thoughts are immediately followed by thoughts about how I'm stupid and selfish and childish for wallowing in pity and I should just suck it up because I need to grow up and realize that it's not all about me. \n",
    "\n",
    "It feels like a cycle that only ever makes me feel worse, especially about trying to reach out and have to burden someone else with my shit when they have their own shit going on. \n",
    "\n",
    "I couldn't even go to a second therapy session because I felt guilty for taking up the time of those who have to drive me there, and for taking up time from the counselor that could be used for someone that needed it a lot more.\n",
    "\n",
    "Does anyone else get like this?\"\"\"\n",
    "print(model.predict(fitted_vectorizer.transform([result])))"
   ]
  },
  {
   "cell_type": "code",
   "execution_count": 352,
   "id": "2c51ddc5",
   "metadata": {},
   "outputs": [
    {
     "name": "stdout",
     "output_type": "stream",
     "text": [
      "['Social Anxiety']\n"
     ]
    }
   ],
   "source": [
    "result=\"\"\"Is this as bad as I think it is Hi! So I was talking with a group of coworkers on my way back from lunch. We're all just minor acquaintances, not good friends. They were covering me. \n",
    "\n",
    "When the convo came to an end, as they were leaving, I was thinking of something to say so it wasn't an awkwardly silent departure. Well, my dumb brain made me say \"thanks again, you two!!\" and i can't stop thinking about it lmao. It sounded so bad and awkward yikes. \"YOU TWO\"? wtf self \"\"\"\n",
    "print(model.predict(fitted_vectorizer.transform([result])))"
   ]
  },
  {
   "cell_type": "code",
   "execution_count": 353,
   "id": "6a099535",
   "metadata": {},
   "outputs": [
    {
     "name": "stdout",
     "output_type": "stream",
     "text": [
      "['Anxiety']\n"
     ]
    }
   ],
   "source": [
    "result=\"\"\"My brain is driving me crazy! Im a perfectionist and think everyone hates me all the time. I literally always worried IÃ¢â‚¬â„¢ve done something wrong. \n",
    "\n",
    "Im at my first big professional conference in a major us city. I barely slept last night because of a backache and nerves. That and the jet lag is impairing  my functioning and I have blotchy skin and my dress is riding up on my legs and IÃ¢â‚¬â„¢ve had to pull it down. All I had to do today was register for the conference, but I was confused at every step and feel that everyone thinks IÃ¢â‚¬â„¢m stupid or hungover or unprofessional or something. IÃ¢â‚¬â„¢m walking around this city I do not know oblivious and feel embarrassed and stupid. My anxiety is killing me and men keep hitting on me. I havenÃ¢â‚¬â„¢t been away from my husband since we moved in together and I feel so dumb and small. \n",
    "\n",
    "Im so scared for my presentation tomorrow. Can someone either console me or kindly put me out of my misery? \"\"\"\n",
    "print(model.predict(fitted_vectorizer.transform([result])))"
   ]
  },
  {
   "cell_type": "code",
   "execution_count": 354,
   "id": "fa5eb2f5",
   "metadata": {},
   "outputs": [
    {
     "name": "stdout",
     "output_type": "stream",
     "text": [
      "['Depression']\n"
     ]
    }
   ],
   "source": [
    "result=\"\"\" \"\"\"\n",
    "print(model.predict(fitted_vectorizer.transform([result])))"
   ]
  },
  {
   "cell_type": "code",
   "execution_count": 355,
   "id": "87c86213",
   "metadata": {},
   "outputs": [
    {
     "name": "stdout",
     "output_type": "stream",
     "text": [
      "['Depression']\n"
     ]
    }
   ],
   "source": [
    "predicted_output=\"\"\"Feeling sad or down\n",
    "Confused thinking or reduced ability to concentrate\n",
    "Excessive fears or worries, or extreme feelings of guilt\n",
    "Extreme mood changes of highs and lows\n",
    "Withdrawal from friends and activities\n",
    "Significant tiredness, low energy or problems sleeping\n",
    "Detachment from reality (delusions), paranoia or hallucinations\n",
    "Inability to cope with daily problems or stress\n",
    "Trouble understanding and relating to situations and to people\n",
    "Problems with alcohol or drug use\n",
    "Major changes in eating habits\n",
    "Sex drive changes\n",
    "Excessive anger, hostility or violence\n",
    "Suicidal thinking\"\"\"\n",
    "print(model.predict(fitted_vectorizer.transform([predicted_output])))"
   ]
  },
  {
   "cell_type": "code",
   "execution_count": 356,
   "id": "d7f0a7d7",
   "metadata": {},
   "outputs": [
    {
     "name": "stdout",
     "output_type": "stream",
     "text": [
      "['Depression']\n"
     ]
    }
   ],
   "source": [
    "predicted_output=\"\"\"i am panicking what can i do\"\"\"\n",
    "print(model.predict(fitted_vectorizer.transform([predicted_output])))"
   ]
  },
  {
   "cell_type": "code",
   "execution_count": null,
   "id": "ebfe54a1",
   "metadata": {},
   "outputs": [],
   "source": []
  },
  {
   "cell_type": "code",
   "execution_count": null,
   "id": "fb6ccf98",
   "metadata": {},
   "outputs": [],
   "source": []
  },
  {
   "cell_type": "code",
   "execution_count": null,
   "id": "694a5f9e",
   "metadata": {},
   "outputs": [],
   "source": []
  },
  {
   "cell_type": "code",
   "execution_count": null,
   "id": "3c8ac3a9",
   "metadata": {},
   "outputs": [],
   "source": []
  },
  {
   "cell_type": "code",
   "execution_count": null,
   "id": "bc5e722b",
   "metadata": {},
   "outputs": [],
   "source": []
  },
  {
   "cell_type": "code",
   "execution_count": null,
   "id": "c7256b12",
   "metadata": {},
   "outputs": [],
   "source": []
  },
  {
   "cell_type": "code",
   "execution_count": null,
   "id": "3cce03b7",
   "metadata": {},
   "outputs": [],
   "source": []
  },
  {
   "cell_type": "code",
   "execution_count": null,
   "id": "89fd56a0",
   "metadata": {},
   "outputs": [],
   "source": []
  },
  {
   "cell_type": "code",
   "execution_count": null,
   "id": "93b66091",
   "metadata": {},
   "outputs": [],
   "source": []
  },
  {
   "cell_type": "code",
   "execution_count": null,
   "id": "c071a3d0",
   "metadata": {},
   "outputs": [],
   "source": []
  },
  {
   "cell_type": "code",
   "execution_count": null,
   "id": "ffc0f962",
   "metadata": {},
   "outputs": [],
   "source": []
  },
  {
   "cell_type": "code",
   "execution_count": null,
   "id": "4755a1af",
   "metadata": {},
   "outputs": [],
   "source": []
  },
  {
   "cell_type": "code",
   "execution_count": null,
   "id": "31ca4abc",
   "metadata": {},
   "outputs": [],
   "source": []
  },
  {
   "cell_type": "code",
   "execution_count": null,
   "id": "2b3d2d32",
   "metadata": {},
   "outputs": [],
   "source": []
  },
  {
   "cell_type": "code",
   "execution_count": null,
   "id": "3d557b49",
   "metadata": {},
   "outputs": [],
   "source": []
  },
  {
   "cell_type": "code",
   "execution_count": null,
   "id": "39b404b6",
   "metadata": {},
   "outputs": [],
   "source": []
  },
  {
   "cell_type": "code",
   "execution_count": null,
   "id": "419a437a",
   "metadata": {},
   "outputs": [],
   "source": []
  },
  {
   "cell_type": "code",
   "execution_count": null,
   "id": "055916c5",
   "metadata": {},
   "outputs": [],
   "source": []
  },
  {
   "cell_type": "code",
   "execution_count": null,
   "id": "2c4f2ef5",
   "metadata": {},
   "outputs": [],
   "source": []
  },
  {
   "cell_type": "code",
   "execution_count": null,
   "id": "6b0af94f",
   "metadata": {},
   "outputs": [],
   "source": []
  },
  {
   "cell_type": "code",
   "execution_count": null,
   "id": "c475b8f2",
   "metadata": {},
   "outputs": [],
   "source": []
  },
  {
   "cell_type": "code",
   "execution_count": null,
   "id": "364235cd",
   "metadata": {},
   "outputs": [],
   "source": []
  },
  {
   "cell_type": "code",
   "execution_count": null,
   "id": "9db103f7",
   "metadata": {},
   "outputs": [],
   "source": []
  },
  {
   "cell_type": "code",
   "execution_count": 357,
   "id": "4bf32f32",
   "metadata": {},
   "outputs": [
    {
     "data": {
      "text/plain": [
       "'!\"#$%&\\'()*+,-./:;<=>?@[\\\\]^_`{|}~'"
      ]
     },
     "execution_count": 357,
     "metadata": {},
     "output_type": "execute_result"
    }
   ],
   "source": [
    "#library that contains punctuation\n",
    "import string\n",
    "string.punctuation\n"
   ]
  },
  {
   "cell_type": "code",
   "execution_count": 358,
   "id": "b4feca6c",
   "metadata": {},
   "outputs": [
    {
     "data": {
      "text/html": [
       "<div>\n",
       "<style scoped>\n",
       "    .dataframe tbody tr th:only-of-type {\n",
       "        vertical-align: middle;\n",
       "    }\n",
       "\n",
       "    .dataframe tbody tr th {\n",
       "        vertical-align: top;\n",
       "    }\n",
       "\n",
       "    .dataframe thead th {\n",
       "        text-align: right;\n",
       "    }\n",
       "</style>\n",
       "<table border=\"1\" class=\"dataframe\">\n",
       "  <thead>\n",
       "    <tr style=\"text-align: right;\">\n",
       "      <th></th>\n",
       "      <th>post</th>\n",
       "      <th>topics</th>\n",
       "      <th>category_id</th>\n",
       "      <th>clean_text</th>\n",
       "    </tr>\n",
       "  </thead>\n",
       "  <tbody>\n",
       "    <tr>\n",
       "      <th>0</th>\n",
       "      <td>does anyone else get anxious with working? im scared that im going to have to do repairs that cost of money.</td>\n",
       "      <td>Anxiety</td>\n",
       "      <td>0</td>\n",
       "      <td>does anyone else get anxious with working im scared that im going to have to do repairs that cost of money</td>\n",
       "    </tr>\n",
       "    <tr>\n",
       "      <th>1</th>\n",
       "      <td>help with anxiety-inducing fears about school caused by a health issue i'm 35 and planning to go back to grad school, but over the years i developed some eye floaters that i can mostly ignore. they are just out of my visible sight range when reading small books like novels, but i started studying for the gre with a big textbook and realized how obvious these floaters were now, and they've left me with anxiety about how i'm going to cope with school if, on top of everything else like how i'm no longer used to student life, how grad school is likely the hardest form of school i've ever done etc, add to that this problem with distracting floaters in my eyes that distract and annoy me.  i really don't know how to deal here. i am not confident in exposure therapy as i have had these floaters for a few years and really only learned to deal with them by changing my lifestyle such that i don't have to deal with them. it's not a big issue, and some junk in my eyes shouldn't be that much of a problem. but just now i just glanced at my book for a few minutes and now i'm dizzy with worry about it.  what to do?</td>\n",
       "      <td>Anxiety</td>\n",
       "      <td>0</td>\n",
       "      <td>help with anxietyinducing fears about school caused by a health issue im 35 and planning to go back to grad school but over the years i developed some eye floaters that i can mostly ignore they are just out of my visible sight range when reading small books like novels but i started studying for the gre with a big textbook and realized how obvious these floaters were now and theyve left me with anxiety about how im going to cope with school if on top of everything else like how im no longer used to student life how grad school is likely the hardest form of school ive ever done etc add to that this problem with distracting floaters in my eyes that distract and annoy me  i really dont know how to deal here i am not confident in exposure therapy as i have had these floaters for a few years and really only learned to deal with them by changing my lifestyle such that i dont have to deal with them its not a big issue and some junk in my eyes shouldnt be that much of a problem but just now i just glanced at my book for a few minutes and now im dizzy with worry about it  what to do</td>\n",
       "    </tr>\n",
       "    <tr>\n",
       "      <th>2</th>\n",
       "      <td>use up what's left and throw the rest away i recently returned from 6 years working overseas.  unfortunately in the last few years my drinking and stimulant became worse and was detrimental to my mental and physical health.  i'm doing fine now as far as that is concerned. attended therapy, clean and sober since november last year.  when i came back i heard a few of my \"friends\" use the following phrase,  \"we'll just use up what's left of him and then throw the rest away\"  i've never heard this before. i've always been a people pleasing personality type and i'm struggling hard to determine how to interpret it.  maybe i just don't want to face facts that it means exactly what it says... that by hanging around with these people i put myself in a weak position and they aren't real friends at all.  any thoughts?</td>\n",
       "      <td>Anxiety</td>\n",
       "      <td>0</td>\n",
       "      <td>use up whats left and throw the rest away i recently returned from 6 years working overseas  unfortunately in the last few years my drinking and stimulant became worse and was detrimental to my mental and physical health  im doing fine now as far as that is concerned attended therapy clean and sober since november last year  when i came back i heard a few of my friends use the following phrase  well just use up whats left of him and then throw the rest away  ive never heard this before ive always been a people pleasing personality type and im struggling hard to determine how to interpret it  maybe i just dont want to face facts that it means exactly what it says that by hanging around with these people i put myself in a weak position and they arent real friends at all  any thoughts</td>\n",
       "    </tr>\n",
       "    <tr>\n",
       "      <th>3</th>\n",
       "      <td>my brain is driving me crazy! im a perfectionist and think everyone hates me all the time. i literally always worried ive done something wrong.   im at my first big professional conference in a major us city. i barely slept last night because of a backache and nerves. that and the jet lag is impairing  my functioning and i have blotchy skin and my dress is riding up on my legs and ive had to pull it down. all i had to do today was register for the conference, but i was confused at every step and feel that everyone thinks im stupid or hungover or unprofessional or something. im walking around this city i do not know oblivious and feel embarrassed and stupid. my anxiety is killing me and men keep hitting on me. i havent been away from my husband since we moved in together and i feel so dumb and small.   im so scared for my presentation tomorrow. can someone either console me or kindly put me out of my misery?</td>\n",
       "      <td>Anxiety</td>\n",
       "      <td>0</td>\n",
       "      <td>my brain is driving me crazy im a perfectionist and think everyone hates me all the time i literally always worried ive done something wrong   im at my first big professional conference in a major us city i barely slept last night because of a backache and nerves that and the jet lag is impairing  my functioning and i have blotchy skin and my dress is riding up on my legs and ive had to pull it down all i had to do today was register for the conference but i was confused at every step and feel that everyone thinks im stupid or hungover or unprofessional or something im walking around this city i do not know oblivious and feel embarrassed and stupid my anxiety is killing me and men keep hitting on me i havent been away from my husband since we moved in together and i feel so dumb and small   im so scared for my presentation tomorrow can someone either console me or kindly put me out of my misery</td>\n",
       "    </tr>\n",
       "    <tr>\n",
       "      <th>4</th>\n",
       "      <td>does anyone else feel like the worst person ever if they annoy a friend? hey reddit. basically, i have mild anxiety. but something that really messes with my head is when i have a fall out or get a blunt text from a friend to say i annoyed them when i did something. my first response is always i'm sorry (and trying not to say it a million times over) but my mind then goes through this turmoil where i have all these esteem lowering thoughts along the lines of, they'll hate me forever now, or i'm such a horrible person, as well as being filled with guilt for upsetting the person.\\nit always turns out that whatever i did wrong only annoyed them for a short period of time and before i knew it life is back to normal, i just wish i could control the horrible negative wave that comes over me</td>\n",
       "      <td>Anxiety</td>\n",
       "      <td>0</td>\n",
       "      <td>does anyone else feel like the worst person ever if they annoy a friend hey reddit basically i have mild anxiety but something that really messes with my head is when i have a fall out or get a blunt text from a friend to say i annoyed them when i did something my first response is always im sorry and trying not to say it a million times over but my mind then goes through this turmoil where i have all these esteem lowering thoughts along the lines of theyll hate me forever now or im such a horrible person as well as being filled with guilt for upsetting the person\\nit always turns out that whatever i did wrong only annoyed them for a short period of time and before i knew it life is back to normal i just wish i could control the horrible negative wave that comes over me</td>\n",
       "    </tr>\n",
       "  </tbody>\n",
       "</table>\n",
       "</div>"
      ],
      "text/plain": [
       "                                                                                                                                                                                                                                                                                                                                                                                                                                                                                                                                                                                                                                                                                                                                                                                                                                                                                                                                                                                                                                                                                                                                                          post  \\\n",
       "0  does anyone else get anxious with working? im scared that im going to have to do repairs that cost of money.                                                                                                                                                                                                                                                                                                                                                                                                                                                                                                                                                                                                                                                                                                                                                                                                                                                                                                                                                                                                                                                  \n",
       "1  help with anxiety-inducing fears about school caused by a health issue i'm 35 and planning to go back to grad school, but over the years i developed some eye floaters that i can mostly ignore. they are just out of my visible sight range when reading small books like novels, but i started studying for the gre with a big textbook and realized how obvious these floaters were now, and they've left me with anxiety about how i'm going to cope with school if, on top of everything else like how i'm no longer used to student life, how grad school is likely the hardest form of school i've ever done etc, add to that this problem with distracting floaters in my eyes that distract and annoy me.  i really don't know how to deal here. i am not confident in exposure therapy as i have had these floaters for a few years and really only learned to deal with them by changing my lifestyle such that i don't have to deal with them. it's not a big issue, and some junk in my eyes shouldn't be that much of a problem. but just now i just glanced at my book for a few minutes and now i'm dizzy with worry about it.  what to do?   \n",
       "2  use up what's left and throw the rest away i recently returned from 6 years working overseas.  unfortunately in the last few years my drinking and stimulant became worse and was detrimental to my mental and physical health.  i'm doing fine now as far as that is concerned. attended therapy, clean and sober since november last year.  when i came back i heard a few of my \"friends\" use the following phrase,  \"we'll just use up what's left of him and then throw the rest away\"  i've never heard this before. i've always been a people pleasing personality type and i'm struggling hard to determine how to interpret it.  maybe i just don't want to face facts that it means exactly what it says... that by hanging around with these people i put myself in a weak position and they aren't real friends at all.  any thoughts?                                                                                                                                                                                                                                                                                                            \n",
       "3  my brain is driving me crazy! im a perfectionist and think everyone hates me all the time. i literally always worried ive done something wrong.   im at my first big professional conference in a major us city. i barely slept last night because of a backache and nerves. that and the jet lag is impairing  my functioning and i have blotchy skin and my dress is riding up on my legs and ive had to pull it down. all i had to do today was register for the conference, but i was confused at every step and feel that everyone thinks im stupid or hungover or unprofessional or something. im walking around this city i do not know oblivious and feel embarrassed and stupid. my anxiety is killing me and men keep hitting on me. i havent been away from my husband since we moved in together and i feel so dumb and small.   im so scared for my presentation tomorrow. can someone either console me or kindly put me out of my misery?                                                                                                                                                                                                      \n",
       "4  does anyone else feel like the worst person ever if they annoy a friend? hey reddit. basically, i have mild anxiety. but something that really messes with my head is when i have a fall out or get a blunt text from a friend to say i annoyed them when i did something. my first response is always i'm sorry (and trying not to say it a million times over) but my mind then goes through this turmoil where i have all these esteem lowering thoughts along the lines of, they'll hate me forever now, or i'm such a horrible person, as well as being filled with guilt for upsetting the person.\\nit always turns out that whatever i did wrong only annoyed them for a short period of time and before i knew it life is back to normal, i just wish i could control the horrible negative wave that comes over me                                                                                                                                                                                                                                                                                                                                   \n",
       "\n",
       "    topics  category_id  \\\n",
       "0  Anxiety  0             \n",
       "1  Anxiety  0             \n",
       "2  Anxiety  0             \n",
       "3  Anxiety  0             \n",
       "4  Anxiety  0             \n",
       "\n",
       "                                                                                                                                                                                                                                                                                                                                                                                                                                                                                                                                                                                                                                                                                                                                                                                                                                                                                                                                                                                                                                                                                                                           clean_text  \n",
       "0  does anyone else get anxious with working im scared that im going to have to do repairs that cost of money                                                                                                                                                                                                                                                                                                                                                                                                                                                                                                                                                                                                                                                                                                                                                                                                                                                                                                                                                                                                                          \n",
       "1  help with anxietyinducing fears about school caused by a health issue im 35 and planning to go back to grad school but over the years i developed some eye floaters that i can mostly ignore they are just out of my visible sight range when reading small books like novels but i started studying for the gre with a big textbook and realized how obvious these floaters were now and theyve left me with anxiety about how im going to cope with school if on top of everything else like how im no longer used to student life how grad school is likely the hardest form of school ive ever done etc add to that this problem with distracting floaters in my eyes that distract and annoy me  i really dont know how to deal here i am not confident in exposure therapy as i have had these floaters for a few years and really only learned to deal with them by changing my lifestyle such that i dont have to deal with them its not a big issue and some junk in my eyes shouldnt be that much of a problem but just now i just glanced at my book for a few minutes and now im dizzy with worry about it  what to do  \n",
       "2  use up whats left and throw the rest away i recently returned from 6 years working overseas  unfortunately in the last few years my drinking and stimulant became worse and was detrimental to my mental and physical health  im doing fine now as far as that is concerned attended therapy clean and sober since november last year  when i came back i heard a few of my friends use the following phrase  well just use up whats left of him and then throw the rest away  ive never heard this before ive always been a people pleasing personality type and im struggling hard to determine how to interpret it  maybe i just dont want to face facts that it means exactly what it says that by hanging around with these people i put myself in a weak position and they arent real friends at all  any thoughts                                                                                                                                                                                                                                                                                                            \n",
       "3  my brain is driving me crazy im a perfectionist and think everyone hates me all the time i literally always worried ive done something wrong   im at my first big professional conference in a major us city i barely slept last night because of a backache and nerves that and the jet lag is impairing  my functioning and i have blotchy skin and my dress is riding up on my legs and ive had to pull it down all i had to do today was register for the conference but i was confused at every step and feel that everyone thinks im stupid or hungover or unprofessional or something im walking around this city i do not know oblivious and feel embarrassed and stupid my anxiety is killing me and men keep hitting on me i havent been away from my husband since we moved in together and i feel so dumb and small   im so scared for my presentation tomorrow can someone either console me or kindly put me out of my misery                                                                                                                                                                                         \n",
       "4  does anyone else feel like the worst person ever if they annoy a friend hey reddit basically i have mild anxiety but something that really messes with my head is when i have a fall out or get a blunt text from a friend to say i annoyed them when i did something my first response is always im sorry and trying not to say it a million times over but my mind then goes through this turmoil where i have all these esteem lowering thoughts along the lines of theyll hate me forever now or im such a horrible person as well as being filled with guilt for upsetting the person\\nit always turns out that whatever i did wrong only annoyed them for a short period of time and before i knew it life is back to normal i just wish i could control the horrible negative wave that comes over me                                                                                                                                                                                                                                                                                                                        "
      ]
     },
     "execution_count": 358,
     "metadata": {},
     "output_type": "execute_result"
    }
   ],
   "source": [
    "#defining the function to remove punctuation\n",
    "def remove_punctuation(post):\n",
    "    text_nopunc=[c for c in post if c not in string.punctuation]\n",
    "    punc=''.join(text_nopunc)\n",
    "    return punc\n",
    "data['clean_text'] = data['post'].apply(lambda x:remove_punctuation(x))\n",
    "data.head()\n"
   ]
  },
  {
   "cell_type": "code",
   "execution_count": 359,
   "id": "489d2115",
   "metadata": {},
   "outputs": [
    {
     "name": "stderr",
     "output_type": "stream",
     "text": [
      "C:\\Users\\Dell\\AppData\\Local\\Temp\\ipykernel_16020\\557741119.py:8: FutureWarning: The default value of regex will change from True to False in a future version.\n",
      "  data['clean_text']=data['clean_text'].str.replace(r\"http\\S+\",\" \")\n",
      "C:\\Users\\Dell\\AppData\\Local\\Temp\\ipykernel_16020\\557741119.py:12: FutureWarning: Passing a negative integer is deprecated in version 1.0 and will not be supported in future version. Instead, use None to not limit the column width.\n",
      "  pd.set_option('display.max_colwidth', -1)\n"
     ]
    },
    {
     "data": {
      "text/html": [
       "<div>\n",
       "<style scoped>\n",
       "    .dataframe tbody tr th:only-of-type {\n",
       "        vertical-align: middle;\n",
       "    }\n",
       "\n",
       "    .dataframe tbody tr th {\n",
       "        vertical-align: top;\n",
       "    }\n",
       "\n",
       "    .dataframe thead th {\n",
       "        text-align: right;\n",
       "    }\n",
       "</style>\n",
       "<table border=\"1\" class=\"dataframe\">\n",
       "  <thead>\n",
       "    <tr style=\"text-align: right;\">\n",
       "      <th></th>\n",
       "      <th>post</th>\n",
       "      <th>topics</th>\n",
       "      <th>category_id</th>\n",
       "      <th>clean_text</th>\n",
       "    </tr>\n",
       "  </thead>\n",
       "  <tbody>\n",
       "    <tr>\n",
       "      <th>0</th>\n",
       "      <td>does anyone else get anxious with working? im scared that im going to have to do repairs that cost of money.</td>\n",
       "      <td>Anxiety</td>\n",
       "      <td>0</td>\n",
       "      <td>does anyone else get anxious with working im scared that im going to have to do repairs that cost of money</td>\n",
       "    </tr>\n",
       "    <tr>\n",
       "      <th>1</th>\n",
       "      <td>help with anxiety-inducing fears about school caused by a health issue i'm 35 and planning to go back to grad school, but over the years i developed some eye floaters that i can mostly ignore. they are just out of my visible sight range when reading small books like novels, but i started studying for the gre with a big textbook and realized how obvious these floaters were now, and they've left me with anxiety about how i'm going to cope with school if, on top of everything else like how i'm no longer used to student life, how grad school is likely the hardest form of school i've ever done etc, add to that this problem with distracting floaters in my eyes that distract and annoy me.  i really don't know how to deal here. i am not confident in exposure therapy as i have had these floaters for a few years and really only learned to deal with them by changing my lifestyle such that i don't have to deal with them. it's not a big issue, and some junk in my eyes shouldn't be that much of a problem. but just now i just glanced at my book for a few minutes and now i'm dizzy with worry about it.  what to do?</td>\n",
       "      <td>Anxiety</td>\n",
       "      <td>0</td>\n",
       "      <td>help with anxietyinducing fears about school caused by a health issue im 35 and planning to go back to grad school but over the years i developed some eye floaters that i can mostly ignore they are just out of my visible sight range when reading small books like novels but i started studying for the gre with a big textbook and realized how obvious these floaters were now and theyve left me with anxiety about how im going to cope with school if on top of everything else like how im no longer used to student life how grad school is likely the hardest form of school ive ever done etc add to that this problem with distracting floaters in my eyes that distract and annoy me  i really dont know how to deal here i am not confident in exposure therapy as i have had these floaters for a few years and really only learned to deal with them by changing my lifestyle such that i dont have to deal with them its not a big issue and some junk in my eyes shouldnt be that much of a problem but just now i just glanced at my book for a few minutes and now im dizzy with worry about it  what to do</td>\n",
       "    </tr>\n",
       "    <tr>\n",
       "      <th>2</th>\n",
       "      <td>use up what's left and throw the rest away i recently returned from 6 years working overseas.  unfortunately in the last few years my drinking and stimulant became worse and was detrimental to my mental and physical health.  i'm doing fine now as far as that is concerned. attended therapy, clean and sober since november last year.  when i came back i heard a few of my \"friends\" use the following phrase,  \"we'll just use up what's left of him and then throw the rest away\"  i've never heard this before. i've always been a people pleasing personality type and i'm struggling hard to determine how to interpret it.  maybe i just don't want to face facts that it means exactly what it says... that by hanging around with these people i put myself in a weak position and they aren't real friends at all.  any thoughts?</td>\n",
       "      <td>Anxiety</td>\n",
       "      <td>0</td>\n",
       "      <td>use up whats left and throw the rest away i recently returned from 6 years working overseas  unfortunately in the last few years my drinking and stimulant became worse and was detrimental to my mental and physical health  im doing fine now as far as that is concerned attended therapy clean and sober since november last year  when i came back i heard a few of my friends use the following phrase  well just use up whats left of him and then throw the rest away  ive never heard this before ive always been a people pleasing personality type and im struggling hard to determine how to interpret it  maybe i just dont want to face facts that it means exactly what it says that by hanging around with these people i put myself in a weak position and they arent real friends at all  any thoughts</td>\n",
       "    </tr>\n",
       "    <tr>\n",
       "      <th>3</th>\n",
       "      <td>my brain is driving me crazy! im a perfectionist and think everyone hates me all the time. i literally always worried ive done something wrong.   im at my first big professional conference in a major us city. i barely slept last night because of a backache and nerves. that and the jet lag is impairing  my functioning and i have blotchy skin and my dress is riding up on my legs and ive had to pull it down. all i had to do today was register for the conference, but i was confused at every step and feel that everyone thinks im stupid or hungover or unprofessional or something. im walking around this city i do not know oblivious and feel embarrassed and stupid. my anxiety is killing me and men keep hitting on me. i havent been away from my husband since we moved in together and i feel so dumb and small.   im so scared for my presentation tomorrow. can someone either console me or kindly put me out of my misery?</td>\n",
       "      <td>Anxiety</td>\n",
       "      <td>0</td>\n",
       "      <td>my brain is driving me crazy im a perfectionist and think everyone hates me all the time i literally always worried ive done something wrong   im at my first big professional conference in a major us city i barely slept last night because of a backache and nerves that and the jet lag is impairing  my functioning and i have blotchy skin and my dress is riding up on my legs and ive had to pull it down all i had to do today was register for the conference but i was confused at every step and feel that everyone thinks im stupid or hungover or unprofessional or something im walking around this city i do not know oblivious and feel embarrassed and stupid my anxiety is killing me and men keep hitting on me i havent been away from my husband since we moved in together and i feel so dumb and small   im so scared for my presentation tomorrow can someone either console me or kindly put me out of my misery</td>\n",
       "    </tr>\n",
       "    <tr>\n",
       "      <th>4</th>\n",
       "      <td>does anyone else feel like the worst person ever if they annoy a friend? hey reddit. basically, i have mild anxiety. but something that really messes with my head is when i have a fall out or get a blunt text from a friend to say i annoyed them when i did something. my first response is always i'm sorry (and trying not to say it a million times over) but my mind then goes through this turmoil where i have all these esteem lowering thoughts along the lines of, they'll hate me forever now, or i'm such a horrible person, as well as being filled with guilt for upsetting the person.\\nit always turns out that whatever i did wrong only annoyed them for a short period of time and before i knew it life is back to normal, i just wish i could control the horrible negative wave that comes over me</td>\n",
       "      <td>Anxiety</td>\n",
       "      <td>0</td>\n",
       "      <td>does anyone else feel like the worst person ever if they annoy a friend hey reddit basically i have mild anxiety but something that really messes with my head is when i have a fall out or get a blunt text from a friend to say i annoyed them when i did something my first response is always im sorry and trying not to say it a million times over but my mind then goes through this turmoil where i have all these esteem lowering thoughts along the lines of theyll hate me forever now or im such a horrible person as well as being filled with guilt for upsetting the person  it always turns out that whatever i did wrong only annoyed them for a short period of time and before i knew it life is back to normal i just wish i could control the horrible negative wave that comes over me</td>\n",
       "    </tr>\n",
       "    <tr>\n",
       "      <th>...</th>\n",
       "      <td>...</td>\n",
       "      <td>...</td>\n",
       "      <td>...</td>\n",
       "      <td>...</td>\n",
       "    </tr>\n",
       "    <tr>\n",
       "      <th>8525</th>\n",
       "      <td>going through a phase where anxiety continues to haunt</td>\n",
       "      <td>Anxiety</td>\n",
       "      <td>0</td>\n",
       "      <td>going through a phase where anxiety continues to haunt</td>\n",
       "    </tr>\n",
       "    <tr>\n",
       "      <th>8526</th>\n",
       "      <td>it's been a week but i still haven't received a reply, aka i'm really looking forward to it</td>\n",
       "      <td>Anxiety</td>\n",
       "      <td>0</td>\n",
       "      <td>its been a week but i still havent received a reply aka im really looking forward to it</td>\n",
       "    </tr>\n",
       "    <tr>\n",
       "      <th>8527</th>\n",
       "      <td>worried, nervous, sad, all mixed up. that's how it is :')</td>\n",
       "      <td>Anxiety</td>\n",
       "      <td>0</td>\n",
       "      <td>worried nervous sad all mixed up thats how it is</td>\n",
       "    </tr>\n",
       "    <tr>\n",
       "      <th>8528</th>\n",
       "      <td>tbtb so worried sorry</td>\n",
       "      <td>Anxiety</td>\n",
       "      <td>0</td>\n",
       "      <td>tbtb so worried sorry</td>\n",
       "    </tr>\n",
       "    <tr>\n",
       "      <th>8529</th>\n",
       "      <td>there is a task to complain, there is no task to worry, wonder</td>\n",
       "      <td>Anxiety</td>\n",
       "      <td>0</td>\n",
       "      <td>there is a task to complain there is no task to worry wonder</td>\n",
       "    </tr>\n",
       "  </tbody>\n",
       "</table>\n",
       "<p>8512 rows × 4 columns</p>\n",
       "</div>"
      ],
      "text/plain": [
       "                                                                                                                                                                                                                                                                                                                                                                                                                                                                                                                                                                                                                                                                                                                                                                                                                                                                                                                                                                                                                                                                                                                                                             post  \\\n",
       "0     does anyone else get anxious with working? im scared that im going to have to do repairs that cost of money.                                                                                                                                                                                                                                                                                                                                                                                                                                                                                                                                                                                                                                                                                                                                                                                                                                                                                                                                                                                                                                                  \n",
       "1     help with anxiety-inducing fears about school caused by a health issue i'm 35 and planning to go back to grad school, but over the years i developed some eye floaters that i can mostly ignore. they are just out of my visible sight range when reading small books like novels, but i started studying for the gre with a big textbook and realized how obvious these floaters were now, and they've left me with anxiety about how i'm going to cope with school if, on top of everything else like how i'm no longer used to student life, how grad school is likely the hardest form of school i've ever done etc, add to that this problem with distracting floaters in my eyes that distract and annoy me.  i really don't know how to deal here. i am not confident in exposure therapy as i have had these floaters for a few years and really only learned to deal with them by changing my lifestyle such that i don't have to deal with them. it's not a big issue, and some junk in my eyes shouldn't be that much of a problem. but just now i just glanced at my book for a few minutes and now i'm dizzy with worry about it.  what to do?   \n",
       "2     use up what's left and throw the rest away i recently returned from 6 years working overseas.  unfortunately in the last few years my drinking and stimulant became worse and was detrimental to my mental and physical health.  i'm doing fine now as far as that is concerned. attended therapy, clean and sober since november last year.  when i came back i heard a few of my \"friends\" use the following phrase,  \"we'll just use up what's left of him and then throw the rest away\"  i've never heard this before. i've always been a people pleasing personality type and i'm struggling hard to determine how to interpret it.  maybe i just don't want to face facts that it means exactly what it says... that by hanging around with these people i put myself in a weak position and they aren't real friends at all.  any thoughts?                                                                                                                                                                                                                                                                                                            \n",
       "3     my brain is driving me crazy! im a perfectionist and think everyone hates me all the time. i literally always worried ive done something wrong.   im at my first big professional conference in a major us city. i barely slept last night because of a backache and nerves. that and the jet lag is impairing  my functioning and i have blotchy skin and my dress is riding up on my legs and ive had to pull it down. all i had to do today was register for the conference, but i was confused at every step and feel that everyone thinks im stupid or hungover or unprofessional or something. im walking around this city i do not know oblivious and feel embarrassed and stupid. my anxiety is killing me and men keep hitting on me. i havent been away from my husband since we moved in together and i feel so dumb and small.   im so scared for my presentation tomorrow. can someone either console me or kindly put me out of my misery?                                                                                                                                                                                                      \n",
       "4     does anyone else feel like the worst person ever if they annoy a friend? hey reddit. basically, i have mild anxiety. but something that really messes with my head is when i have a fall out or get a blunt text from a friend to say i annoyed them when i did something. my first response is always i'm sorry (and trying not to say it a million times over) but my mind then goes through this turmoil where i have all these esteem lowering thoughts along the lines of, they'll hate me forever now, or i'm such a horrible person, as well as being filled with guilt for upsetting the person.\\nit always turns out that whatever i did wrong only annoyed them for a short period of time and before i knew it life is back to normal, i just wish i could control the horrible negative wave that comes over me                                                                                                                                                                                                                                                                                                                                   \n",
       "...                                                                                                                                                                                                                                                                                                                                                                                                                                                                                                                                                                                                                                                                                                                                                                                                                           ...                                                                                                                                                                                                                                                                                                                                   \n",
       "8525  going through a phase where anxiety continues to haunt                                                                                                                                                                                                                                                                                                                                                                                                                                                                                                                                                                                                                                                                                                                                                                                                                                                                                                                                                                                                                                                                                                        \n",
       "8526  it's been a week but i still haven't received a reply, aka i'm really looking forward to it                                                                                                                                                                                                                                                                                                                                                                                                                                                                                                                                                                                                                                                                                                                                                                                                                                                                                                                                                                                                                                                                   \n",
       "8527  worried, nervous, sad, all mixed up. that's how it is :')                                                                                                                                                                                                                                                                                                                                                                                                                                                                                                                                                                                                                                                                                                                                                                                                                                                                                                                                                                                                                                                                                                     \n",
       "8528  tbtb so worried sorry                                                                                                                                                                                                                                                                                                                                                                                                                                                                                                                                                                                                                                                                                                                                                                                                                                                                                                                                                                                                                                                                                                                                         \n",
       "8529  there is a task to complain, there is no task to worry, wonder                                                                                                                                                                                                                                                                                                                                                                                                                                                                                                                                                                                                                                                                                                                                                                                                                                                                                                                                                                                                                                                                                                \n",
       "\n",
       "       topics  category_id  \\\n",
       "0     Anxiety  0             \n",
       "1     Anxiety  0             \n",
       "2     Anxiety  0             \n",
       "3     Anxiety  0             \n",
       "4     Anxiety  0             \n",
       "...       ... ..             \n",
       "8525  Anxiety  0             \n",
       "8526  Anxiety  0             \n",
       "8527  Anxiety  0             \n",
       "8528  Anxiety  0             \n",
       "8529  Anxiety  0             \n",
       "\n",
       "                                                                                                                                                                                                                                                                                                                                                                                                                                                                                                                                                                                                                                                                                                                                                                                                                                                                                                                                                                                                                                                                                                                              clean_text  \n",
       "0     does anyone else get anxious with working im scared that im going to have to do repairs that cost of money                                                                                                                                                                                                                                                                                                                                                                                                                                                                                                                                                                                                                                                                                                                                                                                                                                                                                                                                                                                                                          \n",
       "1     help with anxietyinducing fears about school caused by a health issue im 35 and planning to go back to grad school but over the years i developed some eye floaters that i can mostly ignore they are just out of my visible sight range when reading small books like novels but i started studying for the gre with a big textbook and realized how obvious these floaters were now and theyve left me with anxiety about how im going to cope with school if on top of everything else like how im no longer used to student life how grad school is likely the hardest form of school ive ever done etc add to that this problem with distracting floaters in my eyes that distract and annoy me  i really dont know how to deal here i am not confident in exposure therapy as i have had these floaters for a few years and really only learned to deal with them by changing my lifestyle such that i dont have to deal with them its not a big issue and some junk in my eyes shouldnt be that much of a problem but just now i just glanced at my book for a few minutes and now im dizzy with worry about it  what to do  \n",
       "2     use up whats left and throw the rest away i recently returned from 6 years working overseas  unfortunately in the last few years my drinking and stimulant became worse and was detrimental to my mental and physical health  im doing fine now as far as that is concerned attended therapy clean and sober since november last year  when i came back i heard a few of my friends use the following phrase  well just use up whats left of him and then throw the rest away  ive never heard this before ive always been a people pleasing personality type and im struggling hard to determine how to interpret it  maybe i just dont want to face facts that it means exactly what it says that by hanging around with these people i put myself in a weak position and they arent real friends at all  any thoughts                                                                                                                                                                                                                                                                                                            \n",
       "3     my brain is driving me crazy im a perfectionist and think everyone hates me all the time i literally always worried ive done something wrong   im at my first big professional conference in a major us city i barely slept last night because of a backache and nerves that and the jet lag is impairing  my functioning and i have blotchy skin and my dress is riding up on my legs and ive had to pull it down all i had to do today was register for the conference but i was confused at every step and feel that everyone thinks im stupid or hungover or unprofessional or something im walking around this city i do not know oblivious and feel embarrassed and stupid my anxiety is killing me and men keep hitting on me i havent been away from my husband since we moved in together and i feel so dumb and small   im so scared for my presentation tomorrow can someone either console me or kindly put me out of my misery                                                                                                                                                                                         \n",
       "4     does anyone else feel like the worst person ever if they annoy a friend hey reddit basically i have mild anxiety but something that really messes with my head is when i have a fall out or get a blunt text from a friend to say i annoyed them when i did something my first response is always im sorry and trying not to say it a million times over but my mind then goes through this turmoil where i have all these esteem lowering thoughts along the lines of theyll hate me forever now or im such a horrible person as well as being filled with guilt for upsetting the person  it always turns out that whatever i did wrong only annoyed them for a short period of time and before i knew it life is back to normal i just wish i could control the horrible negative wave that comes over me                                                                                                                                                                                                                                                                                                                        \n",
       "...                                                                                                                                                                                                                                                                                                                                                                                                                                                                                                                                                                                                                                                                                                                                                                                                            ...                                                                                                                                                                                                                                                                                                                        \n",
       "8525  going through a phase where anxiety continues to haunt                                                                                                                                                                                                                                                                                                                                                                                                                                                                                                                                                                                                                                                                                                                                                                                                                                                                                                                                                                                                                                                                              \n",
       "8526  its been a week but i still havent received a reply aka im really looking forward to it                                                                                                                                                                                                                                                                                                                                                                                                                                                                                                                                                                                                                                                                                                                                                                                                                                                                                                                                                                                                                                             \n",
       "8527  worried nervous sad all mixed up thats how it is                                                                                                                                                                                                                                                                                                                                                                                                                                                                                                                                                                                                                                                                                                                                                                                                                                                                                                                                                                                                                                                                                    \n",
       "8528  tbtb so worried sorry                                                                                                                                                                                                                                                                                                                                                                                                                                                                                                                                                                                                                                                                                                                                                                                                                                                                                                                                                                                                                                                                                                               \n",
       "8529  there is a task to complain there is no task to worry wonder                                                                                                                                                                                                                                                                                                                                                                                                                                                                                                                                                                                                                                                                                                                                                                                                                                                                                                                                                                                                                                                                        \n",
       "\n",
       "[8512 rows x 4 columns]"
      ]
     },
     "metadata": {},
     "output_type": "display_data"
    }
   ],
   "source": [
    "#Removing URL\n",
    "#The http characters in the regex match the literal characters.\n",
    "#\\S matches any character that is not a whitespace character\n",
    "#The question mark ? causes the regular expression to match 0 or 1 repetitions of the preceding character\n",
    "#We then have the colon and two forward slashes :// to complete the protocol.\n",
    "#data['clean_text']=data['clean_text'].str.replace(\"http\\S+\",\" \")\n",
    "import re\n",
    "data['clean_text']=data['clean_text'].str.replace(r\"http\\S+\",\" \")\n",
    "data['clean_text']=data['clean_text'].str.replace(\"\\n\",\"  \")\n",
    "data['clean_text']=data['clean_text'].str.replace(\"â€™\",\"  \")\n",
    "data['clean_text']=data['clean_text'].str.replace(\"Ã¢â‚¬â„¢\",\"  \")\n",
    "pd.set_option('display.max_colwidth', -1)\n",
    "display(data)\n",
    "#data.head()\n",
    "\n"
   ]
  },
  {
   "cell_type": "code",
   "execution_count": 360,
   "id": "c7d9e335",
   "metadata": {},
   "outputs": [
    {
     "data": {
      "text/html": [
       "<div>\n",
       "<style scoped>\n",
       "    .dataframe tbody tr th:only-of-type {\n",
       "        vertical-align: middle;\n",
       "    }\n",
       "\n",
       "    .dataframe tbody tr th {\n",
       "        vertical-align: top;\n",
       "    }\n",
       "\n",
       "    .dataframe thead th {\n",
       "        text-align: right;\n",
       "    }\n",
       "</style>\n",
       "<table border=\"1\" class=\"dataframe\">\n",
       "  <thead>\n",
       "    <tr style=\"text-align: right;\">\n",
       "      <th></th>\n",
       "      <th>post</th>\n",
       "      <th>topics</th>\n",
       "      <th>category_id</th>\n",
       "      <th>clean_text</th>\n",
       "    </tr>\n",
       "  </thead>\n",
       "  <tbody>\n",
       "    <tr>\n",
       "      <th>0</th>\n",
       "      <td>does anyone else get anxious with working? im scared that im going to have to do repairs that cost of money.</td>\n",
       "      <td>Anxiety</td>\n",
       "      <td>0</td>\n",
       "      <td>does anyone else get anxious with working im scared that im going to have to do repairs that cost of money</td>\n",
       "    </tr>\n",
       "    <tr>\n",
       "      <th>1</th>\n",
       "      <td>help with anxiety-inducing fears about school caused by a health issue i'm 35 and planning to go back to grad school, but over the years i developed some eye floaters that i can mostly ignore. they are just out of my visible sight range when reading small books like novels, but i started studying for the gre with a big textbook and realized how obvious these floaters were now, and they've left me with anxiety about how i'm going to cope with school if, on top of everything else like how i'm no longer used to student life, how grad school is likely the hardest form of school i've ever done etc, add to that this problem with distracting floaters in my eyes that distract and annoy me.  i really don't know how to deal here. i am not confident in exposure therapy as i have had these floaters for a few years and really only learned to deal with them by changing my lifestyle such that i don't have to deal with them. it's not a big issue, and some junk in my eyes shouldn't be that much of a problem. but just now i just glanced at my book for a few minutes and now i'm dizzy with worry about it.  what to do?</td>\n",
       "      <td>Anxiety</td>\n",
       "      <td>0</td>\n",
       "      <td>help with anxietyinducing fears about school caused by a health issue im 35 and planning to go back to grad school but over the years i developed some eye floaters that i can mostly ignore they are just out of my visible sight range when reading small books like novels but i started studying for the gre with a big textbook and realized how obvious these floaters were now and theyve left me with anxiety about how im going to cope with school if on top of everything else like how im no longer used to student life how grad school is likely the hardest form of school ive ever done etc add to that this problem with distracting floaters in my eyes that distract and annoy me  i really dont know how to deal here i am not confident in exposure therapy as i have had these floaters for a few years and really only learned to deal with them by changing my lifestyle such that i dont have to deal with them its not a big issue and some junk in my eyes shouldnt be that much of a problem but just now i just glanced at my book for a few minutes and now im dizzy with worry about it  what to do</td>\n",
       "    </tr>\n",
       "    <tr>\n",
       "      <th>2</th>\n",
       "      <td>use up what's left and throw the rest away i recently returned from 6 years working overseas.  unfortunately in the last few years my drinking and stimulant became worse and was detrimental to my mental and physical health.  i'm doing fine now as far as that is concerned. attended therapy, clean and sober since november last year.  when i came back i heard a few of my \"friends\" use the following phrase,  \"we'll just use up what's left of him and then throw the rest away\"  i've never heard this before. i've always been a people pleasing personality type and i'm struggling hard to determine how to interpret it.  maybe i just don't want to face facts that it means exactly what it says... that by hanging around with these people i put myself in a weak position and they aren't real friends at all.  any thoughts?</td>\n",
       "      <td>Anxiety</td>\n",
       "      <td>0</td>\n",
       "      <td>use up whats left and throw the rest away i recently returned from 6 years working overseas  unfortunately in the last few years my drinking and stimulant became worse and was detrimental to my mental and physical health  im doing fine now as far as that is concerned attended therapy clean and sober since november last year  when i came back i heard a few of my friends use the following phrase  well just use up whats left of him and then throw the rest away  ive never heard this before ive always been a people pleasing personality type and im struggling hard to determine how to interpret it  maybe i just dont want to face facts that it means exactly what it says that by hanging around with these people i put myself in a weak position and they arent real friends at all  any thoughts</td>\n",
       "    </tr>\n",
       "    <tr>\n",
       "      <th>3</th>\n",
       "      <td>my brain is driving me crazy! im a perfectionist and think everyone hates me all the time. i literally always worried ive done something wrong.   im at my first big professional conference in a major us city. i barely slept last night because of a backache and nerves. that and the jet lag is impairing  my functioning and i have blotchy skin and my dress is riding up on my legs and ive had to pull it down. all i had to do today was register for the conference, but i was confused at every step and feel that everyone thinks im stupid or hungover or unprofessional or something. im walking around this city i do not know oblivious and feel embarrassed and stupid. my anxiety is killing me and men keep hitting on me. i havent been away from my husband since we moved in together and i feel so dumb and small.   im so scared for my presentation tomorrow. can someone either console me or kindly put me out of my misery?</td>\n",
       "      <td>Anxiety</td>\n",
       "      <td>0</td>\n",
       "      <td>my brain is driving me crazy im a perfectionist and think everyone hates me all the time i literally always worried ive done something wrong   im at my first big professional conference in a major us city i barely slept last night because of a backache and nerves that and the jet lag is impairing  my functioning and i have blotchy skin and my dress is riding up on my legs and ive had to pull it down all i had to do today was register for the conference but i was confused at every step and feel that everyone thinks im stupid or hungover or unprofessional or something im walking around this city i do not know oblivious and feel embarrassed and stupid my anxiety is killing me and men keep hitting on me i havent been away from my husband since we moved in together and i feel so dumb and small   im so scared for my presentation tomorrow can someone either console me or kindly put me out of my misery</td>\n",
       "    </tr>\n",
       "    <tr>\n",
       "      <th>4</th>\n",
       "      <td>does anyone else feel like the worst person ever if they annoy a friend? hey reddit. basically, i have mild anxiety. but something that really messes with my head is when i have a fall out or get a blunt text from a friend to say i annoyed them when i did something. my first response is always i'm sorry (and trying not to say it a million times over) but my mind then goes through this turmoil where i have all these esteem lowering thoughts along the lines of, they'll hate me forever now, or i'm such a horrible person, as well as being filled with guilt for upsetting the person.\\nit always turns out that whatever i did wrong only annoyed them for a short period of time and before i knew it life is back to normal, i just wish i could control the horrible negative wave that comes over me</td>\n",
       "      <td>Anxiety</td>\n",
       "      <td>0</td>\n",
       "      <td>does anyone else feel like the worst person ever if they annoy a friend hey reddit basically i have mild anxiety but something that really messes with my head is when i have a fall out or get a blunt text from a friend to say i annoyed them when i did something my first response is always im sorry and trying not to say it a million times over but my mind then goes through this turmoil where i have all these esteem lowering thoughts along the lines of theyll hate me forever now or im such a horrible person as well as being filled with guilt for upsetting the person  it always turns out that whatever i did wrong only annoyed them for a short period of time and before i knew it life is back to normal i just wish i could control the horrible negative wave that comes over me</td>\n",
       "    </tr>\n",
       "    <tr>\n",
       "      <th>...</th>\n",
       "      <td>...</td>\n",
       "      <td>...</td>\n",
       "      <td>...</td>\n",
       "      <td>...</td>\n",
       "    </tr>\n",
       "    <tr>\n",
       "      <th>8525</th>\n",
       "      <td>going through a phase where anxiety continues to haunt</td>\n",
       "      <td>Anxiety</td>\n",
       "      <td>0</td>\n",
       "      <td>going through a phase where anxiety continues to haunt</td>\n",
       "    </tr>\n",
       "    <tr>\n",
       "      <th>8526</th>\n",
       "      <td>it's been a week but i still haven't received a reply, aka i'm really looking forward to it</td>\n",
       "      <td>Anxiety</td>\n",
       "      <td>0</td>\n",
       "      <td>its been a week but i still havent received a reply aka im really looking forward to it</td>\n",
       "    </tr>\n",
       "    <tr>\n",
       "      <th>8527</th>\n",
       "      <td>worried, nervous, sad, all mixed up. that's how it is :')</td>\n",
       "      <td>Anxiety</td>\n",
       "      <td>0</td>\n",
       "      <td>worried nervous sad all mixed up thats how it is</td>\n",
       "    </tr>\n",
       "    <tr>\n",
       "      <th>8528</th>\n",
       "      <td>tbtb so worried sorry</td>\n",
       "      <td>Anxiety</td>\n",
       "      <td>0</td>\n",
       "      <td>tbtb so worried sorry</td>\n",
       "    </tr>\n",
       "    <tr>\n",
       "      <th>8529</th>\n",
       "      <td>there is a task to complain, there is no task to worry, wonder</td>\n",
       "      <td>Anxiety</td>\n",
       "      <td>0</td>\n",
       "      <td>there is a task to complain there is no task to worry wonder</td>\n",
       "    </tr>\n",
       "  </tbody>\n",
       "</table>\n",
       "<p>8512 rows × 4 columns</p>\n",
       "</div>"
      ],
      "text/plain": [
       "                                                                                                                                                                                                                                                                                                                                                                                                                                                                                                                                                                                                                                                                                                                                                                                                                                                                                                                                                                                                                                                                                                                                                             post  \\\n",
       "0     does anyone else get anxious with working? im scared that im going to have to do repairs that cost of money.                                                                                                                                                                                                                                                                                                                                                                                                                                                                                                                                                                                                                                                                                                                                                                                                                                                                                                                                                                                                                                                  \n",
       "1     help with anxiety-inducing fears about school caused by a health issue i'm 35 and planning to go back to grad school, but over the years i developed some eye floaters that i can mostly ignore. they are just out of my visible sight range when reading small books like novels, but i started studying for the gre with a big textbook and realized how obvious these floaters were now, and they've left me with anxiety about how i'm going to cope with school if, on top of everything else like how i'm no longer used to student life, how grad school is likely the hardest form of school i've ever done etc, add to that this problem with distracting floaters in my eyes that distract and annoy me.  i really don't know how to deal here. i am not confident in exposure therapy as i have had these floaters for a few years and really only learned to deal with them by changing my lifestyle such that i don't have to deal with them. it's not a big issue, and some junk in my eyes shouldn't be that much of a problem. but just now i just glanced at my book for a few minutes and now i'm dizzy with worry about it.  what to do?   \n",
       "2     use up what's left and throw the rest away i recently returned from 6 years working overseas.  unfortunately in the last few years my drinking and stimulant became worse and was detrimental to my mental and physical health.  i'm doing fine now as far as that is concerned. attended therapy, clean and sober since november last year.  when i came back i heard a few of my \"friends\" use the following phrase,  \"we'll just use up what's left of him and then throw the rest away\"  i've never heard this before. i've always been a people pleasing personality type and i'm struggling hard to determine how to interpret it.  maybe i just don't want to face facts that it means exactly what it says... that by hanging around with these people i put myself in a weak position and they aren't real friends at all.  any thoughts?                                                                                                                                                                                                                                                                                                            \n",
       "3     my brain is driving me crazy! im a perfectionist and think everyone hates me all the time. i literally always worried ive done something wrong.   im at my first big professional conference in a major us city. i barely slept last night because of a backache and nerves. that and the jet lag is impairing  my functioning and i have blotchy skin and my dress is riding up on my legs and ive had to pull it down. all i had to do today was register for the conference, but i was confused at every step and feel that everyone thinks im stupid or hungover or unprofessional or something. im walking around this city i do not know oblivious and feel embarrassed and stupid. my anxiety is killing me and men keep hitting on me. i havent been away from my husband since we moved in together and i feel so dumb and small.   im so scared for my presentation tomorrow. can someone either console me or kindly put me out of my misery?                                                                                                                                                                                                      \n",
       "4     does anyone else feel like the worst person ever if they annoy a friend? hey reddit. basically, i have mild anxiety. but something that really messes with my head is when i have a fall out or get a blunt text from a friend to say i annoyed them when i did something. my first response is always i'm sorry (and trying not to say it a million times over) but my mind then goes through this turmoil where i have all these esteem lowering thoughts along the lines of, they'll hate me forever now, or i'm such a horrible person, as well as being filled with guilt for upsetting the person.\\nit always turns out that whatever i did wrong only annoyed them for a short period of time and before i knew it life is back to normal, i just wish i could control the horrible negative wave that comes over me                                                                                                                                                                                                                                                                                                                                   \n",
       "...                                                                                                                                                                                                                                                                                                                                                                                                                                                                                                                                                                                                                                                                                                                                                                                                                           ...                                                                                                                                                                                                                                                                                                                                   \n",
       "8525  going through a phase where anxiety continues to haunt                                                                                                                                                                                                                                                                                                                                                                                                                                                                                                                                                                                                                                                                                                                                                                                                                                                                                                                                                                                                                                                                                                        \n",
       "8526  it's been a week but i still haven't received a reply, aka i'm really looking forward to it                                                                                                                                                                                                                                                                                                                                                                                                                                                                                                                                                                                                                                                                                                                                                                                                                                                                                                                                                                                                                                                                   \n",
       "8527  worried, nervous, sad, all mixed up. that's how it is :')                                                                                                                                                                                                                                                                                                                                                                                                                                                                                                                                                                                                                                                                                                                                                                                                                                                                                                                                                                                                                                                                                                     \n",
       "8528  tbtb so worried sorry                                                                                                                                                                                                                                                                                                                                                                                                                                                                                                                                                                                                                                                                                                                                                                                                                                                                                                                                                                                                                                                                                                                                         \n",
       "8529  there is a task to complain, there is no task to worry, wonder                                                                                                                                                                                                                                                                                                                                                                                                                                                                                                                                                                                                                                                                                                                                                                                                                                                                                                                                                                                                                                                                                                \n",
       "\n",
       "       topics  category_id  \\\n",
       "0     Anxiety  0             \n",
       "1     Anxiety  0             \n",
       "2     Anxiety  0             \n",
       "3     Anxiety  0             \n",
       "4     Anxiety  0             \n",
       "...       ... ..             \n",
       "8525  Anxiety  0             \n",
       "8526  Anxiety  0             \n",
       "8527  Anxiety  0             \n",
       "8528  Anxiety  0             \n",
       "8529  Anxiety  0             \n",
       "\n",
       "                                                                                                                                                                                                                                                                                                                                                                                                                                                                                                                                                                                                                                                                                                                                                                                                                                                                                                                                                                                                                                                                                                                              clean_text  \n",
       "0     does anyone else get anxious with working im scared that im going to have to do repairs that cost of money                                                                                                                                                                                                                                                                                                                                                                                                                                                                                                                                                                                                                                                                                                                                                                                                                                                                                                                                                                                                                          \n",
       "1     help with anxietyinducing fears about school caused by a health issue im 35 and planning to go back to grad school but over the years i developed some eye floaters that i can mostly ignore they are just out of my visible sight range when reading small books like novels but i started studying for the gre with a big textbook and realized how obvious these floaters were now and theyve left me with anxiety about how im going to cope with school if on top of everything else like how im no longer used to student life how grad school is likely the hardest form of school ive ever done etc add to that this problem with distracting floaters in my eyes that distract and annoy me  i really dont know how to deal here i am not confident in exposure therapy as i have had these floaters for a few years and really only learned to deal with them by changing my lifestyle such that i dont have to deal with them its not a big issue and some junk in my eyes shouldnt be that much of a problem but just now i just glanced at my book for a few minutes and now im dizzy with worry about it  what to do  \n",
       "2     use up whats left and throw the rest away i recently returned from 6 years working overseas  unfortunately in the last few years my drinking and stimulant became worse and was detrimental to my mental and physical health  im doing fine now as far as that is concerned attended therapy clean and sober since november last year  when i came back i heard a few of my friends use the following phrase  well just use up whats left of him and then throw the rest away  ive never heard this before ive always been a people pleasing personality type and im struggling hard to determine how to interpret it  maybe i just dont want to face facts that it means exactly what it says that by hanging around with these people i put myself in a weak position and they arent real friends at all  any thoughts                                                                                                                                                                                                                                                                                                            \n",
       "3     my brain is driving me crazy im a perfectionist and think everyone hates me all the time i literally always worried ive done something wrong   im at my first big professional conference in a major us city i barely slept last night because of a backache and nerves that and the jet lag is impairing  my functioning and i have blotchy skin and my dress is riding up on my legs and ive had to pull it down all i had to do today was register for the conference but i was confused at every step and feel that everyone thinks im stupid or hungover or unprofessional or something im walking around this city i do not know oblivious and feel embarrassed and stupid my anxiety is killing me and men keep hitting on me i havent been away from my husband since we moved in together and i feel so dumb and small   im so scared for my presentation tomorrow can someone either console me or kindly put me out of my misery                                                                                                                                                                                         \n",
       "4     does anyone else feel like the worst person ever if they annoy a friend hey reddit basically i have mild anxiety but something that really messes with my head is when i have a fall out or get a blunt text from a friend to say i annoyed them when i did something my first response is always im sorry and trying not to say it a million times over but my mind then goes through this turmoil where i have all these esteem lowering thoughts along the lines of theyll hate me forever now or im such a horrible person as well as being filled with guilt for upsetting the person  it always turns out that whatever i did wrong only annoyed them for a short period of time and before i knew it life is back to normal i just wish i could control the horrible negative wave that comes over me                                                                                                                                                                                                                                                                                                                        \n",
       "...                                                                                                                                                                                                                                                                                                                                                                                                                                                                                                                                                                                                                                                                                                                                                                                                            ...                                                                                                                                                                                                                                                                                                                        \n",
       "8525  going through a phase where anxiety continues to haunt                                                                                                                                                                                                                                                                                                                                                                                                                                                                                                                                                                                                                                                                                                                                                                                                                                                                                                                                                                                                                                                                              \n",
       "8526  its been a week but i still havent received a reply aka im really looking forward to it                                                                                                                                                                                                                                                                                                                                                                                                                                                                                                                                                                                                                                                                                                                                                                                                                                                                                                                                                                                                                                             \n",
       "8527  worried nervous sad all mixed up thats how it is                                                                                                                                                                                                                                                                                                                                                                                                                                                                                                                                                                                                                                                                                                                                                                                                                                                                                                                                                                                                                                                                                    \n",
       "8528  tbtb so worried sorry                                                                                                                                                                                                                                                                                                                                                                                                                                                                                                                                                                                                                                                                                                                                                                                                                                                                                                                                                                                                                                                                                                               \n",
       "8529  there is a task to complain there is no task to worry wonder                                                                                                                                                                                                                                                                                                                                                                                                                                                                                                                                                                                                                                                                                                                                                                                                                                                                                                                                                                                                                                                                        \n",
       "\n",
       "[8512 rows x 4 columns]"
      ]
     },
     "metadata": {},
     "output_type": "display_data"
    }
   ],
   "source": [
    "#clean is the function provided by the cleantext library.\n",
    "from cleantext import clean\n",
    "clean(data['clean_text'], no_emoji=True)\n",
    "display(data)"
   ]
  },
  {
   "cell_type": "code",
   "execution_count": 361,
   "id": "f09b5c45",
   "metadata": {},
   "outputs": [
    {
     "data": {
      "text/html": [
       "<div>\n",
       "<style scoped>\n",
       "    .dataframe tbody tr th:only-of-type {\n",
       "        vertical-align: middle;\n",
       "    }\n",
       "\n",
       "    .dataframe tbody tr th {\n",
       "        vertical-align: top;\n",
       "    }\n",
       "\n",
       "    .dataframe thead th {\n",
       "        text-align: right;\n",
       "    }\n",
       "</style>\n",
       "<table border=\"1\" class=\"dataframe\">\n",
       "  <thead>\n",
       "    <tr style=\"text-align: right;\">\n",
       "      <th></th>\n",
       "      <th>post</th>\n",
       "      <th>topics</th>\n",
       "      <th>category_id</th>\n",
       "      <th>clean_text</th>\n",
       "    </tr>\n",
       "  </thead>\n",
       "  <tbody>\n",
       "    <tr>\n",
       "      <th>0</th>\n",
       "      <td>does anyone else get anxious with working? im scared that im going to have to do repairs that cost of money.</td>\n",
       "      <td>Anxiety</td>\n",
       "      <td>0</td>\n",
       "      <td>does anyone else get anxious with working im scared that im going to have to do repairs that cost of money</td>\n",
       "    </tr>\n",
       "    <tr>\n",
       "      <th>1</th>\n",
       "      <td>help with anxiety-inducing fears about school caused by a health issue i'm 35 and planning to go back to grad school, but over the years i developed some eye floaters that i can mostly ignore. they are just out of my visible sight range when reading small books like novels, but i started studying for the gre with a big textbook and realized how obvious these floaters were now, and they've left me with anxiety about how i'm going to cope with school if, on top of everything else like how i'm no longer used to student life, how grad school is likely the hardest form of school i've ever done etc, add to that this problem with distracting floaters in my eyes that distract and annoy me.  i really don't know how to deal here. i am not confident in exposure therapy as i have had these floaters for a few years and really only learned to deal with them by changing my lifestyle such that i don't have to deal with them. it's not a big issue, and some junk in my eyes shouldn't be that much of a problem. but just now i just glanced at my book for a few minutes and now i'm dizzy with worry about it.  what to do?</td>\n",
       "      <td>Anxiety</td>\n",
       "      <td>0</td>\n",
       "      <td>help with anxietyinducing fears about school caused by a health issue im 35 and planning to go back to grad school but over the years i developed some eye floaters that i can mostly ignore they are just out of my visible sight range when reading small books like novels but i started studying for the gre with a big textbook and realized how obvious these floaters were now and theyve left me with anxiety about how im going to cope with school if on top of everything else like how im no longer used to student life how grad school is likely the hardest form of school ive ever done etc add to that this problem with distracting floaters in my eyes that distract and annoy me  i really dont know how to deal here i am not confident in exposure therapy as i have had these floaters for a few years and really only learned to deal with them by changing my lifestyle such that i dont have to deal with them its not a big issue and some junk in my eyes shouldnt be that much of a problem but just now i just glanced at my book for a few minutes and now im dizzy with worry about it  what to do</td>\n",
       "    </tr>\n",
       "    <tr>\n",
       "      <th>2</th>\n",
       "      <td>use up what's left and throw the rest away i recently returned from 6 years working overseas.  unfortunately in the last few years my drinking and stimulant became worse and was detrimental to my mental and physical health.  i'm doing fine now as far as that is concerned. attended therapy, clean and sober since november last year.  when i came back i heard a few of my \"friends\" use the following phrase,  \"we'll just use up what's left of him and then throw the rest away\"  i've never heard this before. i've always been a people pleasing personality type and i'm struggling hard to determine how to interpret it.  maybe i just don't want to face facts that it means exactly what it says... that by hanging around with these people i put myself in a weak position and they aren't real friends at all.  any thoughts?</td>\n",
       "      <td>Anxiety</td>\n",
       "      <td>0</td>\n",
       "      <td>use up whats left and throw the rest away i recently returned from 6 years working overseas  unfortunately in the last few years my drinking and stimulant became worse and was detrimental to my mental and physical health  im doing fine now as far as that is concerned attended therapy clean and sober since november last year  when i came back i heard a few of my friends use the following phrase  well just use up whats left of him and then throw the rest away  ive never heard this before ive always been a people pleasing personality type and im struggling hard to determine how to interpret it  maybe i just dont want to face facts that it means exactly what it says that by hanging around with these people i put myself in a weak position and they arent real friends at all  any thoughts</td>\n",
       "    </tr>\n",
       "    <tr>\n",
       "      <th>3</th>\n",
       "      <td>my brain is driving me crazy! im a perfectionist and think everyone hates me all the time. i literally always worried ive done something wrong.   im at my first big professional conference in a major us city. i barely slept last night because of a backache and nerves. that and the jet lag is impairing  my functioning and i have blotchy skin and my dress is riding up on my legs and ive had to pull it down. all i had to do today was register for the conference, but i was confused at every step and feel that everyone thinks im stupid or hungover or unprofessional or something. im walking around this city i do not know oblivious and feel embarrassed and stupid. my anxiety is killing me and men keep hitting on me. i havent been away from my husband since we moved in together and i feel so dumb and small.   im so scared for my presentation tomorrow. can someone either console me or kindly put me out of my misery?</td>\n",
       "      <td>Anxiety</td>\n",
       "      <td>0</td>\n",
       "      <td>my brain is driving me crazy im a perfectionist and think everyone hates me all the time i literally always worried ive done something wrong   im at my first big professional conference in a major us city i barely slept last night because of a backache and nerves that and the jet lag is impairing  my functioning and i have blotchy skin and my dress is riding up on my legs and ive had to pull it down all i had to do today was register for the conference but i was confused at every step and feel that everyone thinks im stupid or hungover or unprofessional or something im walking around this city i do not know oblivious and feel embarrassed and stupid my anxiety is killing me and men keep hitting on me i havent been away from my husband since we moved in together and i feel so dumb and small   im so scared for my presentation tomorrow can someone either console me or kindly put me out of my misery</td>\n",
       "    </tr>\n",
       "    <tr>\n",
       "      <th>4</th>\n",
       "      <td>does anyone else feel like the worst person ever if they annoy a friend? hey reddit. basically, i have mild anxiety. but something that really messes with my head is when i have a fall out or get a blunt text from a friend to say i annoyed them when i did something. my first response is always i'm sorry (and trying not to say it a million times over) but my mind then goes through this turmoil where i have all these esteem lowering thoughts along the lines of, they'll hate me forever now, or i'm such a horrible person, as well as being filled with guilt for upsetting the person.\\nit always turns out that whatever i did wrong only annoyed them for a short period of time and before i knew it life is back to normal, i just wish i could control the horrible negative wave that comes over me</td>\n",
       "      <td>Anxiety</td>\n",
       "      <td>0</td>\n",
       "      <td>does anyone else feel like the worst person ever if they annoy a friend hey reddit basically i have mild anxiety but something that really messes with my head is when i have a fall out or get a blunt text from a friend to say i annoyed them when i did something my first response is always im sorry and trying not to say it a million times over but my mind then goes through this turmoil where i have all these esteem lowering thoughts along the lines of theyll hate me forever now or im such a horrible person as well as being filled with guilt for upsetting the person  it always turns out that whatever i did wrong only annoyed them for a short period of time and before i knew it life is back to normal i just wish i could control the horrible negative wave that comes over me</td>\n",
       "    </tr>\n",
       "    <tr>\n",
       "      <th>...</th>\n",
       "      <td>...</td>\n",
       "      <td>...</td>\n",
       "      <td>...</td>\n",
       "      <td>...</td>\n",
       "    </tr>\n",
       "    <tr>\n",
       "      <th>8525</th>\n",
       "      <td>going through a phase where anxiety continues to haunt</td>\n",
       "      <td>Anxiety</td>\n",
       "      <td>0</td>\n",
       "      <td>going through a phase where anxiety continues to haunt</td>\n",
       "    </tr>\n",
       "    <tr>\n",
       "      <th>8526</th>\n",
       "      <td>it's been a week but i still haven't received a reply, aka i'm really looking forward to it</td>\n",
       "      <td>Anxiety</td>\n",
       "      <td>0</td>\n",
       "      <td>its been a week but i still havent received a reply aka im really looking forward to it</td>\n",
       "    </tr>\n",
       "    <tr>\n",
       "      <th>8527</th>\n",
       "      <td>worried, nervous, sad, all mixed up. that's how it is :')</td>\n",
       "      <td>Anxiety</td>\n",
       "      <td>0</td>\n",
       "      <td>worried nervous sad all mixed up thats how it is</td>\n",
       "    </tr>\n",
       "    <tr>\n",
       "      <th>8528</th>\n",
       "      <td>tbtb so worried sorry</td>\n",
       "      <td>Anxiety</td>\n",
       "      <td>0</td>\n",
       "      <td>tbtb so worried sorry</td>\n",
       "    </tr>\n",
       "    <tr>\n",
       "      <th>8529</th>\n",
       "      <td>there is a task to complain, there is no task to worry, wonder</td>\n",
       "      <td>Anxiety</td>\n",
       "      <td>0</td>\n",
       "      <td>there is a task to complain there is no task to worry wonder</td>\n",
       "    </tr>\n",
       "  </tbody>\n",
       "</table>\n",
       "<p>8512 rows × 4 columns</p>\n",
       "</div>"
      ],
      "text/plain": [
       "                                                                                                                                                                                                                                                                                                                                                                                                                                                                                                                                                                                                                                                                                                                                                                                                                                                                                                                                                                                                                                                                                                                                                             post  \\\n",
       "0     does anyone else get anxious with working? im scared that im going to have to do repairs that cost of money.                                                                                                                                                                                                                                                                                                                                                                                                                                                                                                                                                                                                                                                                                                                                                                                                                                                                                                                                                                                                                                                  \n",
       "1     help with anxiety-inducing fears about school caused by a health issue i'm 35 and planning to go back to grad school, but over the years i developed some eye floaters that i can mostly ignore. they are just out of my visible sight range when reading small books like novels, but i started studying for the gre with a big textbook and realized how obvious these floaters were now, and they've left me with anxiety about how i'm going to cope with school if, on top of everything else like how i'm no longer used to student life, how grad school is likely the hardest form of school i've ever done etc, add to that this problem with distracting floaters in my eyes that distract and annoy me.  i really don't know how to deal here. i am not confident in exposure therapy as i have had these floaters for a few years and really only learned to deal with them by changing my lifestyle such that i don't have to deal with them. it's not a big issue, and some junk in my eyes shouldn't be that much of a problem. but just now i just glanced at my book for a few minutes and now i'm dizzy with worry about it.  what to do?   \n",
       "2     use up what's left and throw the rest away i recently returned from 6 years working overseas.  unfortunately in the last few years my drinking and stimulant became worse and was detrimental to my mental and physical health.  i'm doing fine now as far as that is concerned. attended therapy, clean and sober since november last year.  when i came back i heard a few of my \"friends\" use the following phrase,  \"we'll just use up what's left of him and then throw the rest away\"  i've never heard this before. i've always been a people pleasing personality type and i'm struggling hard to determine how to interpret it.  maybe i just don't want to face facts that it means exactly what it says... that by hanging around with these people i put myself in a weak position and they aren't real friends at all.  any thoughts?                                                                                                                                                                                                                                                                                                            \n",
       "3     my brain is driving me crazy! im a perfectionist and think everyone hates me all the time. i literally always worried ive done something wrong.   im at my first big professional conference in a major us city. i barely slept last night because of a backache and nerves. that and the jet lag is impairing  my functioning and i have blotchy skin and my dress is riding up on my legs and ive had to pull it down. all i had to do today was register for the conference, but i was confused at every step and feel that everyone thinks im stupid or hungover or unprofessional or something. im walking around this city i do not know oblivious and feel embarrassed and stupid. my anxiety is killing me and men keep hitting on me. i havent been away from my husband since we moved in together and i feel so dumb and small.   im so scared for my presentation tomorrow. can someone either console me or kindly put me out of my misery?                                                                                                                                                                                                      \n",
       "4     does anyone else feel like the worst person ever if they annoy a friend? hey reddit. basically, i have mild anxiety. but something that really messes with my head is when i have a fall out or get a blunt text from a friend to say i annoyed them when i did something. my first response is always i'm sorry (and trying not to say it a million times over) but my mind then goes through this turmoil where i have all these esteem lowering thoughts along the lines of, they'll hate me forever now, or i'm such a horrible person, as well as being filled with guilt for upsetting the person.\\nit always turns out that whatever i did wrong only annoyed them for a short period of time and before i knew it life is back to normal, i just wish i could control the horrible negative wave that comes over me                                                                                                                                                                                                                                                                                                                                   \n",
       "...                                                                                                                                                                                                                                                                                                                                                                                                                                                                                                                                                                                                                                                                                                                                                                                                                           ...                                                                                                                                                                                                                                                                                                                                   \n",
       "8525  going through a phase where anxiety continues to haunt                                                                                                                                                                                                                                                                                                                                                                                                                                                                                                                                                                                                                                                                                                                                                                                                                                                                                                                                                                                                                                                                                                        \n",
       "8526  it's been a week but i still haven't received a reply, aka i'm really looking forward to it                                                                                                                                                                                                                                                                                                                                                                                                                                                                                                                                                                                                                                                                                                                                                                                                                                                                                                                                                                                                                                                                   \n",
       "8527  worried, nervous, sad, all mixed up. that's how it is :')                                                                                                                                                                                                                                                                                                                                                                                                                                                                                                                                                                                                                                                                                                                                                                                                                                                                                                                                                                                                                                                                                                     \n",
       "8528  tbtb so worried sorry                                                                                                                                                                                                                                                                                                                                                                                                                                                                                                                                                                                                                                                                                                                                                                                                                                                                                                                                                                                                                                                                                                                                         \n",
       "8529  there is a task to complain, there is no task to worry, wonder                                                                                                                                                                                                                                                                                                                                                                                                                                                                                                                                                                                                                                                                                                                                                                                                                                                                                                                                                                                                                                                                                                \n",
       "\n",
       "       topics  category_id  \\\n",
       "0     Anxiety  0             \n",
       "1     Anxiety  0             \n",
       "2     Anxiety  0             \n",
       "3     Anxiety  0             \n",
       "4     Anxiety  0             \n",
       "...       ... ..             \n",
       "8525  Anxiety  0             \n",
       "8526  Anxiety  0             \n",
       "8527  Anxiety  0             \n",
       "8528  Anxiety  0             \n",
       "8529  Anxiety  0             \n",
       "\n",
       "                                                                                                                                                                                                                                                                                                                                                                                                                                                                                                                                                                                                                                                                                                                                                                                                                                                                                                                                                                                                                                                                                                                              clean_text  \n",
       "0     does anyone else get anxious with working im scared that im going to have to do repairs that cost of money                                                                                                                                                                                                                                                                                                                                                                                                                                                                                                                                                                                                                                                                                                                                                                                                                                                                                                                                                                                                                          \n",
       "1     help with anxietyinducing fears about school caused by a health issue im 35 and planning to go back to grad school but over the years i developed some eye floaters that i can mostly ignore they are just out of my visible sight range when reading small books like novels but i started studying for the gre with a big textbook and realized how obvious these floaters were now and theyve left me with anxiety about how im going to cope with school if on top of everything else like how im no longer used to student life how grad school is likely the hardest form of school ive ever done etc add to that this problem with distracting floaters in my eyes that distract and annoy me  i really dont know how to deal here i am not confident in exposure therapy as i have had these floaters for a few years and really only learned to deal with them by changing my lifestyle such that i dont have to deal with them its not a big issue and some junk in my eyes shouldnt be that much of a problem but just now i just glanced at my book for a few minutes and now im dizzy with worry about it  what to do  \n",
       "2     use up whats left and throw the rest away i recently returned from 6 years working overseas  unfortunately in the last few years my drinking and stimulant became worse and was detrimental to my mental and physical health  im doing fine now as far as that is concerned attended therapy clean and sober since november last year  when i came back i heard a few of my friends use the following phrase  well just use up whats left of him and then throw the rest away  ive never heard this before ive always been a people pleasing personality type and im struggling hard to determine how to interpret it  maybe i just dont want to face facts that it means exactly what it says that by hanging around with these people i put myself in a weak position and they arent real friends at all  any thoughts                                                                                                                                                                                                                                                                                                            \n",
       "3     my brain is driving me crazy im a perfectionist and think everyone hates me all the time i literally always worried ive done something wrong   im at my first big professional conference in a major us city i barely slept last night because of a backache and nerves that and the jet lag is impairing  my functioning and i have blotchy skin and my dress is riding up on my legs and ive had to pull it down all i had to do today was register for the conference but i was confused at every step and feel that everyone thinks im stupid or hungover or unprofessional or something im walking around this city i do not know oblivious and feel embarrassed and stupid my anxiety is killing me and men keep hitting on me i havent been away from my husband since we moved in together and i feel so dumb and small   im so scared for my presentation tomorrow can someone either console me or kindly put me out of my misery                                                                                                                                                                                         \n",
       "4     does anyone else feel like the worst person ever if they annoy a friend hey reddit basically i have mild anxiety but something that really messes with my head is when i have a fall out or get a blunt text from a friend to say i annoyed them when i did something my first response is always im sorry and trying not to say it a million times over but my mind then goes through this turmoil where i have all these esteem lowering thoughts along the lines of theyll hate me forever now or im such a horrible person as well as being filled with guilt for upsetting the person  it always turns out that whatever i did wrong only annoyed them for a short period of time and before i knew it life is back to normal i just wish i could control the horrible negative wave that comes over me                                                                                                                                                                                                                                                                                                                        \n",
       "...                                                                                                                                                                                                                                                                                                                                                                                                                                                                                                                                                                                                                                                                                                                                                                                                            ...                                                                                                                                                                                                                                                                                                                        \n",
       "8525  going through a phase where anxiety continues to haunt                                                                                                                                                                                                                                                                                                                                                                                                                                                                                                                                                                                                                                                                                                                                                                                                                                                                                                                                                                                                                                                                              \n",
       "8526  its been a week but i still havent received a reply aka im really looking forward to it                                                                                                                                                                                                                                                                                                                                                                                                                                                                                                                                                                                                                                                                                                                                                                                                                                                                                                                                                                                                                                             \n",
       "8527  worried nervous sad all mixed up thats how it is                                                                                                                                                                                                                                                                                                                                                                                                                                                                                                                                                                                                                                                                                                                                                                                                                                                                                                                                                                                                                                                                                    \n",
       "8528  tbtb so worried sorry                                                                                                                                                                                                                                                                                                                                                                                                                                                                                                                                                                                                                                                                                                                                                                                                                                                                                                                                                                                                                                                                                                               \n",
       "8529  there is a task to complain there is no task to worry wonder                                                                                                                                                                                                                                                                                                                                                                                                                                                                                                                                                                                                                                                                                                                                                                                                                                                                                                                                                                                                                                                                        \n",
       "\n",
       "[8512 rows x 4 columns]"
      ]
     },
     "metadata": {},
     "output_type": "display_data"
    }
   ],
   "source": [
    "#Lowercase\n",
    "data['clean_text']= data['clean_text'].apply(lambda x: x.lower())\n",
    "display(data)"
   ]
  },
  {
   "cell_type": "code",
   "execution_count": 362,
   "id": "b07ad84f",
   "metadata": {},
   "outputs": [
    {
     "data": {
      "text/html": [
       "<div>\n",
       "<style scoped>\n",
       "    .dataframe tbody tr th:only-of-type {\n",
       "        vertical-align: middle;\n",
       "    }\n",
       "\n",
       "    .dataframe tbody tr th {\n",
       "        vertical-align: top;\n",
       "    }\n",
       "\n",
       "    .dataframe thead th {\n",
       "        text-align: right;\n",
       "    }\n",
       "</style>\n",
       "<table border=\"1\" class=\"dataframe\">\n",
       "  <thead>\n",
       "    <tr style=\"text-align: right;\">\n",
       "      <th></th>\n",
       "      <th>post</th>\n",
       "      <th>topics</th>\n",
       "      <th>category_id</th>\n",
       "      <th>clean_text</th>\n",
       "      <th>msg_tokenized</th>\n",
       "    </tr>\n",
       "  </thead>\n",
       "  <tbody>\n",
       "    <tr>\n",
       "      <th>0</th>\n",
       "      <td>does anyone else get anxious with working? im scared that im going to have to do repairs that cost of money.</td>\n",
       "      <td>Anxiety</td>\n",
       "      <td>0</td>\n",
       "      <td>does anyone else get anxious with working im scared that im going to have to do repairs that cost of money</td>\n",
       "      <td>[does, anyone, else, get, anxious, with, working, im, scared, that, im, going, to, have, to, do, repairs, that, cost, of, money]</td>\n",
       "    </tr>\n",
       "    <tr>\n",
       "      <th>1</th>\n",
       "      <td>help with anxiety-inducing fears about school caused by a health issue i'm 35 and planning to go back to grad school, but over the years i developed some eye floaters that i can mostly ignore. they are just out of my visible sight range when reading small books like novels, but i started studying for the gre with a big textbook and realized how obvious these floaters were now, and they've left me with anxiety about how i'm going to cope with school if, on top of everything else like how i'm no longer used to student life, how grad school is likely the hardest form of school i've ever done etc, add to that this problem with distracting floaters in my eyes that distract and annoy me.  i really don't know how to deal here. i am not confident in exposure therapy as i have had these floaters for a few years and really only learned to deal with them by changing my lifestyle such that i don't have to deal with them. it's not a big issue, and some junk in my eyes shouldn't be that much of a problem. but just now i just glanced at my book for a few minutes and now i'm dizzy with worry about it.  what to do?</td>\n",
       "      <td>Anxiety</td>\n",
       "      <td>0</td>\n",
       "      <td>help with anxietyinducing fears about school caused by a health issue im 35 and planning to go back to grad school but over the years i developed some eye floaters that i can mostly ignore they are just out of my visible sight range when reading small books like novels but i started studying for the gre with a big textbook and realized how obvious these floaters were now and theyve left me with anxiety about how im going to cope with school if on top of everything else like how im no longer used to student life how grad school is likely the hardest form of school ive ever done etc add to that this problem with distracting floaters in my eyes that distract and annoy me  i really dont know how to deal here i am not confident in exposure therapy as i have had these floaters for a few years and really only learned to deal with them by changing my lifestyle such that i dont have to deal with them its not a big issue and some junk in my eyes shouldnt be that much of a problem but just now i just glanced at my book for a few minutes and now im dizzy with worry about it  what to do</td>\n",
       "      <td>[help, with, anxietyinducing, fears, about, school, caused, by, a, health, issue, im, 35, and, planning, to, go, back, to, grad, school, but, over, the, years, i, developed, some, eye, floaters, that, i, can, mostly, ignore, they, are, just, out, of, my, visible, sight, range, when, reading, small, books, like, novels, but, i, started, studying, for, the, gre, with, a, big, textbook, and, realized, how, obvious, these, floaters, were, now, and, theyve, left, me, with, anxiety, about, how, im, going, to, cope, with, school, if, on, top, of, everything, else, like, how, im, no, longer, used, to, student, life, how, grad, ...]</td>\n",
       "    </tr>\n",
       "    <tr>\n",
       "      <th>2</th>\n",
       "      <td>use up what's left and throw the rest away i recently returned from 6 years working overseas.  unfortunately in the last few years my drinking and stimulant became worse and was detrimental to my mental and physical health.  i'm doing fine now as far as that is concerned. attended therapy, clean and sober since november last year.  when i came back i heard a few of my \"friends\" use the following phrase,  \"we'll just use up what's left of him and then throw the rest away\"  i've never heard this before. i've always been a people pleasing personality type and i'm struggling hard to determine how to interpret it.  maybe i just don't want to face facts that it means exactly what it says... that by hanging around with these people i put myself in a weak position and they aren't real friends at all.  any thoughts?</td>\n",
       "      <td>Anxiety</td>\n",
       "      <td>0</td>\n",
       "      <td>use up whats left and throw the rest away i recently returned from 6 years working overseas  unfortunately in the last few years my drinking and stimulant became worse and was detrimental to my mental and physical health  im doing fine now as far as that is concerned attended therapy clean and sober since november last year  when i came back i heard a few of my friends use the following phrase  well just use up whats left of him and then throw the rest away  ive never heard this before ive always been a people pleasing personality type and im struggling hard to determine how to interpret it  maybe i just dont want to face facts that it means exactly what it says that by hanging around with these people i put myself in a weak position and they arent real friends at all  any thoughts</td>\n",
       "      <td>[use, up, whats, left, and, throw, the, rest, away, i, recently, returned, from, 6, years, working, overseas, unfortunately, in, the, last, few, years, my, drinking, and, stimulant, became, worse, and, was, detrimental, to, my, mental, and, physical, health, im, doing, fine, now, as, far, as, that, is, concerned, attended, therapy, clean, and, sober, since, november, last, year, when, i, came, back, i, heard, a, few, of, my, friends, use, the, following, phrase, well, just, use, up, whats, left, of, him, and, then, throw, the, rest, away, ive, never, heard, this, before, ive, always, been, a, people, pleasing, personality, type, and, ...]</td>\n",
       "    </tr>\n",
       "    <tr>\n",
       "      <th>3</th>\n",
       "      <td>my brain is driving me crazy! im a perfectionist and think everyone hates me all the time. i literally always worried ive done something wrong.   im at my first big professional conference in a major us city. i barely slept last night because of a backache and nerves. that and the jet lag is impairing  my functioning and i have blotchy skin and my dress is riding up on my legs and ive had to pull it down. all i had to do today was register for the conference, but i was confused at every step and feel that everyone thinks im stupid or hungover or unprofessional or something. im walking around this city i do not know oblivious and feel embarrassed and stupid. my anxiety is killing me and men keep hitting on me. i havent been away from my husband since we moved in together and i feel so dumb and small.   im so scared for my presentation tomorrow. can someone either console me or kindly put me out of my misery?</td>\n",
       "      <td>Anxiety</td>\n",
       "      <td>0</td>\n",
       "      <td>my brain is driving me crazy im a perfectionist and think everyone hates me all the time i literally always worried ive done something wrong   im at my first big professional conference in a major us city i barely slept last night because of a backache and nerves that and the jet lag is impairing  my functioning and i have blotchy skin and my dress is riding up on my legs and ive had to pull it down all i had to do today was register for the conference but i was confused at every step and feel that everyone thinks im stupid or hungover or unprofessional or something im walking around this city i do not know oblivious and feel embarrassed and stupid my anxiety is killing me and men keep hitting on me i havent been away from my husband since we moved in together and i feel so dumb and small   im so scared for my presentation tomorrow can someone either console me or kindly put me out of my misery</td>\n",
       "      <td>[my, brain, is, driving, me, crazy, im, a, perfectionist, and, think, everyone, hates, me, all, the, time, i, literally, always, worried, ive, done, something, wrong, im, at, my, first, big, professional, conference, in, a, major, us, city, i, barely, slept, last, night, because, of, a, backache, and, nerves, that, and, the, jet, lag, is, impairing, my, functioning, and, i, have, blotchy, skin, and, my, dress, is, riding, up, on, my, legs, and, ive, had, to, pull, it, down, all, i, had, to, do, today, was, register, for, the, conference, but, i, was, confused, at, every, step, and, feel, that, everyone, ...]</td>\n",
       "    </tr>\n",
       "    <tr>\n",
       "      <th>4</th>\n",
       "      <td>does anyone else feel like the worst person ever if they annoy a friend? hey reddit. basically, i have mild anxiety. but something that really messes with my head is when i have a fall out or get a blunt text from a friend to say i annoyed them when i did something. my first response is always i'm sorry (and trying not to say it a million times over) but my mind then goes through this turmoil where i have all these esteem lowering thoughts along the lines of, they'll hate me forever now, or i'm such a horrible person, as well as being filled with guilt for upsetting the person.\\nit always turns out that whatever i did wrong only annoyed them for a short period of time and before i knew it life is back to normal, i just wish i could control the horrible negative wave that comes over me</td>\n",
       "      <td>Anxiety</td>\n",
       "      <td>0</td>\n",
       "      <td>does anyone else feel like the worst person ever if they annoy a friend hey reddit basically i have mild anxiety but something that really messes with my head is when i have a fall out or get a blunt text from a friend to say i annoyed them when i did something my first response is always im sorry and trying not to say it a million times over but my mind then goes through this turmoil where i have all these esteem lowering thoughts along the lines of theyll hate me forever now or im such a horrible person as well as being filled with guilt for upsetting the person  it always turns out that whatever i did wrong only annoyed them for a short period of time and before i knew it life is back to normal i just wish i could control the horrible negative wave that comes over me</td>\n",
       "      <td>[does, anyone, else, feel, like, the, worst, person, ever, if, they, annoy, a, friend, hey, reddit, basically, i, have, mild, anxiety, but, something, that, really, messes, with, my, head, is, when, i, have, a, fall, out, or, get, a, blunt, text, from, a, friend, to, say, i, annoyed, them, when, i, did, something, my, first, response, is, always, im, sorry, and, trying, not, to, say, it, a, million, times, over, but, my, mind, then, goes, through, this, turmoil, where, i, have, all, these, esteem, lowering, thoughts, along, the, lines, of, theyll, hate, me, forever, now, or, im, such, a, horrible, ...]</td>\n",
       "    </tr>\n",
       "  </tbody>\n",
       "</table>\n",
       "</div>"
      ],
      "text/plain": [
       "                                                                                                                                                                                                                                                                                                                                                                                                                                                                                                                                                                                                                                                                                                                                                                                                                                                                                                                                                                                                                                                                                                                                                          post  \\\n",
       "0  does anyone else get anxious with working? im scared that im going to have to do repairs that cost of money.                                                                                                                                                                                                                                                                                                                                                                                                                                                                                                                                                                                                                                                                                                                                                                                                                                                                                                                                                                                                                                                  \n",
       "1  help with anxiety-inducing fears about school caused by a health issue i'm 35 and planning to go back to grad school, but over the years i developed some eye floaters that i can mostly ignore. they are just out of my visible sight range when reading small books like novels, but i started studying for the gre with a big textbook and realized how obvious these floaters were now, and they've left me with anxiety about how i'm going to cope with school if, on top of everything else like how i'm no longer used to student life, how grad school is likely the hardest form of school i've ever done etc, add to that this problem with distracting floaters in my eyes that distract and annoy me.  i really don't know how to deal here. i am not confident in exposure therapy as i have had these floaters for a few years and really only learned to deal with them by changing my lifestyle such that i don't have to deal with them. it's not a big issue, and some junk in my eyes shouldn't be that much of a problem. but just now i just glanced at my book for a few minutes and now i'm dizzy with worry about it.  what to do?   \n",
       "2  use up what's left and throw the rest away i recently returned from 6 years working overseas.  unfortunately in the last few years my drinking and stimulant became worse and was detrimental to my mental and physical health.  i'm doing fine now as far as that is concerned. attended therapy, clean and sober since november last year.  when i came back i heard a few of my \"friends\" use the following phrase,  \"we'll just use up what's left of him and then throw the rest away\"  i've never heard this before. i've always been a people pleasing personality type and i'm struggling hard to determine how to interpret it.  maybe i just don't want to face facts that it means exactly what it says... that by hanging around with these people i put myself in a weak position and they aren't real friends at all.  any thoughts?                                                                                                                                                                                                                                                                                                            \n",
       "3  my brain is driving me crazy! im a perfectionist and think everyone hates me all the time. i literally always worried ive done something wrong.   im at my first big professional conference in a major us city. i barely slept last night because of a backache and nerves. that and the jet lag is impairing  my functioning and i have blotchy skin and my dress is riding up on my legs and ive had to pull it down. all i had to do today was register for the conference, but i was confused at every step and feel that everyone thinks im stupid or hungover or unprofessional or something. im walking around this city i do not know oblivious and feel embarrassed and stupid. my anxiety is killing me and men keep hitting on me. i havent been away from my husband since we moved in together and i feel so dumb and small.   im so scared for my presentation tomorrow. can someone either console me or kindly put me out of my misery?                                                                                                                                                                                                      \n",
       "4  does anyone else feel like the worst person ever if they annoy a friend? hey reddit. basically, i have mild anxiety. but something that really messes with my head is when i have a fall out or get a blunt text from a friend to say i annoyed them when i did something. my first response is always i'm sorry (and trying not to say it a million times over) but my mind then goes through this turmoil where i have all these esteem lowering thoughts along the lines of, they'll hate me forever now, or i'm such a horrible person, as well as being filled with guilt for upsetting the person.\\nit always turns out that whatever i did wrong only annoyed them for a short period of time and before i knew it life is back to normal, i just wish i could control the horrible negative wave that comes over me                                                                                                                                                                                                                                                                                                                                   \n",
       "\n",
       "    topics  category_id  \\\n",
       "0  Anxiety  0             \n",
       "1  Anxiety  0             \n",
       "2  Anxiety  0             \n",
       "3  Anxiety  0             \n",
       "4  Anxiety  0             \n",
       "\n",
       "                                                                                                                                                                                                                                                                                                                                                                                                                                                                                                                                                                                                                                                                                                                                                                                                                                                                                                                                                                                                                                                                                                                           clean_text  \\\n",
       "0  does anyone else get anxious with working im scared that im going to have to do repairs that cost of money                                                                                                                                                                                                                                                                                                                                                                                                                                                                                                                                                                                                                                                                                                                                                                                                                                                                                                                                                                                                                           \n",
       "1  help with anxietyinducing fears about school caused by a health issue im 35 and planning to go back to grad school but over the years i developed some eye floaters that i can mostly ignore they are just out of my visible sight range when reading small books like novels but i started studying for the gre with a big textbook and realized how obvious these floaters were now and theyve left me with anxiety about how im going to cope with school if on top of everything else like how im no longer used to student life how grad school is likely the hardest form of school ive ever done etc add to that this problem with distracting floaters in my eyes that distract and annoy me  i really dont know how to deal here i am not confident in exposure therapy as i have had these floaters for a few years and really only learned to deal with them by changing my lifestyle such that i dont have to deal with them its not a big issue and some junk in my eyes shouldnt be that much of a problem but just now i just glanced at my book for a few minutes and now im dizzy with worry about it  what to do   \n",
       "2  use up whats left and throw the rest away i recently returned from 6 years working overseas  unfortunately in the last few years my drinking and stimulant became worse and was detrimental to my mental and physical health  im doing fine now as far as that is concerned attended therapy clean and sober since november last year  when i came back i heard a few of my friends use the following phrase  well just use up whats left of him and then throw the rest away  ive never heard this before ive always been a people pleasing personality type and im struggling hard to determine how to interpret it  maybe i just dont want to face facts that it means exactly what it says that by hanging around with these people i put myself in a weak position and they arent real friends at all  any thoughts                                                                                                                                                                                                                                                                                                             \n",
       "3  my brain is driving me crazy im a perfectionist and think everyone hates me all the time i literally always worried ive done something wrong   im at my first big professional conference in a major us city i barely slept last night because of a backache and nerves that and the jet lag is impairing  my functioning and i have blotchy skin and my dress is riding up on my legs and ive had to pull it down all i had to do today was register for the conference but i was confused at every step and feel that everyone thinks im stupid or hungover or unprofessional or something im walking around this city i do not know oblivious and feel embarrassed and stupid my anxiety is killing me and men keep hitting on me i havent been away from my husband since we moved in together and i feel so dumb and small   im so scared for my presentation tomorrow can someone either console me or kindly put me out of my misery                                                                                                                                                                                          \n",
       "4  does anyone else feel like the worst person ever if they annoy a friend hey reddit basically i have mild anxiety but something that really messes with my head is when i have a fall out or get a blunt text from a friend to say i annoyed them when i did something my first response is always im sorry and trying not to say it a million times over but my mind then goes through this turmoil where i have all these esteem lowering thoughts along the lines of theyll hate me forever now or im such a horrible person as well as being filled with guilt for upsetting the person  it always turns out that whatever i did wrong only annoyed them for a short period of time and before i knew it life is back to normal i just wish i could control the horrible negative wave that comes over me                                                                                                                                                                                                                                                                                                                         \n",
       "\n",
       "                                                                                                                                                                                                                                                                                                                                                                                                                                                                                                                                                                                                                                                            msg_tokenized  \n",
       "0  [does, anyone, else, get, anxious, with, working, im, scared, that, im, going, to, have, to, do, repairs, that, cost, of, money]                                                                                                                                                                                                                                                                                                                                                                                                                                                                                                                                        \n",
       "1  [help, with, anxietyinducing, fears, about, school, caused, by, a, health, issue, im, 35, and, planning, to, go, back, to, grad, school, but, over, the, years, i, developed, some, eye, floaters, that, i, can, mostly, ignore, they, are, just, out, of, my, visible, sight, range, when, reading, small, books, like, novels, but, i, started, studying, for, the, gre, with, a, big, textbook, and, realized, how, obvious, these, floaters, were, now, and, theyve, left, me, with, anxiety, about, how, im, going, to, cope, with, school, if, on, top, of, everything, else, like, how, im, no, longer, used, to, student, life, how, grad, ...]                 \n",
       "2  [use, up, whats, left, and, throw, the, rest, away, i, recently, returned, from, 6, years, working, overseas, unfortunately, in, the, last, few, years, my, drinking, and, stimulant, became, worse, and, was, detrimental, to, my, mental, and, physical, health, im, doing, fine, now, as, far, as, that, is, concerned, attended, therapy, clean, and, sober, since, november, last, year, when, i, came, back, i, heard, a, few, of, my, friends, use, the, following, phrase, well, just, use, up, whats, left, of, him, and, then, throw, the, rest, away, ive, never, heard, this, before, ive, always, been, a, people, pleasing, personality, type, and, ...]  \n",
       "3  [my, brain, is, driving, me, crazy, im, a, perfectionist, and, think, everyone, hates, me, all, the, time, i, literally, always, worried, ive, done, something, wrong, im, at, my, first, big, professional, conference, in, a, major, us, city, i, barely, slept, last, night, because, of, a, backache, and, nerves, that, and, the, jet, lag, is, impairing, my, functioning, and, i, have, blotchy, skin, and, my, dress, is, riding, up, on, my, legs, and, ive, had, to, pull, it, down, all, i, had, to, do, today, was, register, for, the, conference, but, i, was, confused, at, every, step, and, feel, that, everyone, ...]                                 \n",
       "4  [does, anyone, else, feel, like, the, worst, person, ever, if, they, annoy, a, friend, hey, reddit, basically, i, have, mild, anxiety, but, something, that, really, messes, with, my, head, is, when, i, have, a, fall, out, or, get, a, blunt, text, from, a, friend, to, say, i, annoyed, them, when, i, did, something, my, first, response, is, always, im, sorry, and, trying, not, to, say, it, a, million, times, over, but, my, mind, then, goes, through, this, turmoil, where, i, have, all, these, esteem, lowering, thoughts, along, the, lines, of, theyll, hate, me, forever, now, or, im, such, a, horrible, ...]                                       "
      ]
     },
     "execution_count": 362,
     "metadata": {},
     "output_type": "execute_result"
    }
   ],
   "source": [
    "#tokenization\n",
    "import re\n",
    "#defining function for tokenization\n",
    "def tokenization(text):\n",
    "    tokens = re.split('\\W+',text)\n",
    "    return tokens\n",
    "#applying function to the column\n",
    "data['msg_tokenized']= data['clean_text'].apply(lambda x: tokenization(x))\n",
    "data.head()"
   ]
  },
  {
   "cell_type": "code",
   "execution_count": 363,
   "id": "e5bdab59",
   "metadata": {},
   "outputs": [
    {
     "name": "stdout",
     "output_type": "stream",
     "text": [
      "['i', 'me', 'my', 'myself', 'we', 'our', 'ours', 'ourselves', 'you', \"you're\", \"you've\", \"you'll\", \"you'd\", 'your', 'yours', 'yourself', 'yourselves', 'he', 'him', 'his', 'himself', 'she', \"she's\", 'her', 'hers', 'herself', 'it', \"it's\", 'its', 'itself', 'they', 'them', 'their', 'theirs', 'themselves', 'what', 'which', 'who', 'whom', 'this', 'that', \"that'll\", 'these', 'those', 'am', 'is', 'are', 'was', 'were', 'be', 'been', 'being', 'have', 'has', 'had', 'having', 'do', 'does', 'did', 'doing', 'a', 'an', 'the', 'and', 'but', 'if', 'or', 'because', 'as', 'until', 'while', 'of', 'at', 'by', 'for', 'with', 'about', 'against', 'between', 'into', 'through', 'during', 'before', 'after', 'above', 'below', 'to', 'from', 'up', 'down', 'in', 'out', 'on', 'off', 'over', 'under', 'again', 'further', 'then', 'once', 'here', 'there', 'when', 'where', 'why', 'how', 'all', 'any', 'both', 'each', 'few', 'more', 'most', 'other', 'some', 'such', 'no', 'nor', 'not', 'only', 'own', 'same', 'so', 'than', 'too', 'very', 's', 't', 'can', 'will', 'just', 'don', \"don't\", 'should', \"should've\", 'now', 'd', 'll', 'm', 'o', 're', 've', 'y', 'ain', 'aren', \"aren't\", 'couldn', \"couldn't\", 'didn', \"didn't\", 'doesn', \"doesn't\", 'hadn', \"hadn't\", 'hasn', \"hasn't\", 'haven', \"haven't\", 'isn', \"isn't\", 'ma', 'mightn', \"mightn't\", 'mustn', \"mustn't\", 'needn', \"needn't\", 'shan', \"shan't\", 'shouldn', \"shouldn't\", 'wasn', \"wasn't\", 'weren', \"weren't\", 'won', \"won't\", 'wouldn', \"wouldn't\"]\n"
     ]
    },
    {
     "data": {
      "text/html": [
       "<div>\n",
       "<style scoped>\n",
       "    .dataframe tbody tr th:only-of-type {\n",
       "        vertical-align: middle;\n",
       "    }\n",
       "\n",
       "    .dataframe tbody tr th {\n",
       "        vertical-align: top;\n",
       "    }\n",
       "\n",
       "    .dataframe thead th {\n",
       "        text-align: right;\n",
       "    }\n",
       "</style>\n",
       "<table border=\"1\" class=\"dataframe\">\n",
       "  <thead>\n",
       "    <tr style=\"text-align: right;\">\n",
       "      <th></th>\n",
       "      <th>post</th>\n",
       "      <th>topics</th>\n",
       "      <th>category_id</th>\n",
       "      <th>clean_text</th>\n",
       "      <th>msg_tokenized</th>\n",
       "      <th>Final_data</th>\n",
       "    </tr>\n",
       "  </thead>\n",
       "  <tbody>\n",
       "    <tr>\n",
       "      <th>0</th>\n",
       "      <td>does anyone else get anxious with working? im scared that im going to have to do repairs that cost of money.</td>\n",
       "      <td>Anxiety</td>\n",
       "      <td>0</td>\n",
       "      <td>does anyone else get anxious with working im scared that im going to have to do repairs that cost of money</td>\n",
       "      <td>[does, anyone, else, get, anxious, with, working, im, scared, that, im, going, to, have, to, do, repairs, that, cost, of, money]</td>\n",
       "      <td>[anyone, else, get, anxious, working, im, scared, im, going, repairs, cost, money]</td>\n",
       "    </tr>\n",
       "    <tr>\n",
       "      <th>1</th>\n",
       "      <td>help with anxiety-inducing fears about school caused by a health issue i'm 35 and planning to go back to grad school, but over the years i developed some eye floaters that i can mostly ignore. they are just out of my visible sight range when reading small books like novels, but i started studying for the gre with a big textbook and realized how obvious these floaters were now, and they've left me with anxiety about how i'm going to cope with school if, on top of everything else like how i'm no longer used to student life, how grad school is likely the hardest form of school i've ever done etc, add to that this problem with distracting floaters in my eyes that distract and annoy me.  i really don't know how to deal here. i am not confident in exposure therapy as i have had these floaters for a few years and really only learned to deal with them by changing my lifestyle such that i don't have to deal with them. it's not a big issue, and some junk in my eyes shouldn't be that much of a problem. but just now i just glanced at my book for a few minutes and now i'm dizzy with worry about it.  what to do?</td>\n",
       "      <td>Anxiety</td>\n",
       "      <td>0</td>\n",
       "      <td>help with anxietyinducing fears about school caused by a health issue im 35 and planning to go back to grad school but over the years i developed some eye floaters that i can mostly ignore they are just out of my visible sight range when reading small books like novels but i started studying for the gre with a big textbook and realized how obvious these floaters were now and theyve left me with anxiety about how im going to cope with school if on top of everything else like how im no longer used to student life how grad school is likely the hardest form of school ive ever done etc add to that this problem with distracting floaters in my eyes that distract and annoy me  i really dont know how to deal here i am not confident in exposure therapy as i have had these floaters for a few years and really only learned to deal with them by changing my lifestyle such that i dont have to deal with them its not a big issue and some junk in my eyes shouldnt be that much of a problem but just now i just glanced at my book for a few minutes and now im dizzy with worry about it  what to do</td>\n",
       "      <td>[help, with, anxietyinducing, fears, about, school, caused, by, a, health, issue, im, 35, and, planning, to, go, back, to, grad, school, but, over, the, years, i, developed, some, eye, floaters, that, i, can, mostly, ignore, they, are, just, out, of, my, visible, sight, range, when, reading, small, books, like, novels, but, i, started, studying, for, the, gre, with, a, big, textbook, and, realized, how, obvious, these, floaters, were, now, and, theyve, left, me, with, anxiety, about, how, im, going, to, cope, with, school, if, on, top, of, everything, else, like, how, im, no, longer, used, to, student, life, how, grad, ...]</td>\n",
       "      <td>[help, anxietyinducing, fears, school, caused, health, issue, im, 35, planning, go, back, grad, school, years, developed, eye, floaters, mostly, ignore, visible, sight, range, reading, small, books, like, novels, started, studying, gre, big, textbook, realized, obvious, floaters, theyve, left, anxiety, im, going, cope, school, top, everything, else, like, im, longer, used, student, life, grad, school, likely, hardest, form, school, ive, ever, done, etc, add, problem, distracting, floaters, eyes, distract, annoy, really, dont, know, deal, confident, exposure, therapy, floaters, years, really, learned, deal, changing, lifestyle, dont, deal, big, issue, junk, eyes, shouldnt, much, problem, glanced, book, minutes, im, dizzy, worry]</td>\n",
       "    </tr>\n",
       "    <tr>\n",
       "      <th>2</th>\n",
       "      <td>use up what's left and throw the rest away i recently returned from 6 years working overseas.  unfortunately in the last few years my drinking and stimulant became worse and was detrimental to my mental and physical health.  i'm doing fine now as far as that is concerned. attended therapy, clean and sober since november last year.  when i came back i heard a few of my \"friends\" use the following phrase,  \"we'll just use up what's left of him and then throw the rest away\"  i've never heard this before. i've always been a people pleasing personality type and i'm struggling hard to determine how to interpret it.  maybe i just don't want to face facts that it means exactly what it says... that by hanging around with these people i put myself in a weak position and they aren't real friends at all.  any thoughts?</td>\n",
       "      <td>Anxiety</td>\n",
       "      <td>0</td>\n",
       "      <td>use up whats left and throw the rest away i recently returned from 6 years working overseas  unfortunately in the last few years my drinking and stimulant became worse and was detrimental to my mental and physical health  im doing fine now as far as that is concerned attended therapy clean and sober since november last year  when i came back i heard a few of my friends use the following phrase  well just use up whats left of him and then throw the rest away  ive never heard this before ive always been a people pleasing personality type and im struggling hard to determine how to interpret it  maybe i just dont want to face facts that it means exactly what it says that by hanging around with these people i put myself in a weak position and they arent real friends at all  any thoughts</td>\n",
       "      <td>[use, up, whats, left, and, throw, the, rest, away, i, recently, returned, from, 6, years, working, overseas, unfortunately, in, the, last, few, years, my, drinking, and, stimulant, became, worse, and, was, detrimental, to, my, mental, and, physical, health, im, doing, fine, now, as, far, as, that, is, concerned, attended, therapy, clean, and, sober, since, november, last, year, when, i, came, back, i, heard, a, few, of, my, friends, use, the, following, phrase, well, just, use, up, whats, left, of, him, and, then, throw, the, rest, away, ive, never, heard, this, before, ive, always, been, a, people, pleasing, personality, type, and, ...]</td>\n",
       "      <td>[use, whats, left, throw, rest, away, recently, returned, 6, years, working, overseas, unfortunately, last, years, drinking, stimulant, became, worse, detrimental, mental, physical, health, im, fine, far, concerned, attended, therapy, clean, sober, since, november, last, year, came, back, heard, friends, use, following, phrase, well, use, whats, left, throw, rest, away, ive, never, heard, ive, always, people, pleasing, personality, type, im, struggling, hard, determine, interpret, maybe, dont, want, face, facts, means, exactly, says, hanging, around, people, put, weak, position, arent, real, friends, thoughts, ]</td>\n",
       "    </tr>\n",
       "    <tr>\n",
       "      <th>3</th>\n",
       "      <td>my brain is driving me crazy! im a perfectionist and think everyone hates me all the time. i literally always worried ive done something wrong.   im at my first big professional conference in a major us city. i barely slept last night because of a backache and nerves. that and the jet lag is impairing  my functioning and i have blotchy skin and my dress is riding up on my legs and ive had to pull it down. all i had to do today was register for the conference, but i was confused at every step and feel that everyone thinks im stupid or hungover or unprofessional or something. im walking around this city i do not know oblivious and feel embarrassed and stupid. my anxiety is killing me and men keep hitting on me. i havent been away from my husband since we moved in together and i feel so dumb and small.   im so scared for my presentation tomorrow. can someone either console me or kindly put me out of my misery?</td>\n",
       "      <td>Anxiety</td>\n",
       "      <td>0</td>\n",
       "      <td>my brain is driving me crazy im a perfectionist and think everyone hates me all the time i literally always worried ive done something wrong   im at my first big professional conference in a major us city i barely slept last night because of a backache and nerves that and the jet lag is impairing  my functioning and i have blotchy skin and my dress is riding up on my legs and ive had to pull it down all i had to do today was register for the conference but i was confused at every step and feel that everyone thinks im stupid or hungover or unprofessional or something im walking around this city i do not know oblivious and feel embarrassed and stupid my anxiety is killing me and men keep hitting on me i havent been away from my husband since we moved in together and i feel so dumb and small   im so scared for my presentation tomorrow can someone either console me or kindly put me out of my misery</td>\n",
       "      <td>[my, brain, is, driving, me, crazy, im, a, perfectionist, and, think, everyone, hates, me, all, the, time, i, literally, always, worried, ive, done, something, wrong, im, at, my, first, big, professional, conference, in, a, major, us, city, i, barely, slept, last, night, because, of, a, backache, and, nerves, that, and, the, jet, lag, is, impairing, my, functioning, and, i, have, blotchy, skin, and, my, dress, is, riding, up, on, my, legs, and, ive, had, to, pull, it, down, all, i, had, to, do, today, was, register, for, the, conference, but, i, was, confused, at, every, step, and, feel, that, everyone, ...]</td>\n",
       "      <td>[brain, driving, crazy, im, perfectionist, think, everyone, hates, time, literally, always, worried, ive, done, something, wrong, im, first, big, professional, conference, major, us, city, barely, slept, last, night, backache, nerves, jet, lag, impairing, functioning, blotchy, skin, dress, riding, legs, ive, pull, today, register, conference, confused, every, step, feel, everyone, thinks, im, stupid, hungover, unprofessional, something, im, walking, around, city, know, oblivious, feel, embarrassed, stupid, anxiety, killing, men, keep, hitting, havent, away, husband, since, moved, together, feel, dumb, small, im, scared, presentation, tomorrow, someone, either, console, kindly, put, misery, ]</td>\n",
       "    </tr>\n",
       "    <tr>\n",
       "      <th>4</th>\n",
       "      <td>does anyone else feel like the worst person ever if they annoy a friend? hey reddit. basically, i have mild anxiety. but something that really messes with my head is when i have a fall out or get a blunt text from a friend to say i annoyed them when i did something. my first response is always i'm sorry (and trying not to say it a million times over) but my mind then goes through this turmoil where i have all these esteem lowering thoughts along the lines of, they'll hate me forever now, or i'm such a horrible person, as well as being filled with guilt for upsetting the person.\\nit always turns out that whatever i did wrong only annoyed them for a short period of time and before i knew it life is back to normal, i just wish i could control the horrible negative wave that comes over me</td>\n",
       "      <td>Anxiety</td>\n",
       "      <td>0</td>\n",
       "      <td>does anyone else feel like the worst person ever if they annoy a friend hey reddit basically i have mild anxiety but something that really messes with my head is when i have a fall out or get a blunt text from a friend to say i annoyed them when i did something my first response is always im sorry and trying not to say it a million times over but my mind then goes through this turmoil where i have all these esteem lowering thoughts along the lines of theyll hate me forever now or im such a horrible person as well as being filled with guilt for upsetting the person  it always turns out that whatever i did wrong only annoyed them for a short period of time and before i knew it life is back to normal i just wish i could control the horrible negative wave that comes over me</td>\n",
       "      <td>[does, anyone, else, feel, like, the, worst, person, ever, if, they, annoy, a, friend, hey, reddit, basically, i, have, mild, anxiety, but, something, that, really, messes, with, my, head, is, when, i, have, a, fall, out, or, get, a, blunt, text, from, a, friend, to, say, i, annoyed, them, when, i, did, something, my, first, response, is, always, im, sorry, and, trying, not, to, say, it, a, million, times, over, but, my, mind, then, goes, through, this, turmoil, where, i, have, all, these, esteem, lowering, thoughts, along, the, lines, of, theyll, hate, me, forever, now, or, im, such, a, horrible, ...]</td>\n",
       "      <td>[anyone, else, feel, like, worst, person, ever, annoy, friend, hey, reddit, basically, mild, anxiety, something, really, messes, head, fall, get, blunt, text, friend, say, annoyed, something, first, response, always, im, sorry, trying, say, million, times, mind, goes, turmoil, esteem, lowering, thoughts, along, lines, theyll, hate, forever, im, horrible, person, well, filled, guilt, upsetting, person, always, turns, whatever, wrong, annoyed, short, period, time, knew, life, back, normal, wish, could, control, horrible, negative, wave, comes]</td>\n",
       "    </tr>\n",
       "  </tbody>\n",
       "</table>\n",
       "</div>"
      ],
      "text/plain": [
       "                                                                                                                                                                                                                                                                                                                                                                                                                                                                                                                                                                                                                                                                                                                                                                                                                                                                                                                                                                                                                                                                                                                                                          post  \\\n",
       "0  does anyone else get anxious with working? im scared that im going to have to do repairs that cost of money.                                                                                                                                                                                                                                                                                                                                                                                                                                                                                                                                                                                                                                                                                                                                                                                                                                                                                                                                                                                                                                                  \n",
       "1  help with anxiety-inducing fears about school caused by a health issue i'm 35 and planning to go back to grad school, but over the years i developed some eye floaters that i can mostly ignore. they are just out of my visible sight range when reading small books like novels, but i started studying for the gre with a big textbook and realized how obvious these floaters were now, and they've left me with anxiety about how i'm going to cope with school if, on top of everything else like how i'm no longer used to student life, how grad school is likely the hardest form of school i've ever done etc, add to that this problem with distracting floaters in my eyes that distract and annoy me.  i really don't know how to deal here. i am not confident in exposure therapy as i have had these floaters for a few years and really only learned to deal with them by changing my lifestyle such that i don't have to deal with them. it's not a big issue, and some junk in my eyes shouldn't be that much of a problem. but just now i just glanced at my book for a few minutes and now i'm dizzy with worry about it.  what to do?   \n",
       "2  use up what's left and throw the rest away i recently returned from 6 years working overseas.  unfortunately in the last few years my drinking and stimulant became worse and was detrimental to my mental and physical health.  i'm doing fine now as far as that is concerned. attended therapy, clean and sober since november last year.  when i came back i heard a few of my \"friends\" use the following phrase,  \"we'll just use up what's left of him and then throw the rest away\"  i've never heard this before. i've always been a people pleasing personality type and i'm struggling hard to determine how to interpret it.  maybe i just don't want to face facts that it means exactly what it says... that by hanging around with these people i put myself in a weak position and they aren't real friends at all.  any thoughts?                                                                                                                                                                                                                                                                                                            \n",
       "3  my brain is driving me crazy! im a perfectionist and think everyone hates me all the time. i literally always worried ive done something wrong.   im at my first big professional conference in a major us city. i barely slept last night because of a backache and nerves. that and the jet lag is impairing  my functioning and i have blotchy skin and my dress is riding up on my legs and ive had to pull it down. all i had to do today was register for the conference, but i was confused at every step and feel that everyone thinks im stupid or hungover or unprofessional or something. im walking around this city i do not know oblivious and feel embarrassed and stupid. my anxiety is killing me and men keep hitting on me. i havent been away from my husband since we moved in together and i feel so dumb and small.   im so scared for my presentation tomorrow. can someone either console me or kindly put me out of my misery?                                                                                                                                                                                                      \n",
       "4  does anyone else feel like the worst person ever if they annoy a friend? hey reddit. basically, i have mild anxiety. but something that really messes with my head is when i have a fall out or get a blunt text from a friend to say i annoyed them when i did something. my first response is always i'm sorry (and trying not to say it a million times over) but my mind then goes through this turmoil where i have all these esteem lowering thoughts along the lines of, they'll hate me forever now, or i'm such a horrible person, as well as being filled with guilt for upsetting the person.\\nit always turns out that whatever i did wrong only annoyed them for a short period of time and before i knew it life is back to normal, i just wish i could control the horrible negative wave that comes over me                                                                                                                                                                                                                                                                                                                                   \n",
       "\n",
       "    topics  category_id  \\\n",
       "0  Anxiety  0             \n",
       "1  Anxiety  0             \n",
       "2  Anxiety  0             \n",
       "3  Anxiety  0             \n",
       "4  Anxiety  0             \n",
       "\n",
       "                                                                                                                                                                                                                                                                                                                                                                                                                                                                                                                                                                                                                                                                                                                                                                                                                                                                                                                                                                                                                                                                                                                           clean_text  \\\n",
       "0  does anyone else get anxious with working im scared that im going to have to do repairs that cost of money                                                                                                                                                                                                                                                                                                                                                                                                                                                                                                                                                                                                                                                                                                                                                                                                                                                                                                                                                                                                                           \n",
       "1  help with anxietyinducing fears about school caused by a health issue im 35 and planning to go back to grad school but over the years i developed some eye floaters that i can mostly ignore they are just out of my visible sight range when reading small books like novels but i started studying for the gre with a big textbook and realized how obvious these floaters were now and theyve left me with anxiety about how im going to cope with school if on top of everything else like how im no longer used to student life how grad school is likely the hardest form of school ive ever done etc add to that this problem with distracting floaters in my eyes that distract and annoy me  i really dont know how to deal here i am not confident in exposure therapy as i have had these floaters for a few years and really only learned to deal with them by changing my lifestyle such that i dont have to deal with them its not a big issue and some junk in my eyes shouldnt be that much of a problem but just now i just glanced at my book for a few minutes and now im dizzy with worry about it  what to do   \n",
       "2  use up whats left and throw the rest away i recently returned from 6 years working overseas  unfortunately in the last few years my drinking and stimulant became worse and was detrimental to my mental and physical health  im doing fine now as far as that is concerned attended therapy clean and sober since november last year  when i came back i heard a few of my friends use the following phrase  well just use up whats left of him and then throw the rest away  ive never heard this before ive always been a people pleasing personality type and im struggling hard to determine how to interpret it  maybe i just dont want to face facts that it means exactly what it says that by hanging around with these people i put myself in a weak position and they arent real friends at all  any thoughts                                                                                                                                                                                                                                                                                                             \n",
       "3  my brain is driving me crazy im a perfectionist and think everyone hates me all the time i literally always worried ive done something wrong   im at my first big professional conference in a major us city i barely slept last night because of a backache and nerves that and the jet lag is impairing  my functioning and i have blotchy skin and my dress is riding up on my legs and ive had to pull it down all i had to do today was register for the conference but i was confused at every step and feel that everyone thinks im stupid or hungover or unprofessional or something im walking around this city i do not know oblivious and feel embarrassed and stupid my anxiety is killing me and men keep hitting on me i havent been away from my husband since we moved in together and i feel so dumb and small   im so scared for my presentation tomorrow can someone either console me or kindly put me out of my misery                                                                                                                                                                                          \n",
       "4  does anyone else feel like the worst person ever if they annoy a friend hey reddit basically i have mild anxiety but something that really messes with my head is when i have a fall out or get a blunt text from a friend to say i annoyed them when i did something my first response is always im sorry and trying not to say it a million times over but my mind then goes through this turmoil where i have all these esteem lowering thoughts along the lines of theyll hate me forever now or im such a horrible person as well as being filled with guilt for upsetting the person  it always turns out that whatever i did wrong only annoyed them for a short period of time and before i knew it life is back to normal i just wish i could control the horrible negative wave that comes over me                                                                                                                                                                                                                                                                                                                         \n",
       "\n",
       "                                                                                                                                                                                                                                                                                                                                                                                                                                                                                                                                                                                                                                                            msg_tokenized  \\\n",
       "0  [does, anyone, else, get, anxious, with, working, im, scared, that, im, going, to, have, to, do, repairs, that, cost, of, money]                                                                                                                                                                                                                                                                                                                                                                                                                                                                                                                                         \n",
       "1  [help, with, anxietyinducing, fears, about, school, caused, by, a, health, issue, im, 35, and, planning, to, go, back, to, grad, school, but, over, the, years, i, developed, some, eye, floaters, that, i, can, mostly, ignore, they, are, just, out, of, my, visible, sight, range, when, reading, small, books, like, novels, but, i, started, studying, for, the, gre, with, a, big, textbook, and, realized, how, obvious, these, floaters, were, now, and, theyve, left, me, with, anxiety, about, how, im, going, to, cope, with, school, if, on, top, of, everything, else, like, how, im, no, longer, used, to, student, life, how, grad, ...]                  \n",
       "2  [use, up, whats, left, and, throw, the, rest, away, i, recently, returned, from, 6, years, working, overseas, unfortunately, in, the, last, few, years, my, drinking, and, stimulant, became, worse, and, was, detrimental, to, my, mental, and, physical, health, im, doing, fine, now, as, far, as, that, is, concerned, attended, therapy, clean, and, sober, since, november, last, year, when, i, came, back, i, heard, a, few, of, my, friends, use, the, following, phrase, well, just, use, up, whats, left, of, him, and, then, throw, the, rest, away, ive, never, heard, this, before, ive, always, been, a, people, pleasing, personality, type, and, ...]   \n",
       "3  [my, brain, is, driving, me, crazy, im, a, perfectionist, and, think, everyone, hates, me, all, the, time, i, literally, always, worried, ive, done, something, wrong, im, at, my, first, big, professional, conference, in, a, major, us, city, i, barely, slept, last, night, because, of, a, backache, and, nerves, that, and, the, jet, lag, is, impairing, my, functioning, and, i, have, blotchy, skin, and, my, dress, is, riding, up, on, my, legs, and, ive, had, to, pull, it, down, all, i, had, to, do, today, was, register, for, the, conference, but, i, was, confused, at, every, step, and, feel, that, everyone, ...]                                  \n",
       "4  [does, anyone, else, feel, like, the, worst, person, ever, if, they, annoy, a, friend, hey, reddit, basically, i, have, mild, anxiety, but, something, that, really, messes, with, my, head, is, when, i, have, a, fall, out, or, get, a, blunt, text, from, a, friend, to, say, i, annoyed, them, when, i, did, something, my, first, response, is, always, im, sorry, and, trying, not, to, say, it, a, million, times, over, but, my, mind, then, goes, through, this, turmoil, where, i, have, all, these, esteem, lowering, thoughts, along, the, lines, of, theyll, hate, me, forever, now, or, im, such, a, horrible, ...]                                        \n",
       "\n",
       "                                                                                                                                                                                                                                                                                                                                                                                                                                                                                                                                                                                                                                                                                                                                                          Final_data  \n",
       "0  [anyone, else, get, anxious, working, im, scared, im, going, repairs, cost, money]                                                                                                                                                                                                                                                                                                                                                                                                                                                                                                                                                                                                                                                                                 \n",
       "1  [help, anxietyinducing, fears, school, caused, health, issue, im, 35, planning, go, back, grad, school, years, developed, eye, floaters, mostly, ignore, visible, sight, range, reading, small, books, like, novels, started, studying, gre, big, textbook, realized, obvious, floaters, theyve, left, anxiety, im, going, cope, school, top, everything, else, like, im, longer, used, student, life, grad, school, likely, hardest, form, school, ive, ever, done, etc, add, problem, distracting, floaters, eyes, distract, annoy, really, dont, know, deal, confident, exposure, therapy, floaters, years, really, learned, deal, changing, lifestyle, dont, deal, big, issue, junk, eyes, shouldnt, much, problem, glanced, book, minutes, im, dizzy, worry]  \n",
       "2  [use, whats, left, throw, rest, away, recently, returned, 6, years, working, overseas, unfortunately, last, years, drinking, stimulant, became, worse, detrimental, mental, physical, health, im, fine, far, concerned, attended, therapy, clean, sober, since, november, last, year, came, back, heard, friends, use, following, phrase, well, use, whats, left, throw, rest, away, ive, never, heard, ive, always, people, pleasing, personality, type, im, struggling, hard, determine, interpret, maybe, dont, want, face, facts, means, exactly, says, hanging, around, people, put, weak, position, arent, real, friends, thoughts, ]                                                                                                                        \n",
       "3  [brain, driving, crazy, im, perfectionist, think, everyone, hates, time, literally, always, worried, ive, done, something, wrong, im, first, big, professional, conference, major, us, city, barely, slept, last, night, backache, nerves, jet, lag, impairing, functioning, blotchy, skin, dress, riding, legs, ive, pull, today, register, conference, confused, every, step, feel, everyone, thinks, im, stupid, hungover, unprofessional, something, im, walking, around, city, know, oblivious, feel, embarrassed, stupid, anxiety, killing, men, keep, hitting, havent, away, husband, since, moved, together, feel, dumb, small, im, scared, presentation, tomorrow, someone, either, console, kindly, put, misery, ]                                       \n",
       "4  [anyone, else, feel, like, worst, person, ever, annoy, friend, hey, reddit, basically, mild, anxiety, something, really, messes, head, fall, get, blunt, text, friend, say, annoyed, something, first, response, always, im, sorry, trying, say, million, times, mind, goes, turmoil, esteem, lowering, thoughts, along, lines, theyll, hate, forever, im, horrible, person, well, filled, guilt, upsetting, person, always, turns, whatever, wrong, annoyed, short, period, time, knew, life, back, normal, wish, could, control, horrible, negative, wave, comes]                                                                                                                                                                                                "
      ]
     },
     "execution_count": 363,
     "metadata": {},
     "output_type": "execute_result"
    }
   ],
   "source": [
    "from nltk.corpus import stopwords\n",
    "stop_words = stopwords.words('english')\n",
    "print(stop_words)\n",
    "def remove_stopwords(post):\n",
    "    st=[word for word in post if word not in stop_words]\n",
    "    return st\n",
    "#applying function to the column\n",
    "data['Final_data']= data['msg_tokenized'].apply(lambda x: remove_stopwords(x))\n",
    "data.head()"
   ]
  },
  {
   "cell_type": "code",
   "execution_count": 364,
   "id": "e18a32fa",
   "metadata": {},
   "outputs": [
    {
     "ename": "AttributeError",
     "evalue": "'list' object has no attribute 'lower'",
     "output_type": "error",
     "traceback": [
      "\u001b[1;31m---------------------------------------------------------------------------\u001b[0m",
      "\u001b[1;31mAttributeError\u001b[0m                            Traceback (most recent call last)",
      "Input \u001b[1;32mIn [364]\u001b[0m, in \u001b[0;36m<cell line: 20>\u001b[1;34m()\u001b[0m\n\u001b[0;32m     15\u001b[0m tfidf \u001b[38;5;241m=\u001b[39m TfidfVectorizer(sublinear_tf\u001b[38;5;241m=\u001b[39m\u001b[38;5;28;01mTrue\u001b[39;00m, min_df\u001b[38;5;241m=\u001b[39m\u001b[38;5;241m5\u001b[39m,\n\u001b[0;32m     16\u001b[0m                         ngram_range\u001b[38;5;241m=\u001b[39m(\u001b[38;5;241m1\u001b[39m, \u001b[38;5;241m2\u001b[39m),\n\u001b[0;32m     17\u001b[0m                         stop_words\u001b[38;5;241m=\u001b[39m\u001b[38;5;124m'\u001b[39m\u001b[38;5;124menglish\u001b[39m\u001b[38;5;124m'\u001b[39m\n\u001b[0;32m     18\u001b[0m                         )\n\u001b[0;32m     19\u001b[0m \u001b[38;5;66;03m# We transform each complaint into a vector\u001b[39;00m\n\u001b[1;32m---> 20\u001b[0m features \u001b[38;5;241m=\u001b[39m \u001b[43mtfidf\u001b[49m\u001b[38;5;241;43m.\u001b[39;49m\u001b[43mfit_transform\u001b[49m\u001b[43m(\u001b[49m\u001b[43mdata\u001b[49m\u001b[38;5;241;43m.\u001b[39;49m\u001b[43mFinal_data\u001b[49m\u001b[43m)\u001b[49m\u001b[38;5;241m.\u001b[39mtoarray()\n\u001b[0;32m     21\u001b[0m labels \u001b[38;5;241m=\u001b[39m data\u001b[38;5;241m.\u001b[39mcategory_id\n\u001b[0;32m     22\u001b[0m \u001b[38;5;28mprint\u001b[39m(\u001b[38;5;124m\"\u001b[39m\u001b[38;5;124mEach of the \u001b[39m\u001b[38;5;132;01m%d\u001b[39;00m\u001b[38;5;124m posts is represented by \u001b[39m\u001b[38;5;132;01m%d\u001b[39;00m\u001b[38;5;124m features (TF-IDF score of unigrams and bigrams)\u001b[39m\u001b[38;5;124m\"\u001b[39m \u001b[38;5;241m%\u001b[39m(features\u001b[38;5;241m.\u001b[39mshape))\n",
      "File \u001b[1;32m~\\anaconda3\\lib\\site-packages\\sklearn\\feature_extraction\\text.py:2079\u001b[0m, in \u001b[0;36mTfidfVectorizer.fit_transform\u001b[1;34m(self, raw_documents, y)\u001b[0m\n\u001b[0;32m   2072\u001b[0m \u001b[38;5;28mself\u001b[39m\u001b[38;5;241m.\u001b[39m_check_params()\n\u001b[0;32m   2073\u001b[0m \u001b[38;5;28mself\u001b[39m\u001b[38;5;241m.\u001b[39m_tfidf \u001b[38;5;241m=\u001b[39m TfidfTransformer(\n\u001b[0;32m   2074\u001b[0m     norm\u001b[38;5;241m=\u001b[39m\u001b[38;5;28mself\u001b[39m\u001b[38;5;241m.\u001b[39mnorm,\n\u001b[0;32m   2075\u001b[0m     use_idf\u001b[38;5;241m=\u001b[39m\u001b[38;5;28mself\u001b[39m\u001b[38;5;241m.\u001b[39muse_idf,\n\u001b[0;32m   2076\u001b[0m     smooth_idf\u001b[38;5;241m=\u001b[39m\u001b[38;5;28mself\u001b[39m\u001b[38;5;241m.\u001b[39msmooth_idf,\n\u001b[0;32m   2077\u001b[0m     sublinear_tf\u001b[38;5;241m=\u001b[39m\u001b[38;5;28mself\u001b[39m\u001b[38;5;241m.\u001b[39msublinear_tf,\n\u001b[0;32m   2078\u001b[0m )\n\u001b[1;32m-> 2079\u001b[0m X \u001b[38;5;241m=\u001b[39m \u001b[38;5;28;43msuper\u001b[39;49m\u001b[43m(\u001b[49m\u001b[43m)\u001b[49m\u001b[38;5;241;43m.\u001b[39;49m\u001b[43mfit_transform\u001b[49m\u001b[43m(\u001b[49m\u001b[43mraw_documents\u001b[49m\u001b[43m)\u001b[49m\n\u001b[0;32m   2080\u001b[0m \u001b[38;5;28mself\u001b[39m\u001b[38;5;241m.\u001b[39m_tfidf\u001b[38;5;241m.\u001b[39mfit(X)\n\u001b[0;32m   2081\u001b[0m \u001b[38;5;66;03m# X is already a transformed view of raw_documents so\u001b[39;00m\n\u001b[0;32m   2082\u001b[0m \u001b[38;5;66;03m# we set copy to False\u001b[39;00m\n",
      "File \u001b[1;32m~\\anaconda3\\lib\\site-packages\\sklearn\\feature_extraction\\text.py:1338\u001b[0m, in \u001b[0;36mCountVectorizer.fit_transform\u001b[1;34m(self, raw_documents, y)\u001b[0m\n\u001b[0;32m   1330\u001b[0m             warnings\u001b[38;5;241m.\u001b[39mwarn(\n\u001b[0;32m   1331\u001b[0m                 \u001b[38;5;124m\"\u001b[39m\u001b[38;5;124mUpper case characters found in\u001b[39m\u001b[38;5;124m\"\u001b[39m\n\u001b[0;32m   1332\u001b[0m                 \u001b[38;5;124m\"\u001b[39m\u001b[38;5;124m vocabulary while \u001b[39m\u001b[38;5;124m'\u001b[39m\u001b[38;5;124mlowercase\u001b[39m\u001b[38;5;124m'\u001b[39m\u001b[38;5;124m\"\u001b[39m\n\u001b[0;32m   1333\u001b[0m                 \u001b[38;5;124m\"\u001b[39m\u001b[38;5;124m is True. These entries will not\u001b[39m\u001b[38;5;124m\"\u001b[39m\n\u001b[0;32m   1334\u001b[0m                 \u001b[38;5;124m\"\u001b[39m\u001b[38;5;124m be matched with any documents\u001b[39m\u001b[38;5;124m\"\u001b[39m\n\u001b[0;32m   1335\u001b[0m             )\n\u001b[0;32m   1336\u001b[0m             \u001b[38;5;28;01mbreak\u001b[39;00m\n\u001b[1;32m-> 1338\u001b[0m vocabulary, X \u001b[38;5;241m=\u001b[39m \u001b[38;5;28;43mself\u001b[39;49m\u001b[38;5;241;43m.\u001b[39;49m\u001b[43m_count_vocab\u001b[49m\u001b[43m(\u001b[49m\u001b[43mraw_documents\u001b[49m\u001b[43m,\u001b[49m\u001b[43m \u001b[49m\u001b[38;5;28;43mself\u001b[39;49m\u001b[38;5;241;43m.\u001b[39;49m\u001b[43mfixed_vocabulary_\u001b[49m\u001b[43m)\u001b[49m\n\u001b[0;32m   1340\u001b[0m \u001b[38;5;28;01mif\u001b[39;00m \u001b[38;5;28mself\u001b[39m\u001b[38;5;241m.\u001b[39mbinary:\n\u001b[0;32m   1341\u001b[0m     X\u001b[38;5;241m.\u001b[39mdata\u001b[38;5;241m.\u001b[39mfill(\u001b[38;5;241m1\u001b[39m)\n",
      "File \u001b[1;32m~\\anaconda3\\lib\\site-packages\\sklearn\\feature_extraction\\text.py:1209\u001b[0m, in \u001b[0;36mCountVectorizer._count_vocab\u001b[1;34m(self, raw_documents, fixed_vocab)\u001b[0m\n\u001b[0;32m   1207\u001b[0m \u001b[38;5;28;01mfor\u001b[39;00m doc \u001b[38;5;129;01min\u001b[39;00m raw_documents:\n\u001b[0;32m   1208\u001b[0m     feature_counter \u001b[38;5;241m=\u001b[39m {}\n\u001b[1;32m-> 1209\u001b[0m     \u001b[38;5;28;01mfor\u001b[39;00m feature \u001b[38;5;129;01min\u001b[39;00m \u001b[43manalyze\u001b[49m\u001b[43m(\u001b[49m\u001b[43mdoc\u001b[49m\u001b[43m)\u001b[49m:\n\u001b[0;32m   1210\u001b[0m         \u001b[38;5;28;01mtry\u001b[39;00m:\n\u001b[0;32m   1211\u001b[0m             feature_idx \u001b[38;5;241m=\u001b[39m vocabulary[feature]\n",
      "File \u001b[1;32m~\\anaconda3\\lib\\site-packages\\sklearn\\feature_extraction\\text.py:111\u001b[0m, in \u001b[0;36m_analyze\u001b[1;34m(doc, analyzer, tokenizer, ngrams, preprocessor, decoder, stop_words)\u001b[0m\n\u001b[0;32m    109\u001b[0m \u001b[38;5;28;01melse\u001b[39;00m:\n\u001b[0;32m    110\u001b[0m     \u001b[38;5;28;01mif\u001b[39;00m preprocessor \u001b[38;5;129;01mis\u001b[39;00m \u001b[38;5;129;01mnot\u001b[39;00m \u001b[38;5;28;01mNone\u001b[39;00m:\n\u001b[1;32m--> 111\u001b[0m         doc \u001b[38;5;241m=\u001b[39m \u001b[43mpreprocessor\u001b[49m\u001b[43m(\u001b[49m\u001b[43mdoc\u001b[49m\u001b[43m)\u001b[49m\n\u001b[0;32m    112\u001b[0m     \u001b[38;5;28;01mif\u001b[39;00m tokenizer \u001b[38;5;129;01mis\u001b[39;00m \u001b[38;5;129;01mnot\u001b[39;00m \u001b[38;5;28;01mNone\u001b[39;00m:\n\u001b[0;32m    113\u001b[0m         doc \u001b[38;5;241m=\u001b[39m tokenizer(doc)\n",
      "File \u001b[1;32m~\\anaconda3\\lib\\site-packages\\sklearn\\feature_extraction\\text.py:69\u001b[0m, in \u001b[0;36m_preprocess\u001b[1;34m(doc, accent_function, lower)\u001b[0m\n\u001b[0;32m     50\u001b[0m \u001b[38;5;124;03m\"\"\"Chain together an optional series of text preprocessing steps to\u001b[39;00m\n\u001b[0;32m     51\u001b[0m \u001b[38;5;124;03mapply to a document.\u001b[39;00m\n\u001b[0;32m     52\u001b[0m \n\u001b[1;32m   (...)\u001b[0m\n\u001b[0;32m     66\u001b[0m \u001b[38;5;124;03m    preprocessed string\u001b[39;00m\n\u001b[0;32m     67\u001b[0m \u001b[38;5;124;03m\"\"\"\u001b[39;00m\n\u001b[0;32m     68\u001b[0m \u001b[38;5;28;01mif\u001b[39;00m lower:\n\u001b[1;32m---> 69\u001b[0m     doc \u001b[38;5;241m=\u001b[39m \u001b[43mdoc\u001b[49m\u001b[38;5;241;43m.\u001b[39;49m\u001b[43mlower\u001b[49m()\n\u001b[0;32m     70\u001b[0m \u001b[38;5;28;01mif\u001b[39;00m accent_function \u001b[38;5;129;01mis\u001b[39;00m \u001b[38;5;129;01mnot\u001b[39;00m \u001b[38;5;28;01mNone\u001b[39;00m:\n\u001b[0;32m     71\u001b[0m     doc \u001b[38;5;241m=\u001b[39m accent_function(doc)\n",
      "\u001b[1;31mAttributeError\u001b[0m: 'list' object has no attribute 'lower'"
     ]
    }
   ],
   "source": [
    "from sklearn.feature_extraction.text import CountVectorizer, TfidfVectorizer\n",
    "from sklearn.naive_bayes import MultinomialNB\n",
    "from sklearn.pipeline import Pipeline\n",
    "from sklearn.feature_extraction.text import TfidfTransformer\n",
    "import os\n",
    "\n",
    "from scipy.stats import randint\n",
    "\n",
    "\n",
    "from io import StringIO\n",
    "from sklearn.feature_selection import chi2\n",
    "from IPython.display import display\n",
    "from sklearn.model_selection import train_test_split\n",
    "from sklearn.feature_extraction.text import TfidfTransformer\n",
    "tfidf = TfidfVectorizer(sublinear_tf=True, min_df=5,\n",
    "                        ngram_range=(1, 2),\n",
    "                        stop_words='english'\n",
    "                        )\n",
    "# We transform each complaint into a vector\n",
    "features = tfidf.fit_transform(data.Final_data).toarray()\n",
    "labels = data.category_id\n",
    "print(\"Each of the %d posts is represented by %d features (TF-IDF score of unigrams and bigrams)\" %(features.shape))\n"
   ]
  },
  {
   "cell_type": "code",
   "execution_count": null,
   "id": "c4a99999",
   "metadata": {},
   "outputs": [],
   "source": []
  },
  {
   "cell_type": "code",
   "execution_count": null,
   "id": "3ff76250",
   "metadata": {},
   "outputs": [],
   "source": []
  },
  {
   "cell_type": "code",
   "execution_count": null,
   "id": "ae94ed0e",
   "metadata": {},
   "outputs": [],
   "source": []
  },
  {
   "cell_type": "code",
   "execution_count": null,
   "id": "d2203b9e",
   "metadata": {},
   "outputs": [],
   "source": []
  },
  {
   "cell_type": "code",
   "execution_count": null,
   "id": "762e86c9",
   "metadata": {},
   "outputs": [],
   "source": []
  },
  {
   "cell_type": "code",
   "execution_count": null,
   "id": "708c0aa4",
   "metadata": {},
   "outputs": [],
   "source": []
  },
  {
   "cell_type": "code",
   "execution_count": null,
   "id": "30a6f4d4",
   "metadata": {},
   "outputs": [],
   "source": []
  }
 ],
 "metadata": {
  "kernelspec": {
   "display_name": "Python 3 (ipykernel)",
   "language": "python",
   "name": "python3"
  },
  "language_info": {
   "codemirror_mode": {
    "name": "ipython",
    "version": 3
   },
   "file_extension": ".py",
   "mimetype": "text/x-python",
   "name": "python",
   "nbconvert_exporter": "python",
   "pygments_lexer": "ipython3",
   "version": "3.9.12"
  }
 },
 "nbformat": 4,
 "nbformat_minor": 5
}
